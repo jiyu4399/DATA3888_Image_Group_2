version https://git-lfs.github.com/spec/v1
oid sha256:454e7d3699c2f47f4bba8fad24cf61758213ed5bc56df0b2ba062d728d9e8655
size 153642
