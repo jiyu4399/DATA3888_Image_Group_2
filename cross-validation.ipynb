version https://git-lfs.github.com/spec/v1
oid sha256:27a573c75af76dc9264a27668a92256d9aa25c8a09eda570bb849e2d0ccd0d35
size 63880
