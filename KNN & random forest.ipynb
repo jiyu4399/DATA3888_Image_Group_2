{
 "cells": [
  {
   "cell_type": "markdown",
   "id": "6d924996-e8ce-463b-af5b-f4ad957fd61e",
   "metadata": {},
   "source": [
    "# Part A\n",
    "You should only need to run this once, after that can simply load in the saved images as done in part B."
   ]
  },
  {
   "cell_type": "code",
   "execution_count": 9,
   "id": "c14404a2-0cc1-4354-b511-edae3599c174",
   "metadata": {},
   "outputs": [],
   "source": [
    "import matplotlib.pyplot as plt\n",
    "import matplotlib.cm as cm\n",
    "from PIL import Image, ImageOps\n",
    "Image.MAX_IMAGE_PIXELS = None\n",
    "import pandas as pd\n",
    "import random\n",
    "import numpy as np\n",
    "import os"
   ]
  },
  {
   "cell_type": "code",
   "execution_count": 32,
   "id": "2c26371f-2418-4c92-9475-3bbefc42a0fe",
   "metadata": {},
   "outputs": [],
   "source": [
    "%matplotlib inline\n",
    "\n",
    "# Open the .tif file\n",
    "img = Image.open(\"/Users/khanhha/Desktop/Y3_S1/DATA3888/DATA3888_Project/Biotechnology/data_processed/morphology_focus.tif\")\n",
    "\n",
    "\n",
    "# Convert to numpy array\n",
    "image_array = np.array(img)\n",
    "\n",
    "# Calculate the quantile to scale intensity\n",
    "quantile_value = np.quantile(image_array, 0.99)\n",
    "\n",
    "# Scale intensity by dividing by the quantile\n",
    "scaled_image_array = image_array / quantile_value\n",
    "\n",
    "# Clip values greater than 1 to ensure image is within [0, 1] range\n",
    "img2 = np.clip(scaled_image_array, 0, 1)\n",
    "\n",
    "# Display the scaled image\n",
    "# plt.imshow(img2, cmap='gray')  # Uncomment this line and below to display the whole image (this runs slow)\n",
    "# plt.show()"
   ]
  },
  {
   "cell_type": "code",
   "execution_count": 33,
   "id": "2073bb61-aa55-4703-bc67-946a0fe0d9ad",
   "metadata": {},
   "outputs": [],
   "source": [
    "cell_boundaries = pd.read_csv(\"/Users/khanhha/Desktop/Y3_S1/DATA3888/DATA3888_Project/Biotechnology/data_processed/cell_boundaries.csv.gz\")\n",
    "cell_boundaries['vertex_x_trans'] = cell_boundaries['vertex_x'].apply(lambda x: int(x/0.2125))\n",
    "cell_boundaries['vertex_y_trans'] = cell_boundaries['vertex_y'].apply(lambda x: int(x/0.2125))"
   ]
  },
  {
   "cell_type": "code",
   "execution_count": 34,
   "id": "f80df594-65c0-42d2-ae23-adbd7b2c527d",
   "metadata": {},
   "outputs": [
    {
     "data": {
      "text/plain": [
       "36553"
      ]
     },
     "execution_count": 34,
     "metadata": {},
     "output_type": "execute_result"
    }
   ],
   "source": [
    "clusters = pd.read_csv(\"/Users/khanhha/Desktop/Y3_S1/DATA3888/DATA3888_Project/Biotechnology/data_processed/clusters.csv\")\n",
    "ncells = clusters.shape[0]\n",
    "ncells"
   ]
  },
  {
   "cell_type": "code",
   "execution_count": 35,
   "id": "3f5f1d77-d687-4497-aed5-198d9415af67",
   "metadata": {},
   "outputs": [],
   "source": [
    "img_pix = np.array(img)"
   ]
  },
  {
   "cell_type": "code",
   "execution_count": 10,
   "id": "da67cf77-541f-4439-9759-7a8e93284115",
   "metadata": {},
   "outputs": [
    {
     "ename": "NameError",
     "evalue": "name 'ncells' is not defined",
     "output_type": "error",
     "traceback": [
      "\u001b[1;31m---------------------------------------------------------------------------\u001b[0m",
      "\u001b[1;31mNameError\u001b[0m                                 Traceback (most recent call last)",
      "\u001b[1;32m~\\AppData\\Local\\Temp\\ipykernel_26504\\2222999087.py\u001b[0m in \u001b[0;36m<module>\u001b[1;34m\u001b[0m\n\u001b[0;32m      3\u001b[0m \u001b[0mncells_subset\u001b[0m \u001b[1;33m=\u001b[0m \u001b[1;36m1000\u001b[0m\u001b[1;33m\u001b[0m\u001b[1;33m\u001b[0m\u001b[0m\n\u001b[0;32m      4\u001b[0m \u001b[1;33m\u001b[0m\u001b[0m\n\u001b[1;32m----> 5\u001b[1;33m \u001b[0mcells_subset\u001b[0m \u001b[1;33m=\u001b[0m \u001b[0mrandom\u001b[0m\u001b[1;33m.\u001b[0m\u001b[0msample\u001b[0m\u001b[1;33m(\u001b[0m\u001b[0mrange\u001b[0m\u001b[1;33m(\u001b[0m\u001b[0mncells\u001b[0m\u001b[1;33m)\u001b[0m\u001b[1;33m,\u001b[0m \u001b[0mncells_subset\u001b[0m\u001b[1;33m)\u001b[0m\u001b[1;33m\u001b[0m\u001b[1;33m\u001b[0m\u001b[0m\n\u001b[0m\u001b[0;32m      6\u001b[0m \u001b[1;33m\u001b[0m\u001b[0m\n\u001b[0;32m      7\u001b[0m \u001b[1;31m# clusters.loc[cells_subset, \"Cluster\"]\u001b[0m\u001b[1;33m\u001b[0m\u001b[1;33m\u001b[0m\u001b[0m\n",
      "\u001b[1;31mNameError\u001b[0m: name 'ncells' is not defined"
     ]
    }
   ],
   "source": [
    "random.seed(2024)\n",
    "\n",
    "ncells_subset = 1000\n",
    "\n",
    "cells_subset = random.sample(range(ncells), ncells_subset)\n",
    "\n",
    "# clusters.loc[cells_subset, \"Cluster\"]\n",
    "\n",
    "for i in cells_subset:\n",
    "    # extract the boundary vertices for the selected cell\n",
    "    bounds_i = cell_boundaries.loc[cell_boundaries[\"cell_id\"] == i]\n",
    "\n",
    "    # extract the cluster value for the selected cell\n",
    "    clustval_i = clusters.loc[i,\"Cluster\"]\n",
    "\n",
    "    # extract the pixel intensities for the area covering the cell boundary\n",
    "    img_sub = img_pix[min(bounds_i[\"vertex_y_trans\"]):max(bounds_i[\"vertex_y_trans\"]),\n",
    "                min(bounds_i[\"vertex_x_trans\"]):max(bounds_i[\"vertex_x_trans\"])]\n",
    "\n",
    "    # normalise the pixel intensities according to 99th percentile\n",
    "    img_sub_norm = img_sub/np.quantile(img_sub, 0.99)\n",
    "\n",
    "    # as an example, display the image for the first selected cell\n",
    "    if i in cells_subset[0:5]:\n",
    "        print(f'Displaying image for cell {i}')\n",
    "        # plt.imshow(img_sub_norm, cmap=\"gray\")  # Uncomment this line and below to display sample cell images\n",
    "        # plt.show()\n",
    "\n",
    "    # create directory for images if it doesn't exist\n",
    "    cell_dir = os.path.join(os.getcwd(), '/Users/khanhha/Desktop/Y3_S1/DATA3888/DATA3888_Project/Biotechnology/data_processed/cell_images_py')\n",
    "    if not os.path.exists(cell_dir):\n",
    "        os.mkdir(cell_dir)\n",
    "\n",
    "    # create directory for cluster if it doesn't exist\n",
    "    clust_dir = os.path.join(cell_dir, f'cluster_{clustval_i}')\n",
    "    if not os.path.exists(clust_dir):\n",
    "        os.mkdir(clust_dir)\n",
    "\n",
    "    # save extracted image as a png file\n",
    "    plt.imsave(os.path.join(clust_dir, f'cell_{i}.png'), img_sub_norm, cmap=\"gray\")"
   ]
  },
  {
   "cell_type": "markdown",
   "id": "5fc390c6-93a7-4f7a-8590-a815f558c372",
   "metadata": {},
   "source": [
    "# Part B"
   ]
  },
  {
   "cell_type": "markdown",
   "id": "2edcab59-5cf0-43ba-8d87-bc9ef73da3dc",
   "metadata": {},
   "source": [
    "### Setup"
   ]
  },
  {
   "cell_type": "code",
   "execution_count": 37,
   "id": "4a375486-9ec4-4acc-8318-89a53f6973d5",
   "metadata": {},
   "outputs": [],
   "source": [
    "import matplotlib.pyplot as plt\n",
    "import matplotlib.cm as cm\n",
    "from PIL import Image, ImageOps\n",
    "Image.MAX_IMAGE_PIXELS = None\n",
    "import pandas as pd\n",
    "import random \n",
    "import numpy as np\n",
    "import os\n",
    "import re"
   ]
  },
  {
   "cell_type": "code",
   "execution_count": 38,
   "id": "ed737d09-2bae-48d5-a218-f9ad833bef37",
   "metadata": {},
   "outputs": [],
   "source": [
    "DATA_DIRECTORY = os.path.abspath('/Users/khanhha/Desktop/Y3_S1/DATA3888/DATA3888_Project/Biotechnology/data_processed')\n",
    "CELL_IMAGES = os.path.join(DATA_DIRECTORY, 'cell_images_py')\n",
    "SIZE=(50, 50)"
   ]
  },
  {
   "cell_type": "markdown",
   "id": "558bbf8c-2d5a-40d3-b546-c6497bad4572",
   "metadata": {},
   "source": [
    "## Loading in and displaying images"
   ]
  },
  {
   "cell_type": "code",
   "execution_count": 39,
   "id": "2a49e3bc-aa94-406a-8aeb-7b8b566a3cce",
   "metadata": {},
   "outputs": [],
   "source": [
    "def get_cluster_images(cluster: int, size=(None, None)):\n",
    "    DIR = os.path.join(CELL_IMAGES, f'cluster_{cluster}')\n",
    "    files = [os.path.join(DIR, file) for file in os.listdir(DIR)]\n",
    "    return [Image.open(file).convert(\"L\") if None in size else Image.open(file).convert(\"L\").resize(size) for file in files]"
   ]
  },
  {
   "cell_type": "code",
   "execution_count": 40,
   "id": "abd3805f-3bed-4407-9897-1443156124bb",
   "metadata": {},
   "outputs": [],
   "source": [
    "# cluster_A_files = os.path.join(CELL_IMAGES, os.listdir(os.path.join(CELL_IMAGES, 'cluster_8')))\n",
    "cluster_A_files = [os.path.join(os.path.join(CELL_IMAGES, 'cluster_8'), file) for file in os.listdir(os.path.join(CELL_IMAGES, 'cluster_8'))]\n",
    "cluster_B_files = [os.path.join(os.path.join(CELL_IMAGES, 'cluster_13'), file) for file in os.listdir(os.path.join(CELL_IMAGES, 'cluster_13'))]"
   ]
  },
  {
   "cell_type": "code",
   "execution_count": 41,
   "id": "8250a4be-85bc-4d8d-8717-507d2d0386ad",
   "metadata": {},
   "outputs": [],
   "source": [
    "cluster_A_images = get_cluster_images(8)\n",
    "cluster_B_images = get_cluster_images(13)\n",
    "cluster_A_images_resized = get_cluster_images(8, size=SIZE)\n",
    "cluster_B_images_resized = get_cluster_images(13, size=SIZE)"
   ]
  },
  {
   "cell_type": "code",
   "execution_count": 11,
   "id": "bf37099a-c206-4c16-a8cd-0d8f0de88e49",
   "metadata": {},
   "outputs": [
    {
     "ename": "NameError",
     "evalue": "name 'cluster_A_images_resized' is not defined",
     "output_type": "error",
     "traceback": [
      "\u001b[1;31m---------------------------------------------------------------------------\u001b[0m",
      "\u001b[1;31mNameError\u001b[0m                                 Traceback (most recent call last)",
      "\u001b[1;32m~\\AppData\\Local\\Temp\\ipykernel_26504\\471644993.py\u001b[0m in \u001b[0;36m<module>\u001b[1;34m\u001b[0m\n\u001b[0;32m     17\u001b[0m     \u001b[0mplt\u001b[0m\u001b[1;33m.\u001b[0m\u001b[0mshow\u001b[0m\u001b[1;33m(\u001b[0m\u001b[1;33m)\u001b[0m\u001b[1;33m\u001b[0m\u001b[1;33m\u001b[0m\u001b[0m\n\u001b[0;32m     18\u001b[0m \u001b[1;33m\u001b[0m\u001b[0m\n\u001b[1;32m---> 19\u001b[1;33m \u001b[0mdisplay_images_in_grid\u001b[0m\u001b[1;33m(\u001b[0m\u001b[0mcluster_A_images_resized\u001b[0m\u001b[1;33m,\u001b[0m \u001b[0mncols\u001b[0m\u001b[1;33m=\u001b[0m\u001b[1;36m10\u001b[0m\u001b[1;33m,\u001b[0m \u001b[0mcmap\u001b[0m\u001b[1;33m=\u001b[0m\u001b[1;34m'gray'\u001b[0m\u001b[1;33m)\u001b[0m\u001b[1;33m\u001b[0m\u001b[1;33m\u001b[0m\u001b[0m\n\u001b[0m",
      "\u001b[1;31mNameError\u001b[0m: name 'cluster_A_images_resized' is not defined"
     ]
    }
   ],
   "source": [
    "def display_images_in_grid(images, ncols=3, cmap=None):\n",
    "    nrows = (len(images) + ncols - 1) // ncols\n",
    "    fig_height = nrows * 1  # Adjust the multiplier as needed to control spacing between rows\n",
    "    fig, axes = plt.subplots(nrows=nrows, ncols=ncols, figsize=(10, fig_height))\n",
    "\n",
    "    for ax in axes.flat:\n",
    "        ax.axis('off')\n",
    "\n",
    "    for i, image in enumerate(images):\n",
    "        ax = axes[i // ncols, i % ncols]\n",
    "        if not cmap:\n",
    "            ax.imshow(image)\n",
    "        else:\n",
    "            ax.imshow(image, cmap=cmap)\n",
    "\n",
    "    plt.subplots_adjust(wspace=0.01, hspace=0.03)  # Adjust spacing between subplots\n",
    "    plt.show()\n",
    "\n",
    "display_images_in_grid(cluster_A_images_resized, ncols=10, cmap='gray')"
   ]
  },
  {
   "cell_type": "markdown",
   "id": "9cf09db3-54b9-41a9-8754-56ba1e75e594",
   "metadata": {},
   "source": [
    "## Cell boundary and masking"
   ]
  },
  {
   "cell_type": "markdown",
   "id": "ea54982f-5ef2-4fbb-8cc5-7fd8667c47d2",
   "metadata": {},
   "source": [
    "### Setup"
   ]
  },
  {
   "cell_type": "code",
   "execution_count": 43,
   "id": "0f5272d9-e3d9-4b38-87e1-5c47a97ae1a3",
   "metadata": {},
   "outputs": [],
   "source": [
    "from shapely.geometry import Polygon\n",
    "import rasterio\n",
    "from rasterio.features import geometry_mask\n",
    "from skimage.draw import polygon2mask"
   ]
  },
  {
   "cell_type": "code",
   "execution_count": 44,
   "id": "e48f8441-52c6-4ab2-bd3b-1fd0ad42dabb",
   "metadata": {},
   "outputs": [],
   "source": [
    "cell_boundaries_raw = pd.read_csv(\"/Users/khanhha/Desktop/Y3_S1/DATA3888/DATA3888_Project/Biotechnology/data_processed/cell_boundaries.csv.gz\")\n",
    "\n",
    "def get_cluster_cell_ids(cluster: int):\n",
    "    DIR = os.path.join(CELL_IMAGES, f'cluster_{cluster}')\n",
    "    files = [os.path.join(DIR, file) for file in os.listdir(DIR)]\n",
    "    pattern = r'cell_(\\d+)\\.png'\n",
    "    return [int(re.search(pattern, file).group(1)) for file in files]\n",
    "\n",
    "\n",
    "cluster_A_cell_ids = get_cluster_cell_ids(8)\n",
    "cluster_B_cell_ids = get_cluster_cell_ids(13)"
   ]
  },
  {
   "cell_type": "markdown",
   "id": "9af7c61b-987c-48b5-9774-a21d2a6dc5f4",
   "metadata": {},
   "source": [
    "### Masking one cell"
   ]
  },
  {
   "cell_type": "code",
   "execution_count": 12,
   "id": "a5752fe5-cf3c-4bc3-8643-742caab956d0",
   "metadata": {},
   "outputs": [
    {
     "ename": "NameError",
     "evalue": "name 'cell_boundaries_raw' is not defined",
     "output_type": "error",
     "traceback": [
      "\u001b[1;31m---------------------------------------------------------------------------\u001b[0m",
      "\u001b[1;31mNameError\u001b[0m                                 Traceback (most recent call last)",
      "\u001b[1;32m~\\AppData\\Local\\Temp\\ipykernel_26504\\3911499926.py\u001b[0m in \u001b[0;36m<module>\u001b[1;34m\u001b[0m\n\u001b[1;32m----> 1\u001b[1;33m \u001b[0mcell_boundaries\u001b[0m \u001b[1;33m=\u001b[0m \u001b[0mcell_boundaries_raw\u001b[0m\u001b[1;33m.\u001b[0m\u001b[0mloc\u001b[0m\u001b[1;33m[\u001b[0m\u001b[0mcell_boundaries_raw\u001b[0m\u001b[1;33m[\u001b[0m\u001b[1;34m'cell_id'\u001b[0m\u001b[1;33m]\u001b[0m\u001b[1;33m.\u001b[0m\u001b[0misin\u001b[0m\u001b[1;33m(\u001b[0m\u001b[0mcluster_A_cell_ids\u001b[0m \u001b[1;33m+\u001b[0m \u001b[0mcluster_B_cell_ids\u001b[0m\u001b[1;33m)\u001b[0m\u001b[1;33m]\u001b[0m\u001b[1;33m\u001b[0m\u001b[1;33m\u001b[0m\u001b[0m\n\u001b[0m",
      "\u001b[1;31mNameError\u001b[0m: name 'cell_boundaries_raw' is not defined"
     ]
    }
   ],
   "source": [
    "cell_boundaries = cell_boundaries_raw.loc[cell_boundaries_raw['cell_id'].isin(cluster_A_cell_ids + cluster_B_cell_ids)]"
   ]
  },
  {
   "cell_type": "code",
   "execution_count": 46,
   "id": "fed959a4-2621-45bd-b19a-f11c8c96fbc6",
   "metadata": {},
   "outputs": [],
   "source": [
    "def get_masked_image(image: Image, cell_id: int, cell_boundaries: pd.core.frame.DataFrame):\n",
    "    height, width = np.array(image).shape\n",
    "    cell_boundary = cell_boundaries[cell_boundaries['cell_id'] == cell_id].copy()\n",
    "    cell_boundary['vertex_x_scaled'] = 1 + ((cell_boundary['vertex_x'] - cell_boundary['vertex_x'].min()) * scaling_factor)\n",
    "    cell_boundary['vertex_y_scaled'] = 1 + ((cell_boundary['vertex_y'] - cell_boundary['vertex_y'].min()) * scaling_factor)\n",
    "    polygon = np.array(list(zip(cell_boundary['vertex_y_scaled'], cell_boundary['vertex_x_scaled'])))\n",
    "    mask = polygon2mask((height, width), polygon)\n",
    "    masked_image = np.ma.masked_array(np.copy(img_A),  np.invert(mask), fill_value=0)\n",
    "    return masked_image"
   ]
  },
  {
   "cell_type": "code",
   "execution_count": 47,
   "id": "1bb8b595-6276-4d0e-80bc-6dac7b01a7de",
   "metadata": {},
   "outputs": [
    {
     "data": {
      "image/png": "[encoded data removed]",
      "text/plain": [
       "<Figure size 640x480 with 1 Axes>"
      ]
     },
     "metadata": {},
     "output_type": "display_data"
    }
   ],
   "source": [
    "index = 0\n",
    "\n",
    "cell_boundary = cell_boundaries[cell_boundaries['cell_id'] == cluster_A_cell_ids[index]].copy()\n",
    "img_A = cluster_A_images[index].convert(\"L\")\n",
    "img_A_resized = cluster_A_images_resized[index].convert(\"L\")\n",
    "\n",
    "# Calculate scaling factor\n",
    "scaling_factor = 1 / 0.22\n",
    "height, width = np.array(img_A).shape\n",
    "\n",
    "# Calculate scaled x and y coordinates\n",
    "cell_boundary['vertex_x_scaled'] = (1 + ((cell_boundary['vertex_x'] - cell_boundary['vertex_x'].min()) * scaling_factor))*50/width\n",
    "cell_boundary['vertex_y_scaled'] = (1 + ((cell_boundary['vertex_y'] - cell_boundary['vertex_y'].min()) * scaling_factor))*50/height\n",
    "\n",
    "# Visualize the image\n",
    "plt.clf()\n",
    "plt.imshow(img_A_resized, cmap='gray')\n",
    "plt.plot(cell_boundary['vertex_x_scaled'], cell_boundary['vertex_y_scaled'], 'y-o', linewidth=3)\n",
    "plt.show()"
   ]
  },
  {
   "cell_type": "code",
   "execution_count": 48,
   "id": "572edd25-26fe-49cf-9594-9d19b9f1be6e",
   "metadata": {},
   "outputs": [
    {
     "data": {
      "image/png": "[encoded data removed]",
      "text/plain": [
       "<Figure size 640x480 with 1 Axes>"
      ]
     },
     "metadata": {},
     "output_type": "display_data"
    }
   ],
   "source": [
    "height, width = np.array(img_A.convert(\"L\")).shape\n",
    "polygon = np.array(list(zip(cell_boundary['vertex_y_scaled'], cell_boundary['vertex_x_scaled'])))\n",
    "mask = polygon2mask((height, width), polygon)\n",
    "masked_image = np.ma.masked_array(np.copy(img_A),  np.invert(mask), fill_value=0)\n",
    "\n",
    "# Display the masked image\n",
    "# result = np.where(masked_image.mask, 0, masked_image)  # image with mask\n",
    "result = np.where(masked_image.mask, 0, 1)  # just the mask\n",
    "plt.imshow(result, cmap='gray')\n",
    "plt.show()"
   ]
  },
  {
   "cell_type": "markdown",
   "id": "7c187e1a-7ccf-4f6a-9c80-e59e77a606db",
   "metadata": {},
   "source": [
    "### Masking all cells"
   ]
  },
  {
   "cell_type": "code",
   "execution_count": 6,
   "id": "dfb4d369-abb1-4efa-9597-0d92538df5e1",
   "metadata": {},
   "outputs": [],
   "source": [
    "SIZE = (50, 50)\n",
    "def get_cluster_masked_images(cluster: int, size=(None, None), masked=False):\n",
    "    images = get_cluster_images(cluster)\n",
    "    if None not in size:  # get resized images if size is specified\n",
    "        images_resized = get_cluster_images(cluster, size)\n",
    "\n",
    "    cell_ids = get_cluster_cell_ids(cluster)\n",
    "    cell_boundaries = cell_boundaries_raw.loc[\n",
    "        cell_boundaries_raw[\"cell_id\"].isin(cell_ids)\n",
    "    ].copy()\n",
    "\n",
    "    # Calculate scaling factor\n",
    "    scaling_factor = 1 / 0.22\n",
    "\n",
    "    result = {}\n",
    "    for cell_id, image, image_resized in zip(cell_ids, images, images_resized):\n",
    "        if masked:\n",
    "            # get shape of original image (without resize)\n",
    "            height, width = np.array(image).shape\n",
    "            # scaling factor for cell boundary, only if size is given\n",
    "            resize_x = 50 / width if None not in size else 1\n",
    "            resize_y = 50 / height if None not in size else 1\n",
    "\n",
    "            # get cell boundary coordinates for the image\n",
    "            cell_boundary = cell_boundaries.loc[\n",
    "                cell_boundaries[\"cell_id\"] == cell_id\n",
    "            ].copy()\n",
    "            # Calculate scaled x and y coordinates\n",
    "            cell_boundary[\"vertex_x_scaled\"] = (\n",
    "                1\n",
    "                + (\n",
    "                    (cell_boundary[\"vertex_x\"] - cell_boundary[\"vertex_x\"].min())\n",
    "                    * scaling_factor\n",
    "                )\n",
    "            ) * resize_x\n",
    "            cell_boundary[\"vertex_y_scaled\"] = (\n",
    "                1\n",
    "                + (\n",
    "                    (cell_boundary[\"vertex_y\"] - cell_boundary[\"vertex_y\"].min())\n",
    "                    * scaling_factor\n",
    "                )\n",
    "            ) * resize_y\n",
    "\n",
    "            # create the mask\n",
    "            polygon = np.array(\n",
    "                list(\n",
    "                    zip(\n",
    "                        cell_boundary[\"vertex_y_scaled\"],\n",
    "                        cell_boundary[\"vertex_x_scaled\"],\n",
    "                    )\n",
    "                )\n",
    "            )\n",
    "            mask = polygon2mask((height, width) if None in size else SIZE, polygon)\n",
    "            # mask the image\n",
    "            masked_image = np.ma.masked_array(\n",
    "                np.copy(image if None in size else image_resized),\n",
    "                np.invert(mask),\n",
    "                fill_value=0,\n",
    "            )\n",
    "            result[cell_id] = np.where(masked_image.mask, 0, masked_image)\n",
    "        else:\n",
    "            result[cell_id] = np.copy(image if None in size else image_resized)\n",
    "\n",
    "    return result"
   ]
  },
  {
   "cell_type": "code",
   "execution_count": 8,
   "id": "19a76b5a-fbdd-4498-b649-7628c459af2b",
   "metadata": {
    "scrolled": true
   },
   "outputs": [
    {
     "ename": "NameError",
     "evalue": "name 'get_cluster_images' is not defined",
     "output_type": "error",
     "traceback": [
      "\u001b[1;31m---------------------------------------------------------------------------\u001b[0m",
      "\u001b[1;31mNameError\u001b[0m                                 Traceback (most recent call last)",
      "\u001b[1;32m~\\AppData\\Local\\Temp\\ipykernel_26504\\3128116848.py\u001b[0m in \u001b[0;36m<module>\u001b[1;34m\u001b[0m\n\u001b[1;32m----> 1\u001b[1;33m masked_cells = {\n\u001b[0m\u001b[0;32m      2\u001b[0m     \u001b[0mcluster\u001b[0m\u001b[1;33m:\u001b[0m \u001b[0mget_cluster_masked_images\u001b[0m\u001b[1;33m(\u001b[0m\u001b[0mcluster\u001b[0m\u001b[1;33m,\u001b[0m \u001b[0msize\u001b[0m\u001b[1;33m=\u001b[0m\u001b[0mSIZE\u001b[0m\u001b[1;33m,\u001b[0m \u001b[0mmasked\u001b[0m\u001b[1;33m=\u001b[0m\u001b[1;32mTrue\u001b[0m\u001b[1;33m)\u001b[0m\u001b[1;33m\u001b[0m\u001b[1;33m\u001b[0m\u001b[0m\n\u001b[0;32m      3\u001b[0m     \u001b[1;32mfor\u001b[0m \u001b[0mcluster\u001b[0m \u001b[1;32min\u001b[0m \u001b[0mrange\u001b[0m\u001b[1;33m(\u001b[0m\u001b[1;36m1\u001b[0m\u001b[1;33m,\u001b[0m \u001b[1;36m29\u001b[0m\u001b[1;33m)\u001b[0m\u001b[1;33m\u001b[0m\u001b[1;33m\u001b[0m\u001b[0m\n\u001b[0;32m      4\u001b[0m }\n\u001b[0;32m      5\u001b[0m \u001b[1;33m\u001b[0m\u001b[0m\n",
      "\u001b[1;32m~\\AppData\\Local\\Temp\\ipykernel_26504\\3128116848.py\u001b[0m in \u001b[0;36m<dictcomp>\u001b[1;34m(.0)\u001b[0m\n\u001b[0;32m      1\u001b[0m masked_cells = {\n\u001b[1;32m----> 2\u001b[1;33m     \u001b[0mcluster\u001b[0m\u001b[1;33m:\u001b[0m \u001b[0mget_cluster_masked_images\u001b[0m\u001b[1;33m(\u001b[0m\u001b[0mcluster\u001b[0m\u001b[1;33m,\u001b[0m \u001b[0msize\u001b[0m\u001b[1;33m=\u001b[0m\u001b[0mSIZE\u001b[0m\u001b[1;33m,\u001b[0m \u001b[0mmasked\u001b[0m\u001b[1;33m=\u001b[0m\u001b[1;32mTrue\u001b[0m\u001b[1;33m)\u001b[0m\u001b[1;33m\u001b[0m\u001b[1;33m\u001b[0m\u001b[0m\n\u001b[0m\u001b[0;32m      3\u001b[0m     \u001b[1;32mfor\u001b[0m \u001b[0mcluster\u001b[0m \u001b[1;32min\u001b[0m \u001b[0mrange\u001b[0m\u001b[1;33m(\u001b[0m\u001b[1;36m1\u001b[0m\u001b[1;33m,\u001b[0m \u001b[1;36m29\u001b[0m\u001b[1;33m)\u001b[0m\u001b[1;33m\u001b[0m\u001b[1;33m\u001b[0m\u001b[0m\n\u001b[0;32m      4\u001b[0m }\n\u001b[0;32m      5\u001b[0m \u001b[1;33m\u001b[0m\u001b[0m\n",
      "\u001b[1;32m~\\AppData\\Local\\Temp\\ipykernel_26504\\477985236.py\u001b[0m in \u001b[0;36mget_cluster_masked_images\u001b[1;34m(cluster, size, masked)\u001b[0m\n\u001b[0;32m      1\u001b[0m \u001b[0mSIZE\u001b[0m \u001b[1;33m=\u001b[0m \u001b[1;33m(\u001b[0m\u001b[1;36m50\u001b[0m\u001b[1;33m,\u001b[0m \u001b[1;36m50\u001b[0m\u001b[1;33m)\u001b[0m\u001b[1;33m\u001b[0m\u001b[1;33m\u001b[0m\u001b[0m\n\u001b[0;32m      2\u001b[0m \u001b[1;32mdef\u001b[0m \u001b[0mget_cluster_masked_images\u001b[0m\u001b[1;33m(\u001b[0m\u001b[0mcluster\u001b[0m\u001b[1;33m:\u001b[0m \u001b[0mint\u001b[0m\u001b[1;33m,\u001b[0m \u001b[0msize\u001b[0m\u001b[1;33m=\u001b[0m\u001b[1;33m(\u001b[0m\u001b[1;32mNone\u001b[0m\u001b[1;33m,\u001b[0m \u001b[1;32mNone\u001b[0m\u001b[1;33m)\u001b[0m\u001b[1;33m,\u001b[0m \u001b[0mmasked\u001b[0m\u001b[1;33m=\u001b[0m\u001b[1;32mFalse\u001b[0m\u001b[1;33m)\u001b[0m\u001b[1;33m:\u001b[0m\u001b[1;33m\u001b[0m\u001b[1;33m\u001b[0m\u001b[0m\n\u001b[1;32m----> 3\u001b[1;33m     \u001b[0mimages\u001b[0m \u001b[1;33m=\u001b[0m \u001b[0mget_cluster_images\u001b[0m\u001b[1;33m(\u001b[0m\u001b[0mcluster\u001b[0m\u001b[1;33m)\u001b[0m\u001b[1;33m\u001b[0m\u001b[1;33m\u001b[0m\u001b[0m\n\u001b[0m\u001b[0;32m      4\u001b[0m     \u001b[1;32mif\u001b[0m \u001b[1;32mNone\u001b[0m \u001b[1;32mnot\u001b[0m \u001b[1;32min\u001b[0m \u001b[0msize\u001b[0m\u001b[1;33m:\u001b[0m  \u001b[1;31m# get resized images if size is specified\u001b[0m\u001b[1;33m\u001b[0m\u001b[1;33m\u001b[0m\u001b[0m\n\u001b[0;32m      5\u001b[0m         \u001b[0mimages_resized\u001b[0m \u001b[1;33m=\u001b[0m \u001b[0mget_cluster_images\u001b[0m\u001b[1;33m(\u001b[0m\u001b[0mcluster\u001b[0m\u001b[1;33m,\u001b[0m \u001b[0msize\u001b[0m\u001b[1;33m)\u001b[0m\u001b[1;33m\u001b[0m\u001b[1;33m\u001b[0m\u001b[0m\n",
      "\u001b[1;31mNameError\u001b[0m: name 'get_cluster_images' is not defined"
     ]
    }
   ],
   "source": [
    "masked_cells = {\n",
    "    cluster: get_cluster_masked_images(cluster, size=SIZE, masked=True)\n",
    "    for cluster in range(1, 29)\n",
    "}\n",
    "\n",
    "unmasked_cells = {\n",
    "    cluster: get_cluster_masked_images(cluster, size=SIZE, masked=False)\n",
    "    for cluster in range(1, 29)\n",
    "}"
   ]
  },
  {
   "cell_type": "code",
   "execution_count": null,
   "id": "3d62dcae",
   "metadata": {},
   "outputs": [],
   "source": []
  },
  {
   "cell_type": "code",
   "execution_count": 51,
   "id": "9179e5fb-3c7d-4b8c-b009-e1fb4c1b0154",
   "metadata": {},
   "outputs": [
    {
     "data": {
      "text/plain": [
       "<matplotlib.image.AxesImage at 0x14e1fa650>"
      ]
     },
     "execution_count": 51,
     "metadata": {},
     "output_type": "execute_result"
    },
    {
     "data": {
      "image/png": "[encoded data removed]",
      "text/plain": [
       "<Figure size 640x480 with 1 Axes>"
      ]
     },
     "metadata": {},
     "output_type": "display_data"
    }
   ],
   "source": [
    "# display_images_in_grid(masked_cells[1])\n",
    "plt.imshow(masked_cells[8][33839], cmap='gray')"
   ]
  },
  {
   "cell_type": "markdown",
   "id": "c0786f32-eb49-4d41-a022-531ebe118a20",
   "metadata": {},
   "source": [
    "## Random Forest \n",
    "\n",
    "### a. Pixel-based random forest\n",
    "\n",
    "**Masked, resized, non-normalized images:**"
   ]
  },
  {
   "cell_type": "code",
   "execution_count": 122,
   "id": "05fe58ec",
   "metadata": {},
   "outputs": [
    {
     "name": "stdout",
     "output_type": "stream",
     "text": [
      "              precision    recall  f1-score   support\n",
      "\n",
      "           1       0.18      0.33      0.23        15\n",
      "           2       0.10      0.24      0.14        17\n",
      "           3       0.17      0.39      0.23        18\n",
      "           4       0.00      0.00      0.00        11\n",
      "           5       0.07      0.08      0.07        13\n",
      "           6       0.14      0.18      0.16        11\n",
      "           7       0.17      0.33      0.22         9\n",
      "           8       0.00      0.00      0.00         9\n",
      "           9       0.08      0.11      0.10         9\n",
      "          10       0.00      0.00      0.00         7\n",
      "          11       0.00      0.00      0.00         8\n",
      "          12       0.00      0.00      0.00         7\n",
      "          13       0.17      0.12      0.14         8\n",
      "          14       0.00      0.00      0.00         7\n",
      "          15       0.00      0.00      0.00         5\n",
      "          16       0.00      0.00      0.00         7\n",
      "          17       0.00      0.00      0.00         5\n",
      "          18       0.00      0.00      0.00         4\n",
      "          19       0.00      0.00      0.00         5\n",
      "          20       0.00      0.00      0.00         2\n",
      "          21       0.00      0.00      0.00         5\n",
      "          22       0.00      0.00      0.00         3\n",
      "          23       0.00      0.00      0.00         3\n",
      "          24       0.00      0.00      0.00         3\n",
      "          25       0.00      0.00      0.00         3\n",
      "          26       0.00      0.00      0.00         2\n",
      "          27       0.00      0.00      0.00         3\n",
      "          28       0.00      0.00      0.00         1\n",
      "\n",
      "    accuracy                           0.12       200\n",
      "   macro avg       0.04      0.06      0.05       200\n",
      "weighted avg       0.07      0.12      0.08       200\n",
      "\n",
      "0.12\n"
     ]
    },
    {
     "name": "stderr",
     "output_type": "stream",
     "text": [
      "/Users/khanhha/anaconda3/lib/python3.11/site-packages/sklearn/metrics/_classification.py:1469: UndefinedMetricWarning: Precision and F-score are ill-defined and being set to 0.0 in labels with no predicted samples. Use `zero_division` parameter to control this behavior.\n",
      "  _warn_prf(average, modifier, msg_start, len(result))\n",
      "/Users/khanhha/anaconda3/lib/python3.11/site-packages/sklearn/metrics/_classification.py:1469: UndefinedMetricWarning: Precision and F-score are ill-defined and being set to 0.0 in labels with no predicted samples. Use `zero_division` parameter to control this behavior.\n",
      "  _warn_prf(average, modifier, msg_start, len(result))\n",
      "/Users/khanhha/anaconda3/lib/python3.11/site-packages/sklearn/metrics/_classification.py:1469: UndefinedMetricWarning: Precision and F-score are ill-defined and being set to 0.0 in labels with no predicted samples. Use `zero_division` parameter to control this behavior.\n",
      "  _warn_prf(average, modifier, msg_start, len(result))\n"
     ]
    }
   ],
   "source": [
    "X = []\n",
    "y = []\n",
    "\n",
    "for label, cells in masked_cells.items():\n",
    "    for cell_id, image in cells.items():\n",
    "        flattened_image = image.flatten()\n",
    "        X.append(flattened_image)\n",
    "        y.append(label)\n",
    "\n",
    "X = np.array(X)\n",
    "y = np.array(y)\n",
    "\n",
    "from sklearn.model_selection import train_test_split\n",
    "X_train, X_test, y_train, y_test = train_test_split(X, y, test_size=0.2, stratify=y, random_state=3888)\n",
    "\n",
    "# Training Random Forest classifier\n",
    "rf = RandomForestClassifier()\n",
    "rf.fit(X_train, y_train)\n",
    "\n",
    "from sklearn.metrics import classification_report, accuracy_score\n",
    "y_pred = rf.predict(X_test)\n",
    "print(classification_report(y_test, y_pred))\n",
    "print(accuracy_score(y_test, y_pred))"
   ]
  },
  {
   "cell_type": "code",
   "execution_count": 124,
   "id": "faf678ec",
   "metadata": {},
   "outputs": [
    {
     "name": "stdout",
     "output_type": "stream",
     "text": [
      "Cross-validation scores: [0.125 0.115 0.195 0.115 0.18 ]\n",
      "Mean CV accuracy: 0.146\n"
     ]
    }
   ],
   "source": [
    "# Cross validation \n",
    "\n",
    "from sklearn.model_selection import cross_val_score\n",
    "from sklearn.ensemble import RandomForestClassifier\n",
    "from sklearn.metrics import classification_report, accuracy_score\n",
    "# Create a Random Forest classifier\n",
    "rf = RandomForestClassifier()\n",
    "\n",
    "# Perform 5-fold cross-validation\n",
    "cv_scores = cross_val_score(rf, X, y, cv=5)\n",
    "\n",
    "# Print the cross-validation scores\n",
    "print(\"Cross-validation scores:\", cv_scores)\n",
    "print(\"Mean CV accuracy:\", np.mean(cv_scores))"
   ]
  },
  {
   "cell_type": "code",
   "execution_count": null,
   "id": "6e6a8c4d",
   "metadata": {},
   "outputs": [],
   "source": []
  },
  {
   "cell_type": "code",
   "execution_count": null,
   "id": "31f2b887",
   "metadata": {},
   "outputs": [],
   "source": []
  },
  {
   "cell_type": "markdown",
   "id": "3fa98b4a",
   "metadata": {},
   "source": [
    "### b. Extracted feature random forest"
   ]
  },
  {
   "cell_type": "code",
   "execution_count": null,
   "id": "80103d5f",
   "metadata": {},
   "outputs": [],
   "source": []
  },
  {
   "cell_type": "code",
   "execution_count": null,
   "id": "707b4654",
   "metadata": {},
   "outputs": [],
   "source": []
  },
  {
   "cell_type": "markdown",
   "id": "e6dacc62",
   "metadata": {},
   "source": [
    "## KNN "
   ]
  },
  {
   "cell_type": "code",
   "execution_count": 130,
   "id": "cced48a7",
   "metadata": {},
   "outputs": [
    {
     "name": "stdout",
     "output_type": "stream",
     "text": [
      "Best hyperparameters: {'metric': 'euclidean', 'n_neighbors': 18, 'weights': 'uniform'}\n",
      "Best accuracy score: 0.125\n"
     ]
    }
   ],
   "source": [
    "from sklearn.model_selection import GridSearchCV\n",
    "from sklearn.neighbors import KNeighborsClassifier\n",
    "\n",
    "# Define the parameter grid for hyperparameter tuning\n",
    "param_grid = {\n",
    "    'n_neighbors': np.arange(1, 21),          # Number of neighbors\n",
    "    'weights': ['uniform', 'distance'],   # Weight function used in prediction\n",
    "    'metric': ['euclidean', 'manhattan']  # Distance metric\n",
    "}\n",
    "\n",
    "# Initialize KNN classifier\n",
    "knn_classifier = KNeighborsClassifier()\n",
    "\n",
    "# Initialize GridSearchCV with the KNN classifier, parameter grid, and scoring metric\n",
    "grid_search = GridSearchCV(estimator=knn_classifier, param_grid=param_grid, scoring='accuracy', cv=5)\n",
    "\n",
    "# Perform grid search\n",
    "grid_search.fit(X, y)\n",
    "\n",
    "# Get the best hyperparameters and the corresponding best score\n",
    "best_params = grid_search.best_params_\n",
    "best_score = grid_search.best_score_\n",
    "\n",
    "print(\"Best hyperparameters:\", best_params)\n",
    "print(\"Best accuracy score:\", best_score)"
   ]
  },
  {
   "cell_type": "code",
   "execution_count": null,
   "id": "1aa37a59",
   "metadata": {},
   "outputs": [],
   "source": []
  }
 ],
 "metadata": {
  "kernelspec": {
   "display_name": "Python 3 (ipykernel)",
   "language": "python",
   "name": "python3"
  },
  "language_info": {
   "codemirror_mode": {
    "name": "ipython",
    "version": 3
   },
   "file_extension": ".py",
   "mimetype": "text/x-python",
   "name": "python",
   "nbconvert_exporter": "python",
   "pygments_lexer": "ipython3",
   "version": "3.9.13"
  }
 },
 "nbformat": 4,
 "nbformat_minor": 5
}
