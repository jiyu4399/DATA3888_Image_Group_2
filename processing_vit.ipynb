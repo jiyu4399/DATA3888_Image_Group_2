{
 "cells": [
  {
   "cell_type": "markdown",
   "id": "6d924996-e8ce-463b-af5b-f4ad957fd61e",
   "metadata": {},
   "source": [
    "# Part A\n",
    "You should only need to run this once, after that can simply load in the saved images as done in part B."
   ]
  },
  {
   "cell_type": "code",
   "execution_count": 1,
   "id": "c14404a2-0cc1-4354-b511-edae3599c174",
   "metadata": {
    "ExecuteTime": {
     "end_time": "2024-04-24T15:17:59.643082036Z",
     "start_time": "2024-04-24T15:17:59.140992264Z"
    }
   },
   "outputs": [],
   "source": [
    "import matplotlib.pyplot as plt\n",
    "import matplotlib.cm as cm\n",
    "from PIL import Image, ImageOps\n",
    "\n",
    "Image.MAX_IMAGE_PIXELS = None\n",
    "import pandas as pd\n",
    "import random\n",
    "import numpy as np\n",
    "import os\n",
    "import sys\n",
    "# import javabridge\n",
    "# import bioformats\n",
    "\n",
    "script_dir = os.path.dirname(os.path.realpath(\"__file__\"))\n",
    "data_dir = os.path.abspath(os.path.join(script_dir, \"..\", \"..\", \"data_processed\"))\n",
    "dir_path = os.path.abspath(\n",
    "    os.path.join(\n",
    "        script_dir,\n",
    "        \"..\",\n",
    "        \"..\",\n",
    "        \"data_raw_big/Xenium_V1_FF_Mouse_Brain_MultiSection_1_outs\",\n",
    "    )\n",
    ")\n",
    "file_path = os.path.join(data_dir, \"morphology_focus.tif\")"
   ]
  },
  {
   "cell_type": "code",
   "execution_count": 2,
   "id": "2c26371f-2418-4c92-9475-3bbefc42a0fe",
   "metadata": {
    "ExecuteTime": {
     "end_time": "2024-04-24T15:18:09.363724870Z",
     "start_time": "2024-04-24T15:17:59.678323796Z"
    }
   },
   "outputs": [],
   "source": [
    "%matplotlib widget\n",
    "\n",
    "# Open the .tif file\n",
    "img = Image.open(os.path.join(data_dir, \"morphology_focus.tif\"))\n",
    "# img = Image.open(os.path.join(dir_path, \"morphology_focus.tif\"))\n",
    "\n",
    "\n",
    "# Specify file paths\n",
    "tif_file_path = \"../data_processed/morphology_focus.tif\"\n",
    "ome_tif_file_path = \"../data_raw/morphology_focus.ome.tif\"\n",
    "\n",
    "# # Check if the TIFF file already exists\n",
    "# if not os.path.exists(tif_file_path):\n",
    "#     # Start the JVM with additional memory\n",
    "#     javabridge.start_vm(class_path=bioformats.JARS, max_heap_size=\"10G\")\n",
    "\n",
    "#     try:\n",
    "#         # Read the OME-TIFF image\n",
    "#         with bioformats.ImageReader(ome_tif_file_path) as reader:\n",
    "#             img = reader.read()\n",
    "\n",
    "#         # Normalize the image if necessary\n",
    "#         img = img / 255.0  # Normalization, if needed\n",
    "\n",
    "#         # Convert to PIL image and save as TIFF\n",
    "#         pil_img = Image.fromarray((img * 255).astype(\"uint8\"))  # Convert to 8-bit unsigned int\n",
    "#         pil_img.save(tif_file_path, format=\"TIFF\")\n",
    "\n",
    "#     finally:\n",
    "#         # Stop the JVM\n",
    "#         javabridge.kill_vm()\n",
    "\n",
    "\n",
    "# Convert to numpy array\n",
    "image_array = np.array(img)\n",
    "\n",
    "# Calculate the quantile to scale intensity\n",
    "quantile_value = np.quantile(image_array, 0.99)\n",
    "\n",
    "# Scale intensity by dividing by the quantile\n",
    "scaled_image_array = image_array / quantile_value\n",
    "\n",
    "# Clip values greater than 1 to ensure image is within [0, 1] range\n",
    "img2 = np.clip(scaled_image_array, 0, 1)\n",
    "\n",
    "# Display the scaled image\n",
    "# plt.imshow(img2, cmap='gray')  # Uncomment this line and below to display the whole image (this runs slow)\n",
    "# plt.show()"
   ]
  },
  {
   "cell_type": "code",
   "execution_count": 3,
   "id": "2073bb61-aa55-4703-bc67-946a0fe0d9ad",
   "metadata": {
    "ExecuteTime": {
     "end_time": "2024-04-24T15:18:09.791059595Z",
     "start_time": "2024-04-24T15:18:09.365071563Z"
    }
   },
   "outputs": [],
   "source": [
    "cell_boundaries = pd.read_csv(os.path.join(data_dir, \"cell_boundaries.csv.gz\"))\n",
    "cell_boundaries[\"vertex_x_trans\"] = cell_boundaries[\"vertex_x\"].apply(\n",
    "    lambda x: int(x / 0.2125)\n",
    ")\n",
    "cell_boundaries[\"vertex_y_trans\"] = cell_boundaries[\"vertex_y\"].apply(\n",
    "    lambda x: int(x / 0.2125)\n",
    ")"
   ]
  },
  {
   "cell_type": "code",
   "execution_count": 4,
   "id": "f80df594-65c0-42d2-ae23-adbd7b2c527d",
   "metadata": {
    "ExecuteTime": {
     "end_time": "2024-04-24T15:18:09.814277390Z",
     "start_time": "2024-04-24T15:18:09.792262600Z"
    }
   },
   "outputs": [
    {
     "data": {
      "text/plain": [
       "36553"
      ]
     },
     "execution_count": 4,
     "metadata": {},
     "output_type": "execute_result"
    }
   ],
   "source": [
    "clusters = pd.read_csv(os.path.join(data_dir, \"clusters.csv\"))\n",
    "ncells = clusters.shape[0]\n",
    "ncells"
   ]
  },
  {
   "cell_type": "code",
   "execution_count": 5,
   "id": "3f5f1d77-d687-4497-aed5-198d9415af67",
   "metadata": {
    "ExecuteTime": {
     "end_time": "2024-04-24T15:18:11.137081293Z",
     "start_time": "2024-04-24T15:18:09.807175403Z"
    }
   },
   "outputs": [],
   "source": [
    "img_pix = np.array(img)"
   ]
  },
  {
   "cell_type": "code",
   "execution_count": 6,
   "id": "da67cf77-541f-4439-9759-7a8e93284115",
   "metadata": {
    "ExecuteTime": {
     "end_time": "2024-04-24T15:20:13.149846417Z",
     "start_time": "2024-04-24T15:18:11.141005235Z"
    }
   },
   "outputs": [],
   "source": [
    "random.seed(2024)\n",
    "\n",
    "ncells_subset = 1000\n",
    "\n",
    "cells_subset = random.sample(range(ncells), ncells_subset)\n",
    "\n",
    "clusters.loc[cells_subset, \"Cluster\"]\n",
    "\n",
    "for i in range(\n",
    "    1, ncells\n",
    "):  # change range(1, ncells) to cells_subset (or the other way around) if you want a sample of 1000 images\n",
    "    # extract the boundary vertices for the selected cell\n",
    "    bounds_i = cell_boundaries.loc[cell_boundaries[\"cell_id\"] == i]\n",
    "\n",
    "    # extract the cluster value for the selected cell\n",
    "    clustval_i = clusters.loc[i, \"Cluster\"]\n",
    "\n",
    "    # extract the pixel intensities for the area covering the cell boundary\n",
    "    img_sub = img_pix[\n",
    "        min(bounds_i[\"vertex_y_trans\"]) : max(bounds_i[\"vertex_y_trans\"]),\n",
    "        min(bounds_i[\"vertex_x_trans\"]) : max(bounds_i[\"vertex_x_trans\"]),\n",
    "    ]\n",
    "\n",
    "    # normalise the pixel intensities according to 99th percentile\n",
    "    img_sub_norm = img_sub / np.quantile(img_sub, 0.99)\n",
    "\n",
    "    # as an example, display the image for the first selected cell\n",
    "    # if i in cells_subset[0:5]:\n",
    "    #     print(f\"Displaying image for cell {i}\")\n",
    "    # plt.imshow(img_sub_norm, cmap=\"gray\")  # Uncomment this line and below to display sample cell images\n",
    "    # plt.show()\n",
    "\n",
    "    # create directory for images if it doesn't exist\n",
    "    cell_dir = os.path.join(os.getcwd(), data_dir, \"cell_images_py\")\n",
    "    if not os.path.exists(cell_dir):\n",
    "        os.mkdir(cell_dir)\n",
    "\n",
    "    # create directory for cluster if it doesn't exist\n",
    "    clust_dir = os.path.join(cell_dir, f\"cluster_{clustval_i}\")\n",
    "    if not os.path.exists(clust_dir):\n",
    "        os.mkdir(clust_dir)\n",
    "\n",
    "    # save extracted image as a png file\n",
    "    plt.imsave(os.path.join(clust_dir, f\"cell_{i}.png\"), img_sub_norm, cmap=\"gray\")"
   ]
  },
  {
   "cell_type": "markdown",
   "id": "5fc390c6-93a7-4f7a-8590-a815f558c372",
   "metadata": {},
   "source": [
    "# Part B"
   ]
  },
  {
   "cell_type": "markdown",
   "id": "2edcab59-5cf0-43ba-8d87-bc9ef73da3dc",
   "metadata": {},
   "source": [
    "### Setup"
   ]
  },
  {
   "cell_type": "code",
   "execution_count": 1,
   "id": "4a375486-9ec4-4acc-8318-89a53f6973d5",
   "metadata": {
    "ExecuteTime": {
     "end_time": "2024-04-24T15:37:50.054769443Z",
     "start_time": "2024-04-24T15:37:49.258265771Z"
    }
   },
   "outputs": [],
   "source": [
    "import matplotlib.pyplot as plt\n",
    "\n",
    "from PIL import Image, ImageOps\n",
    "\n",
    "Image.MAX_IMAGE_PIXELS = None\n",
    "import pandas as pd\n",
    "import numpy as np\n",
    "\n",
    "\n",
    "import os\n",
    "import re\n",
    "\n",
    "\n",
    "script_dir = os.path.dirname(os.path.realpath(\"__file__\"))\n",
    "data_dir = os.path.abspath(os.path.join(script_dir, \"..\", \"..\", \"data_processed\"))\n",
    "dir_path = os.path.abspath(\n",
    "    os.path.join(\n",
    "        script_dir,\n",
    "        \"..\",\n",
    "        \"..\",\n",
    "        \"data_raw_big/Xenium_V1_FF_Mouse_Brain_MultiSection_1_outs\",\n",
    "    )\n",
    ")\n",
    "file_path = os.path.join(data_dir, \"morphology_focus.tif\")"
   ]
  },
  {
   "cell_type": "code",
   "execution_count": 2,
   "id": "ed737d09-2bae-48d5-a218-f9ad833bef37",
   "metadata": {
    "ExecuteTime": {
     "end_time": "2024-04-24T15:37:50.260533886Z",
     "start_time": "2024-04-24T15:37:50.254309456Z"
    }
   },
   "outputs": [],
   "source": [
    "DATA_DIRECTORY = data_dir\n",
    "CELL_IMAGES = os.path.join(DATA_DIRECTORY, \"cell_images_py\")\n",
    "SIZE = (50, 50)"
   ]
  },
  {
   "cell_type": "markdown",
   "id": "558bbf8c-2d5a-40d3-b546-c6497bad4572",
   "metadata": {},
   "source": [
    "## Loading in and displaying images"
   ]
  },
  {
   "cell_type": "code",
   "execution_count": 3,
   "id": "2a49e3bc-aa94-406a-8aeb-7b8b566a3cce",
   "metadata": {
    "ExecuteTime": {
     "end_time": "2024-04-24T15:37:51.285621980Z",
     "start_time": "2024-04-24T15:37:51.282100774Z"
    }
   },
   "outputs": [],
   "source": [
    "def get_cluster_images(cluster: int, size=(None, None)):\n",
    "    DIR = os.path.join(CELL_IMAGES, f\"cluster_{cluster}\")\n",
    "    files = [os.path.join(DIR, file) for file in os.listdir(DIR)]\n",
    "    files.sort()\n",
    "    return [\n",
    "        Image.open(file).convert(\"L\")\n",
    "        if None in size\n",
    "        else Image.open(file).convert(\"L\").resize(size)\n",
    "        for file in files\n",
    "    ]"
   ]
  },
  {
   "cell_type": "code",
   "execution_count": 4,
   "id": "bf37099a-c206-4c16-a8cd-0d8f0de88e49",
   "metadata": {
    "ExecuteTime": {
     "end_time": "2024-04-24T15:37:51.527559865Z",
     "start_time": "2024-04-24T15:37:51.522325746Z"
    }
   },
   "outputs": [],
   "source": [
    "def display_images_in_grid(images, ncols=3, cmap=None):\n",
    "    nrows = (len(images) + ncols - 1) // ncols\n",
    "    fig_height = (\n",
    "        nrows * 1\n",
    "    )  # Adjust the multiplier as needed to control spacing between rows\n",
    "    fig, axes = plt.subplots(nrows=nrows, ncols=ncols, figsize=(10, fig_height))\n",
    "\n",
    "    for ax in axes.flat:\n",
    "        ax.axis(\"off\")\n",
    "\n",
    "    for i, image in enumerate(images):\n",
    "        ax = axes[i // ncols, i % ncols]\n",
    "        if not cmap:\n",
    "            ax.imshow(image)\n",
    "        else:\n",
    "            ax.imshow(image, cmap=cmap)\n",
    "\n",
    "    plt.subplots_adjust(wspace=0.01, hspace=0.03)  # Adjust spacing between subplots\n",
    "    plt.show()\n",
    "\n",
    "\n",
    "# display_images_in_grid(cluster_A_images_resized, ncols=10, cmap=\"gray\")"
   ]
  },
  {
   "cell_type": "markdown",
   "id": "9cf09db3-54b9-41a9-8754-56ba1e75e594",
   "metadata": {},
   "source": [
    "## Cell boundary and masking"
   ]
  },
  {
   "cell_type": "markdown",
   "id": "ea54982f-5ef2-4fbb-8cc5-7fd8667c47d2",
   "metadata": {},
   "source": [
    "### Setup"
   ]
  },
  {
   "cell_type": "code",
   "execution_count": 5,
   "id": "0f5272d9-e3d9-4b38-87e1-5c47a97ae1a3",
   "metadata": {
    "ExecuteTime": {
     "end_time": "2024-04-24T15:37:52.158042974Z",
     "start_time": "2024-04-24T15:37:52.097993719Z"
    }
   },
   "outputs": [],
   "source": [
    "from shapely.geometry import Polygon\n",
    "import rasterio\n",
    "from rasterio.features import geometry_mask\n",
    "from skimage.draw import polygon2mask"
   ]
  },
  {
   "cell_type": "code",
   "execution_count": 6,
   "id": "e48f8441-52c6-4ab2-bd3b-1fd0ad42dabb",
   "metadata": {
    "ExecuteTime": {
     "end_time": "2024-04-24T15:37:52.462237327Z",
     "start_time": "2024-04-24T15:37:52.326890993Z"
    }
   },
   "outputs": [],
   "source": [
    "cell_boundaries_raw = pd.read_csv(\"../../data_processed/cell_boundaries.csv.gz\")\n",
    "\n",
    "\n",
    "def get_cluster_cell_ids(cluster: int):\n",
    "    DIR = os.path.join(CELL_IMAGES, f\"cluster_{cluster}\")\n",
    "    files = [os.path.join(DIR, file) for file in os.listdir(DIR)]\n",
    "    pattern = r\"cell_(\\d+)\\.png\"\n",
    "    return [int(re.search(pattern, file).group(1)) for file in files]"
   ]
  },
  {
   "cell_type": "markdown",
   "id": "9af7c61b-987c-48b5-9774-a21d2a6dc5f4",
   "metadata": {},
   "source": []
  },
  {
   "cell_type": "code",
   "execution_count": 7,
   "id": "fed959a4-2621-45bd-b19a-f11c8c96fbc6",
   "metadata": {
    "ExecuteTime": {
     "end_time": "2024-04-24T15:37:52.713373992Z",
     "start_time": "2024-04-24T15:37:52.706896451Z"
    }
   },
   "outputs": [],
   "source": [
    "def get_masked_image(\n",
    "    image: Image, cell_id: int, cell_boundaries: pd.core.frame.DataFrame\n",
    "):\n",
    "    height, width = np.array(image).shape\n",
    "    cell_boundary = cell_boundaries[cell_boundaries[\"cell_id\"] == cell_id].copy()\n",
    "    cell_boundary[\"vertex_x_scaled\"] = 1 + (\n",
    "        (cell_boundary[\"vertex_x\"] - cell_boundary[\"vertex_x\"].min()) * scaling_factor\n",
    "    )\n",
    "    cell_boundary[\"vertex_y_scaled\"] = 1 + (\n",
    "        (cell_boundary[\"vertex_y\"] - cell_boundary[\"vertex_y\"].min()) * scaling_factor\n",
    "    )\n",
    "    polygon = np.array(\n",
    "        list(zip(cell_boundary[\"vertex_y_scaled\"], cell_boundary[\"vertex_x_scaled\"]))\n",
    "    )\n",
    "    mask = polygon2mask((height, width), polygon)\n",
    "    masked_image = np.ma.masked_array(np.copy(image), np.invert(mask), fill_value=0)\n",
    "    return masked_image"
   ]
  },
  {
   "cell_type": "markdown",
   "id": "7c187e1a-7ccf-4f6a-9c80-e59e77a606db",
   "metadata": {},
   "source": [
    "\n",
    "### Masking all cells"
   ]
  },
  {
   "cell_type": "code",
   "execution_count": 8,
   "id": "dfb4d369-abb1-4efa-9597-0d92538df5e1",
   "metadata": {
    "ExecuteTime": {
     "end_time": "2024-04-24T15:37:53.106134149Z",
     "start_time": "2024-04-24T15:37:53.103230271Z"
    }
   },
   "outputs": [],
   "source": [
    "def get_cluster_masked_images(cluster: int, size=(None, None), masked=False):\n",
    "    images = get_cluster_images(cluster)\n",
    "    if None not in size:  # get resized images if size is specified\n",
    "        images_resized = get_cluster_images(cluster, size)\n",
    "\n",
    "    cell_ids = get_cluster_cell_ids(cluster)\n",
    "    cell_boundaries = cell_boundaries_raw.loc[\n",
    "        cell_boundaries_raw[\"cell_id\"].isin(cell_ids)\n",
    "    ].copy()\n",
    "\n",
    "    # Calculate scaling factor\n",
    "    scaling_factor = 1 / 0.22\n",
    "\n",
    "    result = {}\n",
    "    for cell_id, image, image_resized in zip(cell_ids, images, images_resized):\n",
    "        if masked:\n",
    "            # get shape of original image (without resize)\n",
    "            height, width = np.array(image).shape\n",
    "            # scaling factor for cell boundary, only if size is given\n",
    "            resize_x = 50 / width if None not in size else 1\n",
    "            resize_y = 50 / height if None not in size else 1\n",
    "\n",
    "            # get cell boundary coordinates for the image\n",
    "            cell_boundary = cell_boundaries.loc[\n",
    "                cell_boundaries[\"cell_id\"] == cell_id\n",
    "            ].copy()\n",
    "            # Calculate scaled x and y coordinates\n",
    "            cell_boundary[\"vertex_x_scaled\"] = (\n",
    "                1\n",
    "                + (\n",
    "                    (cell_boundary[\"vertex_x\"] - cell_boundary[\"vertex_x\"].min())\n",
    "                    * scaling_factor\n",
    "                )\n",
    "            ) * resize_x\n",
    "            cell_boundary[\"vertex_y_scaled\"] = (\n",
    "                1\n",
    "                + (\n",
    "                    (cell_boundary[\"vertex_y\"] - cell_boundary[\"vertex_y\"].min())\n",
    "                    * scaling_factor\n",
    "                )\n",
    "            ) * resize_y\n",
    "\n",
    "            # create the mask\n",
    "            polygon = np.array(\n",
    "                list(\n",
    "                    zip(\n",
    "                        cell_boundary[\"vertex_y_scaled\"],\n",
    "                        cell_boundary[\"vertex_x_scaled\"],\n",
    "                    )\n",
    "                )\n",
    "            )\n",
    "            mask = polygon2mask((height, width) if None in size else SIZE, polygon)\n",
    "            # mask the image\n",
    "            masked_image = np.ma.masked_array(\n",
    "                np.copy(image if None in size else image_resized),\n",
    "                np.invert(mask),\n",
    "                fill_value=0,\n",
    "            )\n",
    "            result[cell_id] = np.where(masked_image.mask, 0, masked_image)\n",
    "        else:\n",
    "            result[cell_id] = np.copy(image if None in size else image_resized)\n",
    "\n",
    "    return result"
   ]
  },
  {
   "cell_type": "code",
   "execution_count": 10,
   "id": "19a76b5a-fbdd-4498-b649-7628c459af2b",
   "metadata": {
    "ExecuteTime": {
     "end_time": "2024-04-24T15:40:15.313182783Z",
     "start_time": "2024-04-24T15:38:43.176996500Z"
    },
    "scrolled": true
   },
   "outputs": [],
   "source": [
    "scaling_factor = 1 / 0.22\n",
    "\n",
    "\n",
    "masked_cells = {\n",
    "    cluster: get_cluster_masked_images(cluster, size=SIZE, masked=True)\n",
    "    for cluster in range(1, 29)\n",
    "}\n",
    "\n",
    "unmasked_cells = {\n",
    "    cluster: get_cluster_masked_images(cluster, size=SIZE, masked=False)\n",
    "    for cluster in range(1, 29)\n",
    "}"
   ]
  },
  {
   "cell_type": "markdown",
   "id": "c0786f32-eb49-4d41-a022-531ebe118a20",
   "metadata": {},
   "source": [
    "## Deep Learning"
   ]
  },
  {
   "cell_type": "code",
   "execution_count": 11,
   "id": "46d307a9-1af4-4801-8860-a31d42218dbc",
   "metadata": {
    "ExecuteTime": {
     "end_time": "2024-04-24T15:40:16.045860328Z",
     "start_time": "2024-04-24T15:40:15.358263392Z"
    }
   },
   "outputs": [],
   "source": [
    "import torch\n",
    "from torch.utils.data import Dataset, DataLoader, random_split\n",
    "import torch.nn as nn\n",
    "import torch.optim as optim"
   ]
  },
  {
   "cell_type": "markdown",
   "id": "01d7f121-7e10-4895-838a-d7bd8ca0ae52",
   "metadata": {},
   "source": [
    "### Make the dataset"
   ]
  },
  {
   "cell_type": "code",
   "execution_count": 12,
   "id": "2845cfb9-6d4b-44fa-abda-b3523cb48717",
   "metadata": {
    "ExecuteTime": {
     "end_time": "2024-04-24T15:40:16.051695926Z",
     "start_time": "2024-04-24T15:40:16.048846789Z"
    }
   },
   "outputs": [],
   "source": [
    "from torch.utils.data import Dataset\n",
    "from PIL import Image\n",
    "import numpy as np\n",
    "\n",
    "\n",
    "class CustomDataset(Dataset):\n",
    "    def __init__(self, images_dict, transform=None):\n",
    "        self.images_dict = images_dict\n",
    "        self.labels = []\n",
    "        self.images = []\n",
    "        for cluster, images in images_dict.items():\n",
    "            self.images.extend(images.values())\n",
    "            self.labels.extend([cluster - 1] * len(images))\n",
    "        self.transform = transform  # Transformation to apply to each image\n",
    "\n",
    "    def __len__(self):\n",
    "        return len(self.labels)\n",
    "\n",
    "    def __getitem__(self, idx):\n",
    "        image = self.images[idx]\n",
    "        label = self.labels[idx]\n",
    "        # Convert image to PyTorch tensor and normalize if necessary\n",
    "        image_tensor = torch.tensor(image, dtype=torch.float32) / 255.0\n",
    "        image_tensor = torch.unsqueeze(image_tensor, 0)\n",
    "        if self.transform:\n",
    "            image_tensor = self.transform(image_tensor)  # Apply transformation\n",
    "        # Convert label to PyTorch tensor\n",
    "        label_tensor = torch.tensor(label, dtype=torch.long)\n",
    "        return image_tensor, label_tensor"
   ]
  },
  {
   "cell_type": "markdown",
   "id": "44e28a67-8dcf-41e9-97ca-518682a9f047",
   "metadata": {},
   "source": [
    "#### Load data and create dataloaders"
   ]
  },
  {
   "cell_type": "code",
   "execution_count": 13,
   "id": "d64d6075-1135-42df-ab9c-5a8e0abcc704",
   "metadata": {
    "ExecuteTime": {
     "end_time": "2024-04-24T15:40:16.528060064Z",
     "start_time": "2024-04-24T15:40:16.053077604Z"
    }
   },
   "outputs": [],
   "source": [
    "from torchvision import transforms\n",
    "from torchvision.transforms import AutoAugmentPolicy\n",
    "\n",
    "train_transforms = transforms.Compose(\n",
    "    [\n",
    "        transforms.ToPILImage(),\n",
    "        transforms.RandomHorizontalFlip(),\n",
    "        transforms.RandomVerticalFlip(),\n",
    "        transforms.RandomRotation(45),\n",
    "        transforms.RandomResizedCrop(224, scale=(0.8, 1.0)),\n",
    "        transforms.AutoAugment(AutoAugmentPolicy.IMAGENET),\n",
    "        transforms.ToTensor(),\n",
    "        transforms.Normalize(\n",
    "            [0.5], [0.5]\n",
    "        ),  # Example normalization, adjust as necessary\n",
    "    ]\n",
    ")\n",
    "\n",
    "# Pass these transformations when creating the dataset instance\n",
    "\n",
    "custom_dataset = CustomDataset(unmasked_cells, train_transforms)\n",
    "# Define the sizes of the training, validation, and testing sets\n",
    "train_size = int(0.6 * len(custom_dataset))  # 60% for training\n",
    "val_size = int(0.2 * len(custom_dataset))  # 20% for validation\n",
    "test_size = len(custom_dataset) - train_size - val_size  # Remaining for testing\n",
    "\n",
    "# Split the dataset into training, validation, and testing sets\n",
    "train_dataset, val_dataset, test_dataset = random_split(\n",
    "    custom_dataset, [train_size, val_size, test_size]\n",
    ")\n",
    "\n",
    "# Define batch size and other DataLoader parameters\n",
    "batch_size = 32\n",
    "shuffle = True\n",
    "\n",
    "# Create DataLoader for training set\n",
    "train_loader = DataLoader(train_dataset, batch_size=batch_size, shuffle=shuffle)\n",
    "\n",
    "# Create DataLoader for validation set\n",
    "val_loader = DataLoader(val_dataset, batch_size=batch_size, shuffle=False)\n",
    "\n",
    "# Create DataLoader for testing set\n",
    "test_loader = DataLoader(test_dataset, batch_size=batch_size, shuffle=False)"
   ]
  },
  {
   "cell_type": "markdown",
   "id": "ecf61fbe-a5fe-4fd8-a538-a174b2362ea7",
   "metadata": {},
   "source": [
    "### Make the models"
   ]
  },
  {
   "cell_type": "code",
   "execution_count": 14,
   "id": "61c8b3336e3f3e1f",
   "metadata": {
    "ExecuteTime": {
     "end_time": "2024-04-24T15:40:16.986064543Z",
     "start_time": "2024-04-24T15:40:16.531309113Z"
    }
   },
   "outputs": [],
   "source": [
    "import timm\n",
    "import torch\n",
    "import torch.nn as nn\n",
    "import torch.nn.functional as F\n",
    "\n",
    "\n",
    "# Define a modified Vision Transformer (ViT) with a dropout layer\n",
    "class ModifiedViT(nn.Module):\n",
    "    def __init__(\n",
    "        self,\n",
    "        model_name=\"vit_base_patch16_224\",\n",
    "        pretrained=True,\n",
    "        num_classes=1000,\n",
    "        dropout_rate=0.3,  # Default dropout rate\n",
    "    ):\n",
    "        super(ModifiedViT, self).__init__()\n",
    "\n",
    "        # Load the pretrained ViT model\n",
    "        self.vit = timm.create_model(\n",
    "            model_name, pretrained=pretrained, num_classes=num_classes\n",
    "        )\n",
    "\n",
    "        # Modify the patch embedding to handle grayscale images\n",
    "        original_patch_embedding = self.vit.patch_embed.proj\n",
    "        self.vit.patch_embed.proj = nn.Conv2d(\n",
    "            1,\n",
    "            original_patch_embedding.out_channels,\n",
    "            kernel_size=original_patch_embedding.kernel_size,\n",
    "            stride=original_patch_embedding.stride,\n",
    "            padding=original_patch_embedding.padding,\n",
    "            bias=False,\n",
    "        )\n",
    "\n",
    "        # If using pretrained weights, adjust for grayscale\n",
    "        if pretrained:\n",
    "            with torch.no_grad():\n",
    "                original_weight = original_patch_embedding.weight.mean(\n",
    "                    dim=1, keepdim=True\n",
    "                )\n",
    "                self.vit.patch_embed.proj.weight.data = original_weight\n",
    "\n",
    "        # Add dropout layer after patch embedding\n",
    "        self.dropout = nn.Dropout(p=dropout_rate)\n",
    "\n",
    "        # Replace the classifier head\n",
    "        self.vit.head = nn.Linear(self.vit.head.in_features, num_classes)\n",
    "\n",
    "    def forward(self, x):\n",
    "        x = self.vit.patch_embed(x)\n",
    "\n",
    "        cls_token = self.vit.cls_token.expand(x.shape[0], -1, -1)\n",
    "        x = torch.cat((cls_token, x), dim=1)\n",
    "\n",
    "        # Apply positional dropout and add positional embedding\n",
    "        x = self.vit.pos_drop(x + self.vit.pos_embed)\n",
    "\n",
    "        # Apply dropout before entering transformer blocks\n",
    "        x = self.dropout(x)\n",
    "\n",
    "        # Forward through the transformer blocks\n",
    "        x = self.vit.blocks(x)\n",
    "\n",
    "        # Apply normalization\n",
    "        x = self.vit.norm(x)\n",
    "\n",
    "        # Select CLS token and apply final dropout\n",
    "        x = self.dropout(x[:, 0])\n",
    "\n",
    "        # Final classifier head\n",
    "        x = self.vit.head(x)\n",
    "\n",
    "        return x"
   ]
  },
  {
   "cell_type": "markdown",
   "id": "d19ce063-a845-4a4c-b5d1-9556d0324272",
   "metadata": {},
   "source": [
    "### Train"
   ]
  },
  {
   "cell_type": "code",
   "execution_count": 15,
   "id": "4801704e-d964-463d-b281-969d3e2d5c01",
   "metadata": {
    "ExecuteTime": {
     "end_time": "2024-04-24T15:40:16.992773364Z",
     "start_time": "2024-04-24T15:40:16.991408657Z"
    }
   },
   "outputs": [],
   "source": [
    "from tqdm import tqdm\n",
    "import torch\n",
    "import torch.nn as nn\n",
    "\n",
    "\n",
    "def train_model(\n",
    "    model, train_loader, val_loader, num_epochs=100, learning_rate=0.001, save_path=None\n",
    "):\n",
    "    # Define loss function and optimizer\n",
    "    criterion = nn.CrossEntropyLoss()\n",
    "    optimizer = torch.optim.Adam(model.parameters(), lr=learning_rate)\n",
    "\n",
    "    # Move the model to the appropriate device\n",
    "    device = torch.device(\"cuda\" if torch.cuda.is_available() else \"cpu\")\n",
    "    torch.clear_autocast_cache()\n",
    "    model.to(device)\n",
    "\n",
    "    # Store training and validation loss and accuracy\n",
    "    train_losses = []\n",
    "    val_losses = []\n",
    "    train_accuracies = []\n",
    "    val_accuracies = []\n",
    "\n",
    "    # Training loop\n",
    "    for epoch in range(num_epochs):\n",
    "        model.train()\n",
    "        running_train_loss = 0.0\n",
    "        correct_train = 0\n",
    "        total_train = 0\n",
    "\n",
    "        # Progress bar for inner training loop\n",
    "        with tqdm(\n",
    "            train_loader, desc=f\"Epoch {epoch + 1}/{num_epochs}\", leave=False\n",
    "        ) as pbar:\n",
    "            for inputs, labels in pbar:\n",
    "                inputs, labels = inputs.to(device), labels.to(device)\n",
    "\n",
    "                # Zero the parameter gradients\n",
    "                optimizer.zero_grad()\n",
    "\n",
    "                # Forward pass and backward pass with optimization\n",
    "                outputs = model(inputs)\n",
    "                loss = criterion(outputs, labels)\n",
    "                loss.backward()\n",
    "                optimizer.step()\n",
    "\n",
    "                # Accumulate loss and accuracy\n",
    "                running_train_loss += loss.item() * inputs.size(0)\n",
    "                _, predicted = torch.max(outputs, 1)\n",
    "                total_train += labels.size(0)\n",
    "                correct_train += (predicted == labels).sum().item()\n",
    "\n",
    "                # Update the progress bar with training loss and accuracy\n",
    "                pbar.set_postfix(\n",
    "                    {\n",
    "                        \"train_loss\": running_train_loss / total_train,\n",
    "                        \"accuracy\": correct_train / total_train,\n",
    "                    }\n",
    "                )\n",
    "\n",
    "        # Calculate average training loss and accuracy for the epoch\n",
    "        epoch_train_loss = running_train_loss / len(train_loader.dataset)\n",
    "        epoch_train_accuracy = correct_train / total_train\n",
    "        train_losses.append(epoch_train_loss)\n",
    "        train_accuracies.append(epoch_train_accuracy)\n",
    "\n",
    "        # Validation loop\n",
    "        running_val_loss = 0.0\n",
    "        correct_val = 0\n",
    "        total_val = 0\n",
    "\n",
    "        with torch.no_grad():\n",
    "            for inputs, labels in val_loader:\n",
    "                inputs, labels = inputs.to(device), labels.to(device)\n",
    "\n",
    "                # Forward pass\n",
    "                outputs = model(inputs)\n",
    "                loss = criterion(outputs, labels)\n",
    "\n",
    "                # Accumulate loss and accuracy\n",
    "                running_val_loss += loss.item() * inputs.size(0)\n",
    "                _, predicted = torch.max(outputs, 1)\n",
    "                total_val += labels.size(0)\n",
    "                correct_val += (predicted == labels).sum().item()\n",
    "\n",
    "        # Calculate average validation loss and accuracy\n",
    "        epoch_val_loss = running_val_loss / len(val_loader.dataset)\n",
    "        epoch_val_accuracy = correct_val / total_val\n",
    "        val_losses.append(epoch_val_loss)\n",
    "        val_accuracies.append(epoch_val_accuracy)\n",
    "\n",
    "        # Save the model state\n",
    "        if save_path:\n",
    "            model_save_path = os.path.join(save_path, f\"model_epoch_{epoch + 1}.pth\")\n",
    "            torch.save(model.state_dict(), model_save_path)\n",
    "\n",
    "        # Optional: Print a summary at the end of each epoch\n",
    "        print(\n",
    "            f\"Epoch [{epoch + 1}/{num_epochs}], \"\n",
    "            f\"Train Loss: {epoch_train_loss:.4f}, Train Accuracy: {epoch_train_accuracy:.4f}, \"\n",
    "            f\"Val Loss: {epoch_val_loss:.4f}, Val Accuracy: {epoch_val_accuracy:.4f}\"\n",
    "        )\n",
    "\n",
    "    # Return training and validation losses and accuracies\n",
    "    return train_losses, val_losses, train_accuracies, val_accuracies"
   ]
  },
  {
   "cell_type": "code",
   "execution_count": 16,
   "id": "8b85b188-c3fd-4766-b135-df0f4d6266b4",
   "metadata": {
    "ExecuteTime": {
     "end_time": "2024-04-24T15:40:17.032655880Z",
     "start_time": "2024-04-24T15:40:16.993365344Z"
    }
   },
   "outputs": [
    {
     "name": "stdout",
     "output_type": "stream",
     "text": [
      "torch.Size([32, 1, 224, 224])\n"
     ]
    }
   ],
   "source": [
    "for images, labels in train_loader:\n",
    "    print(images.size())\n",
    "    break"
   ]
  },
  {
   "cell_type": "code",
   "execution_count": 17,
   "id": "e1ddee75-090d-4137-a8fb-91e74953a6c5",
   "metadata": {
    "ExecuteTime": {
     "end_time": "2024-04-25T19:56:50.200137333Z",
     "start_time": "2024-04-24T15:40:17.034016369Z"
    },
    "scrolled": true
   },
   "outputs": [
    {
     "name": "stderr",
     "output_type": "stream",
     "text": [
      "                                                                                                \r"
     ]
    },
    {
     "name": "stdout",
     "output_type": "stream",
     "text": [
      "Epoch [1/200], Train Loss: 3.3567, Train Accuracy: 0.0746, Val Loss: 3.1921, Val Accuracy: 0.0906\n"
     ]
    },
    {
     "name": "stderr",
     "output_type": "stream",
     "text": [
      "                                                                                                \r"
     ]
    },
    {
     "name": "stdout",
     "output_type": "stream",
     "text": [
      "Epoch [2/200], Train Loss: 3.1500, Train Accuracy: 0.0950, Val Loss: 3.1481, Val Accuracy: 0.0837\n"
     ]
    },
    {
     "name": "stderr",
     "output_type": "stream",
     "text": [
      "                                                                                                \r"
     ]
    },
    {
     "name": "stdout",
     "output_type": "stream",
     "text": [
      "Epoch [3/200], Train Loss: 3.1132, Train Accuracy: 0.1010, Val Loss: 3.0945, Val Accuracy: 0.1033\n"
     ]
    },
    {
     "name": "stderr",
     "output_type": "stream",
     "text": [
      "                                                                                                \r"
     ]
    },
    {
     "name": "stdout",
     "output_type": "stream",
     "text": [
      "Epoch [4/200], Train Loss: 3.1061, Train Accuracy: 0.0996, Val Loss: 3.0867, Val Accuracy: 0.0982\n"
     ]
    },
    {
     "name": "stderr",
     "output_type": "stream",
     "text": [
      "                                                                                               \r"
     ]
    },
    {
     "name": "stdout",
     "output_type": "stream",
     "text": [
      "Epoch [5/200], Train Loss: 3.0961, Train Accuracy: 0.1037, Val Loss: 3.1043, Val Accuracy: 0.0999\n"
     ]
    },
    {
     "name": "stderr",
     "output_type": "stream",
     "text": [
      "                                                                                               \r"
     ]
    },
    {
     "name": "stdout",
     "output_type": "stream",
     "text": [
      "Epoch [6/200], Train Loss: 3.0952, Train Accuracy: 0.1038, Val Loss: 3.0805, Val Accuracy: 0.1051\n"
     ]
    },
    {
     "name": "stderr",
     "output_type": "stream",
     "text": [
      "                                                                                                \r"
     ]
    },
    {
     "name": "stdout",
     "output_type": "stream",
     "text": [
      "Epoch [7/200], Train Loss: 3.0977, Train Accuracy: 0.1008, Val Loss: 3.0886, Val Accuracy: 0.1096\n"
     ]
    },
    {
     "name": "stderr",
     "output_type": "stream",
     "text": [
      "                                                                                                \r"
     ]
    },
    {
     "name": "stdout",
     "output_type": "stream",
     "text": [
      "Epoch [8/200], Train Loss: 3.1006, Train Accuracy: 0.0985, Val Loss: 3.0918, Val Accuracy: 0.0986\n"
     ]
    },
    {
     "name": "stderr",
     "output_type": "stream",
     "text": [
      "                                                                                               \r"
     ]
    },
    {
     "name": "stdout",
     "output_type": "stream",
     "text": [
      "Epoch [9/200], Train Loss: 3.0921, Train Accuracy: 0.1026, Val Loss: 3.0939, Val Accuracy: 0.0896\n"
     ]
    },
    {
     "name": "stderr",
     "output_type": "stream",
     "text": [
      "                                                                                                \r"
     ]
    },
    {
     "name": "stdout",
     "output_type": "stream",
     "text": [
      "Epoch [10/200], Train Loss: 3.1007, Train Accuracy: 0.1015, Val Loss: 3.1047, Val Accuracy: 0.0892\n"
     ]
    },
    {
     "name": "stderr",
     "output_type": "stream",
     "text": [
      "                                                                                                 \r"
     ]
    },
    {
     "name": "stdout",
     "output_type": "stream",
     "text": [
      "Epoch [11/200], Train Loss: 3.0960, Train Accuracy: 0.0993, Val Loss: 3.0969, Val Accuracy: 0.1060\n"
     ]
    },
    {
     "name": "stderr",
     "output_type": "stream",
     "text": [
      "                                                                                                 \r"
     ]
    },
    {
     "name": "stdout",
     "output_type": "stream",
     "text": [
      "Epoch [12/200], Train Loss: 3.0955, Train Accuracy: 0.1038, Val Loss: 3.1032, Val Accuracy: 0.1053\n"
     ]
    },
    {
     "name": "stderr",
     "output_type": "stream",
     "text": [
      "                                                                                                 \r"
     ]
    },
    {
     "name": "stdout",
     "output_type": "stream",
     "text": [
      "Epoch [13/200], Train Loss: 3.1058, Train Accuracy: 0.0975, Val Loss: 3.2028, Val Accuracy: 0.0818\n"
     ]
    },
    {
     "name": "stderr",
     "output_type": "stream",
     "text": [
      "                                                                                                 \r"
     ]
    },
    {
     "name": "stdout",
     "output_type": "stream",
     "text": [
      "Epoch [14/200], Train Loss: 3.0999, Train Accuracy: 0.1015, Val Loss: 3.0863, Val Accuracy: 0.1089\n"
     ]
    },
    {
     "name": "stderr",
     "output_type": "stream",
     "text": [
      "                                                                                                 \r"
     ]
    },
    {
     "name": "stdout",
     "output_type": "stream",
     "text": [
      "Epoch [15/200], Train Loss: 3.1000, Train Accuracy: 0.1022, Val Loss: 3.0898, Val Accuracy: 0.1045\n"
     ]
    },
    {
     "name": "stderr",
     "output_type": "stream",
     "text": [
      "                                                                                                 \r"
     ]
    },
    {
     "name": "stdout",
     "output_type": "stream",
     "text": [
      "Epoch [16/200], Train Loss: 3.1039, Train Accuracy: 0.0980, Val Loss: 3.0819, Val Accuracy: 0.1064\n"
     ]
    },
    {
     "name": "stderr",
     "output_type": "stream",
     "text": [
      "                                                                                                 \r"
     ]
    },
    {
     "name": "stdout",
     "output_type": "stream",
     "text": [
      "Epoch [17/200], Train Loss: 3.0936, Train Accuracy: 0.1026, Val Loss: 3.0807, Val Accuracy: 0.1060\n"
     ]
    },
    {
     "name": "stderr",
     "output_type": "stream",
     "text": [
      "                                                                                                \r"
     ]
    },
    {
     "name": "stdout",
     "output_type": "stream",
     "text": [
      "Epoch [18/200], Train Loss: 3.0899, Train Accuracy: 0.1016, Val Loss: 3.0836, Val Accuracy: 0.1057\n"
     ]
    },
    {
     "name": "stderr",
     "output_type": "stream",
     "text": [
      "                                                                                                 \r"
     ]
    },
    {
     "name": "stdout",
     "output_type": "stream",
     "text": [
      "Epoch [19/200], Train Loss: 3.0895, Train Accuracy: 0.0998, Val Loss: 3.1171, Val Accuracy: 0.1008\n"
     ]
    },
    {
     "name": "stderr",
     "output_type": "stream",
     "text": [
      "                                                                                                 \r"
     ]
    },
    {
     "name": "stdout",
     "output_type": "stream",
     "text": [
      "Epoch [20/200], Train Loss: 3.1006, Train Accuracy: 0.0988, Val Loss: 3.1420, Val Accuracy: 0.0933\n"
     ]
    },
    {
     "name": "stderr",
     "output_type": "stream",
     "text": [
      "                                                                                                 \r"
     ]
    },
    {
     "name": "stdout",
     "output_type": "stream",
     "text": [
      "Epoch [21/200], Train Loss: 3.1294, Train Accuracy: 0.0940, Val Loss: 3.0968, Val Accuracy: 0.0970\n"
     ]
    },
    {
     "name": "stderr",
     "output_type": "stream",
     "text": [
      "                                                                                                 \r"
     ]
    },
    {
     "name": "stdout",
     "output_type": "stream",
     "text": [
      "Epoch [22/200], Train Loss: 3.1089, Train Accuracy: 0.0968, Val Loss: 3.1129, Val Accuracy: 0.1081\n"
     ]
    },
    {
     "name": "stderr",
     "output_type": "stream",
     "text": [
      "                                                                                                 \r"
     ]
    },
    {
     "name": "stdout",
     "output_type": "stream",
     "text": [
      "Epoch [23/200], Train Loss: 3.1041, Train Accuracy: 0.0996, Val Loss: 3.0988, Val Accuracy: 0.1012\n"
     ]
    },
    {
     "name": "stderr",
     "output_type": "stream",
     "text": [
      "                                                                                                 \r"
     ]
    },
    {
     "name": "stdout",
     "output_type": "stream",
     "text": [
      "Epoch [24/200], Train Loss: 3.0992, Train Accuracy: 0.0991, Val Loss: 3.1088, Val Accuracy: 0.1055\n"
     ]
    },
    {
     "name": "stderr",
     "output_type": "stream",
     "text": [
      "                                                                                                 \r"
     ]
    },
    {
     "name": "stdout",
     "output_type": "stream",
     "text": [
      "Epoch [25/200], Train Loss: 3.0987, Train Accuracy: 0.0977, Val Loss: 3.1097, Val Accuracy: 0.1066\n"
     ]
    },
    {
     "name": "stderr",
     "output_type": "stream",
     "text": [
      "                                                                                                 \r"
     ]
    },
    {
     "name": "stdout",
     "output_type": "stream",
     "text": [
      "Epoch [26/200], Train Loss: 3.1165, Train Accuracy: 0.0984, Val Loss: 3.1298, Val Accuracy: 0.0962\n"
     ]
    },
    {
     "name": "stderr",
     "output_type": "stream",
     "text": [
      "                                                                                                 \r"
     ]
    },
    {
     "name": "stdout",
     "output_type": "stream",
     "text": [
      "Epoch [27/200], Train Loss: 3.1134, Train Accuracy: 0.0957, Val Loss: 3.1119, Val Accuracy: 0.0992\n"
     ]
    },
    {
     "name": "stderr",
     "output_type": "stream",
     "text": [
      "                                                                                                 \r"
     ]
    },
    {
     "name": "stdout",
     "output_type": "stream",
     "text": [
      "Epoch [28/200], Train Loss: 3.1053, Train Accuracy: 0.0995, Val Loss: 3.0915, Val Accuracy: 0.0989\n"
     ]
    },
    {
     "name": "stderr",
     "output_type": "stream",
     "text": [
      "                                                                                                 \r"
     ]
    },
    {
     "name": "stdout",
     "output_type": "stream",
     "text": [
      "Epoch [29/200], Train Loss: 3.0967, Train Accuracy: 0.0997, Val Loss: 3.0864, Val Accuracy: 0.1055\n"
     ]
    },
    {
     "name": "stderr",
     "output_type": "stream",
     "text": [
      "                                                                                                 \r"
     ]
    },
    {
     "name": "stdout",
     "output_type": "stream",
     "text": [
      "Epoch [30/200], Train Loss: 3.0981, Train Accuracy: 0.1000, Val Loss: 3.0977, Val Accuracy: 0.0977\n"
     ]
    },
    {
     "name": "stderr",
     "output_type": "stream",
     "text": [
      "                                                                                                \r"
     ]
    },
    {
     "name": "stdout",
     "output_type": "stream",
     "text": [
      "Epoch [31/200], Train Loss: 3.0944, Train Accuracy: 0.1020, Val Loss: 3.0931, Val Accuracy: 0.1060\n"
     ]
    },
    {
     "name": "stderr",
     "output_type": "stream",
     "text": [
      "                                                                                                 \r"
     ]
    },
    {
     "name": "stdout",
     "output_type": "stream",
     "text": [
      "Epoch [32/200], Train Loss: 3.1073, Train Accuracy: 0.0966, Val Loss: 3.0932, Val Accuracy: 0.0993\n"
     ]
    },
    {
     "name": "stderr",
     "output_type": "stream",
     "text": [
      "                                                                                                 \r"
     ]
    },
    {
     "name": "stdout",
     "output_type": "stream",
     "text": [
      "Epoch [33/200], Train Loss: 3.1039, Train Accuracy: 0.0995, Val Loss: 3.1140, Val Accuracy: 0.0955\n"
     ]
    },
    {
     "name": "stderr",
     "output_type": "stream",
     "text": [
      "                                                                                                 \r"
     ]
    },
    {
     "name": "stdout",
     "output_type": "stream",
     "text": [
      "Epoch [34/200], Train Loss: 3.1137, Train Accuracy: 0.0960, Val Loss: 3.0970, Val Accuracy: 0.1048\n"
     ]
    },
    {
     "name": "stderr",
     "output_type": "stream",
     "text": [
      "                                                                                                 \r"
     ]
    },
    {
     "name": "stdout",
     "output_type": "stream",
     "text": [
      "Epoch [35/200], Train Loss: 3.1045, Train Accuracy: 0.0975, Val Loss: 3.0889, Val Accuracy: 0.1071\n"
     ]
    },
    {
     "name": "stderr",
     "output_type": "stream",
     "text": [
      "                                                                                                 \r"
     ]
    },
    {
     "name": "stdout",
     "output_type": "stream",
     "text": [
      "Epoch [36/200], Train Loss: 3.1006, Train Accuracy: 0.0995, Val Loss: 3.0921, Val Accuracy: 0.0959\n"
     ]
    },
    {
     "name": "stderr",
     "output_type": "stream",
     "text": [
      "                                                                                                 \r"
     ]
    },
    {
     "name": "stdout",
     "output_type": "stream",
     "text": [
      "Epoch [37/200], Train Loss: 3.0989, Train Accuracy: 0.0982, Val Loss: 3.0884, Val Accuracy: 0.1078\n"
     ]
    },
    {
     "name": "stderr",
     "output_type": "stream",
     "text": [
      "                                                                                                \r"
     ]
    },
    {
     "name": "stdout",
     "output_type": "stream",
     "text": [
      "Epoch [38/200], Train Loss: 3.1011, Train Accuracy: 0.0989, Val Loss: 3.1000, Val Accuracy: 0.1030\n"
     ]
    },
    {
     "name": "stderr",
     "output_type": "stream",
     "text": [
      "                                                                                                 \r"
     ]
    },
    {
     "name": "stdout",
     "output_type": "stream",
     "text": [
      "Epoch [39/200], Train Loss: 3.0978, Train Accuracy: 0.0979, Val Loss: 3.0947, Val Accuracy: 0.0981\n"
     ]
    },
    {
     "name": "stderr",
     "output_type": "stream",
     "text": [
      "                                                                                                \r"
     ]
    },
    {
     "name": "stdout",
     "output_type": "stream",
     "text": [
      "Epoch [40/200], Train Loss: 3.0956, Train Accuracy: 0.0982, Val Loss: 3.0934, Val Accuracy: 0.1019\n"
     ]
    },
    {
     "name": "stderr",
     "output_type": "stream",
     "text": [
      "                                                                                                 \r"
     ]
    },
    {
     "name": "stdout",
     "output_type": "stream",
     "text": [
      "Epoch [41/200], Train Loss: 3.1024, Train Accuracy: 0.0993, Val Loss: 3.1184, Val Accuracy: 0.0888\n"
     ]
    },
    {
     "name": "stderr",
     "output_type": "stream",
     "text": [
      "                                                                                                 \r"
     ]
    },
    {
     "name": "stdout",
     "output_type": "stream",
     "text": [
      "Epoch [42/200], Train Loss: 3.1251, Train Accuracy: 0.0953, Val Loss: 3.1477, Val Accuracy: 0.0834\n"
     ]
    },
    {
     "name": "stderr",
     "output_type": "stream",
     "text": [
      "                                                                                                 \r"
     ]
    },
    {
     "name": "stdout",
     "output_type": "stream",
     "text": [
      "Epoch [43/200], Train Loss: 3.1269, Train Accuracy: 0.0925, Val Loss: 3.1329, Val Accuracy: 0.0912\n"
     ]
    },
    {
     "name": "stderr",
     "output_type": "stream",
     "text": [
      "                                                                                                 \r"
     ]
    },
    {
     "name": "stdout",
     "output_type": "stream",
     "text": [
      "Epoch [44/200], Train Loss: 3.1307, Train Accuracy: 0.0891, Val Loss: 3.1329, Val Accuracy: 0.0803\n"
     ]
    },
    {
     "name": "stderr",
     "output_type": "stream",
     "text": [
      "                                                                                                 \r"
     ]
    },
    {
     "name": "stdout",
     "output_type": "stream",
     "text": [
      "Epoch [45/200], Train Loss: 3.1248, Train Accuracy: 0.0939, Val Loss: 3.1196, Val Accuracy: 0.0969\n"
     ]
    },
    {
     "name": "stderr",
     "output_type": "stream",
     "text": [
      "                                                                                                 \r"
     ]
    },
    {
     "name": "stdout",
     "output_type": "stream",
     "text": [
      "Epoch [46/200], Train Loss: 3.1307, Train Accuracy: 0.0895, Val Loss: 3.1385, Val Accuracy: 0.0888\n"
     ]
    },
    {
     "name": "stderr",
     "output_type": "stream",
     "text": [
      "                                                                                                 \r"
     ]
    },
    {
     "name": "stdout",
     "output_type": "stream",
     "text": [
      "Epoch [47/200], Train Loss: 3.1199, Train Accuracy: 0.0942, Val Loss: 3.1054, Val Accuracy: 0.0944\n"
     ]
    },
    {
     "name": "stderr",
     "output_type": "stream",
     "text": [
      "                                                                                                 \r"
     ]
    },
    {
     "name": "stdout",
     "output_type": "stream",
     "text": [
      "Epoch [48/200], Train Loss: 3.1150, Train Accuracy: 0.0941, Val Loss: 3.1052, Val Accuracy: 0.0999\n"
     ]
    },
    {
     "name": "stderr",
     "output_type": "stream",
     "text": [
      "                                                                                                 \r"
     ]
    },
    {
     "name": "stdout",
     "output_type": "stream",
     "text": [
      "Epoch [49/200], Train Loss: 3.1094, Train Accuracy: 0.0955, Val Loss: 3.1229, Val Accuracy: 0.0881\n"
     ]
    },
    {
     "name": "stderr",
     "output_type": "stream",
     "text": [
      "                                                                                                 \r"
     ]
    },
    {
     "name": "stdout",
     "output_type": "stream",
     "text": [
      "Epoch [50/200], Train Loss: 3.1093, Train Accuracy: 0.0957, Val Loss: 3.1043, Val Accuracy: 0.1078\n"
     ]
    },
    {
     "name": "stderr",
     "output_type": "stream",
     "text": [
      "                                                                                                 \r"
     ]
    },
    {
     "name": "stdout",
     "output_type": "stream",
     "text": [
      "Epoch [51/200], Train Loss: 3.1069, Train Accuracy: 0.0986, Val Loss: 3.0956, Val Accuracy: 0.1051\n"
     ]
    },
    {
     "name": "stderr",
     "output_type": "stream",
     "text": [
      "                                                                                                 \r"
     ]
    },
    {
     "name": "stdout",
     "output_type": "stream",
     "text": [
      "Epoch [52/200], Train Loss: 3.1197, Train Accuracy: 0.0948, Val Loss: 3.1322, Val Accuracy: 0.0899\n"
     ]
    },
    {
     "name": "stderr",
     "output_type": "stream",
     "text": [
      "                                                                                                 \r"
     ]
    },
    {
     "name": "stdout",
     "output_type": "stream",
     "text": [
      "Epoch [53/200], Train Loss: 3.1177, Train Accuracy: 0.0962, Val Loss: 3.1100, Val Accuracy: 0.0953\n"
     ]
    },
    {
     "name": "stderr",
     "output_type": "stream",
     "text": [
      "                                                                                                 \r"
     ]
    },
    {
     "name": "stdout",
     "output_type": "stream",
     "text": [
      "Epoch [54/200], Train Loss: 3.1165, Train Accuracy: 0.0943, Val Loss: 3.1064, Val Accuracy: 0.0997\n"
     ]
    },
    {
     "name": "stderr",
     "output_type": "stream",
     "text": [
      "                                                                                                 \r"
     ]
    },
    {
     "name": "stdout",
     "output_type": "stream",
     "text": [
      "Epoch [55/200], Train Loss: 3.1058, Train Accuracy: 0.0994, Val Loss: 3.1045, Val Accuracy: 0.1005\n"
     ]
    },
    {
     "name": "stderr",
     "output_type": "stream",
     "text": [
      "                                                                                                 \r"
     ]
    },
    {
     "name": "stdout",
     "output_type": "stream",
     "text": [
      "Epoch [56/200], Train Loss: 3.1027, Train Accuracy: 0.0983, Val Loss: 3.1058, Val Accuracy: 0.1010\n"
     ]
    },
    {
     "name": "stderr",
     "output_type": "stream",
     "text": [
      "                                                                                                 \r"
     ]
    },
    {
     "name": "stdout",
     "output_type": "stream",
     "text": [
      "Epoch [57/200], Train Loss: 3.1013, Train Accuracy: 0.0986, Val Loss: 3.1063, Val Accuracy: 0.0963\n"
     ]
    },
    {
     "name": "stderr",
     "output_type": "stream",
     "text": [
      "                                                                                                 \r"
     ]
    },
    {
     "name": "stdout",
     "output_type": "stream",
     "text": [
      "Epoch [58/200], Train Loss: 3.0998, Train Accuracy: 0.1001, Val Loss: 3.0893, Val Accuracy: 0.0993\n"
     ]
    },
    {
     "name": "stderr",
     "output_type": "stream",
     "text": [
      "                                                                                                 \r"
     ]
    },
    {
     "name": "stdout",
     "output_type": "stream",
     "text": [
      "Epoch [59/200], Train Loss: 3.0957, Train Accuracy: 0.0982, Val Loss: 3.0882, Val Accuracy: 0.1005\n"
     ]
    },
    {
     "name": "stderr",
     "output_type": "stream",
     "text": [
      "                                                                                                 \r"
     ]
    },
    {
     "name": "stdout",
     "output_type": "stream",
     "text": [
      "Epoch [60/200], Train Loss: 3.1056, Train Accuracy: 0.0994, Val Loss: 3.1153, Val Accuracy: 0.0941\n"
     ]
    },
    {
     "name": "stderr",
     "output_type": "stream",
     "text": [
      "                                                                                                 \r"
     ]
    },
    {
     "name": "stdout",
     "output_type": "stream",
     "text": [
      "Epoch [61/200], Train Loss: 3.1187, Train Accuracy: 0.0940, Val Loss: 3.1361, Val Accuracy: 0.0915\n"
     ]
    },
    {
     "name": "stderr",
     "output_type": "stream",
     "text": [
      "                                                                                                 \r"
     ]
    },
    {
     "name": "stdout",
     "output_type": "stream",
     "text": [
      "Epoch [62/200], Train Loss: 3.1119, Train Accuracy: 0.0967, Val Loss: 3.1018, Val Accuracy: 0.0958\n"
     ]
    },
    {
     "name": "stderr",
     "output_type": "stream",
     "text": [
      "                                                                                                 \r"
     ]
    },
    {
     "name": "stdout",
     "output_type": "stream",
     "text": [
      "Epoch [63/200], Train Loss: 3.1044, Train Accuracy: 0.0972, Val Loss: 3.1121, Val Accuracy: 0.0949\n"
     ]
    },
    {
     "name": "stderr",
     "output_type": "stream",
     "text": [
      "                                                                                                 \r"
     ]
    },
    {
     "name": "stdout",
     "output_type": "stream",
     "text": [
      "Epoch [64/200], Train Loss: 3.1033, Train Accuracy: 0.0968, Val Loss: 3.0998, Val Accuracy: 0.1004\n"
     ]
    },
    {
     "name": "stderr",
     "output_type": "stream",
     "text": [
      "                                                                                                 \r"
     ]
    },
    {
     "name": "stdout",
     "output_type": "stream",
     "text": [
      "Epoch [65/200], Train Loss: 3.1064, Train Accuracy: 0.0977, Val Loss: 3.1108, Val Accuracy: 0.1004\n"
     ]
    },
    {
     "name": "stderr",
     "output_type": "stream",
     "text": [
      "                                                                                                 \r"
     ]
    },
    {
     "name": "stdout",
     "output_type": "stream",
     "text": [
      "Epoch [66/200], Train Loss: 3.1107, Train Accuracy: 0.0978, Val Loss: 3.1281, Val Accuracy: 0.0977\n"
     ]
    },
    {
     "name": "stderr",
     "output_type": "stream",
     "text": [
      "                                                                                                 \r"
     ]
    },
    {
     "name": "stdout",
     "output_type": "stream",
     "text": [
      "Epoch [67/200], Train Loss: 3.1027, Train Accuracy: 0.0976, Val Loss: 3.0926, Val Accuracy: 0.1027\n"
     ]
    },
    {
     "name": "stderr",
     "output_type": "stream",
     "text": [
      "                                                                                                 \r"
     ]
    },
    {
     "name": "stdout",
     "output_type": "stream",
     "text": [
      "Epoch [68/200], Train Loss: 3.1101, Train Accuracy: 0.0978, Val Loss: 3.0988, Val Accuracy: 0.0973\n"
     ]
    },
    {
     "name": "stderr",
     "output_type": "stream",
     "text": [
      "                                                                                                 \r"
     ]
    },
    {
     "name": "stdout",
     "output_type": "stream",
     "text": [
      "Epoch [69/200], Train Loss: 3.1003, Train Accuracy: 0.1016, Val Loss: 3.0949, Val Accuracy: 0.1011\n"
     ]
    },
    {
     "name": "stderr",
     "output_type": "stream",
     "text": [
      "                                                                                                 \r"
     ]
    },
    {
     "name": "stdout",
     "output_type": "stream",
     "text": [
      "Epoch [70/200], Train Loss: 3.0995, Train Accuracy: 0.0991, Val Loss: 3.0957, Val Accuracy: 0.0993\n"
     ]
    },
    {
     "name": "stderr",
     "output_type": "stream",
     "text": [
      "                                                                                                 \r"
     ]
    },
    {
     "name": "stdout",
     "output_type": "stream",
     "text": [
      "Epoch [71/200], Train Loss: 3.0971, Train Accuracy: 0.1009, Val Loss: 3.1143, Val Accuracy: 0.0981\n"
     ]
    },
    {
     "name": "stderr",
     "output_type": "stream",
     "text": [
      "                                                                                                 \r"
     ]
    },
    {
     "name": "stdout",
     "output_type": "stream",
     "text": [
      "Epoch [72/200], Train Loss: 3.1037, Train Accuracy: 0.0984, Val Loss: 3.0941, Val Accuracy: 0.0969\n"
     ]
    },
    {
     "name": "stderr",
     "output_type": "stream",
     "text": [
      "                                                                                                 \r"
     ]
    },
    {
     "name": "stdout",
     "output_type": "stream",
     "text": [
      "Epoch [73/200], Train Loss: 3.0957, Train Accuracy: 0.1011, Val Loss: 3.1028, Val Accuracy: 0.0985\n"
     ]
    },
    {
     "name": "stderr",
     "output_type": "stream",
     "text": [
      "                                                                                                 \r"
     ]
    },
    {
     "name": "stdout",
     "output_type": "stream",
     "text": [
      "Epoch [74/200], Train Loss: 3.1058, Train Accuracy: 0.0997, Val Loss: 3.1111, Val Accuracy: 0.0903\n"
     ]
    },
    {
     "name": "stderr",
     "output_type": "stream",
     "text": [
      "                                                                                                 \r"
     ]
    },
    {
     "name": "stdout",
     "output_type": "stream",
     "text": [
      "Epoch [75/200], Train Loss: 3.1145, Train Accuracy: 0.0957, Val Loss: 3.0982, Val Accuracy: 0.1027\n"
     ]
    },
    {
     "name": "stderr",
     "output_type": "stream",
     "text": [
      "                                                                                                 \r"
     ]
    },
    {
     "name": "stdout",
     "output_type": "stream",
     "text": [
      "Epoch [76/200], Train Loss: 3.1038, Train Accuracy: 0.0989, Val Loss: 3.1021, Val Accuracy: 0.0911\n"
     ]
    },
    {
     "name": "stderr",
     "output_type": "stream",
     "text": [
      "                                                                                                 \r"
     ]
    },
    {
     "name": "stdout",
     "output_type": "stream",
     "text": [
      "Epoch [77/200], Train Loss: 3.1360, Train Accuracy: 0.0893, Val Loss: 3.1233, Val Accuracy: 0.0949\n"
     ]
    },
    {
     "name": "stderr",
     "output_type": "stream",
     "text": [
      "                                                                                                 \r"
     ]
    },
    {
     "name": "stdout",
     "output_type": "stream",
     "text": [
      "Epoch [78/200], Train Loss: 3.1202, Train Accuracy: 0.0952, Val Loss: 3.1212, Val Accuracy: 0.0937\n"
     ]
    },
    {
     "name": "stderr",
     "output_type": "stream",
     "text": [
      "                                                                                                 \r"
     ]
    },
    {
     "name": "stdout",
     "output_type": "stream",
     "text": [
      "Epoch [79/200], Train Loss: 3.1242, Train Accuracy: 0.0907, Val Loss: 3.1512, Val Accuracy: 0.0810\n"
     ]
    },
    {
     "name": "stderr",
     "output_type": "stream",
     "text": [
      "                                                                                                 \r"
     ]
    },
    {
     "name": "stdout",
     "output_type": "stream",
     "text": [
      "Epoch [80/200], Train Loss: 3.1232, Train Accuracy: 0.0966, Val Loss: 3.1081, Val Accuracy: 0.0988\n"
     ]
    },
    {
     "name": "stderr",
     "output_type": "stream",
     "text": [
      "                                                                                                 \r"
     ]
    },
    {
     "name": "stdout",
     "output_type": "stream",
     "text": [
      "Epoch [81/200], Train Loss: 3.1157, Train Accuracy: 0.0937, Val Loss: 3.1238, Val Accuracy: 0.0891\n"
     ]
    },
    {
     "name": "stderr",
     "output_type": "stream",
     "text": [
      "                                                                                                 \r"
     ]
    },
    {
     "name": "stdout",
     "output_type": "stream",
     "text": [
      "Epoch [82/200], Train Loss: 3.1400, Train Accuracy: 0.0853, Val Loss: 3.1394, Val Accuracy: 0.0858\n"
     ]
    },
    {
     "name": "stderr",
     "output_type": "stream",
     "text": [
      "                                                                                                 \r"
     ]
    },
    {
     "name": "stdout",
     "output_type": "stream",
     "text": [
      "Epoch [83/200], Train Loss: 3.1420, Train Accuracy: 0.0844, Val Loss: 3.1433, Val Accuracy: 0.0788\n"
     ]
    },
    {
     "name": "stderr",
     "output_type": "stream",
     "text": [
      "                                                                                                 \r"
     ]
    },
    {
     "name": "stdout",
     "output_type": "stream",
     "text": [
      "Epoch [84/200], Train Loss: 3.1410, Train Accuracy: 0.0831, Val Loss: 3.1432, Val Accuracy: 0.0848\n"
     ]
    },
    {
     "name": "stderr",
     "output_type": "stream",
     "text": [
      "                                                                                                 \r"
     ]
    },
    {
     "name": "stdout",
     "output_type": "stream",
     "text": [
      "Epoch [85/200], Train Loss: 3.1417, Train Accuracy: 0.0840, Val Loss: 3.1399, Val Accuracy: 0.0799\n"
     ]
    },
    {
     "name": "stderr",
     "output_type": "stream",
     "text": [
      "                                                                                                 \r"
     ]
    },
    {
     "name": "stdout",
     "output_type": "stream",
     "text": [
      "Epoch [86/200], Train Loss: 3.1398, Train Accuracy: 0.0840, Val Loss: 3.1392, Val Accuracy: 0.0910\n"
     ]
    },
    {
     "name": "stderr",
     "output_type": "stream",
     "text": [
      "                                                                                                 \r"
     ]
    },
    {
     "name": "stdout",
     "output_type": "stream",
     "text": [
      "Epoch [87/200], Train Loss: 3.1391, Train Accuracy: 0.0844, Val Loss: 3.1438, Val Accuracy: 0.0878\n"
     ]
    },
    {
     "name": "stderr",
     "output_type": "stream",
     "text": [
      "                                                                                                 \r"
     ]
    },
    {
     "name": "stdout",
     "output_type": "stream",
     "text": [
      "Epoch [88/200], Train Loss: 3.1421, Train Accuracy: 0.0835, Val Loss: 3.1369, Val Accuracy: 0.0822\n"
     ]
    },
    {
     "name": "stderr",
     "output_type": "stream",
     "text": [
      "                                                                                                 \r"
     ]
    },
    {
     "name": "stdout",
     "output_type": "stream",
     "text": [
      "Epoch [89/200], Train Loss: 3.1413, Train Accuracy: 0.0881, Val Loss: 3.1389, Val Accuracy: 0.0802\n"
     ]
    },
    {
     "name": "stderr",
     "output_type": "stream",
     "text": [
      "                                                                                                 \r"
     ]
    },
    {
     "name": "stdout",
     "output_type": "stream",
     "text": [
      "Epoch [90/200], Train Loss: 3.1420, Train Accuracy: 0.0830, Val Loss: 3.1382, Val Accuracy: 0.0802\n"
     ]
    },
    {
     "name": "stderr",
     "output_type": "stream",
     "text": [
      "                                                                                                 \r"
     ]
    },
    {
     "name": "stdout",
     "output_type": "stream",
     "text": [
      "Epoch [91/200], Train Loss: 3.1413, Train Accuracy: 0.0809, Val Loss: 3.1358, Val Accuracy: 0.0810\n"
     ]
    },
    {
     "name": "stderr",
     "output_type": "stream",
     "text": [
      "                                                                                                 \r"
     ]
    },
    {
     "name": "stdout",
     "output_type": "stream",
     "text": [
      "Epoch [92/200], Train Loss: 3.1405, Train Accuracy: 0.0844, Val Loss: 3.1387, Val Accuracy: 0.0908\n"
     ]
    },
    {
     "name": "stderr",
     "output_type": "stream",
     "text": [
      "                                                                                                 \r"
     ]
    },
    {
     "name": "stdout",
     "output_type": "stream",
     "text": [
      "Epoch [93/200], Train Loss: 3.1417, Train Accuracy: 0.0858, Val Loss: 3.1364, Val Accuracy: 0.0859\n"
     ]
    },
    {
     "name": "stderr",
     "output_type": "stream",
     "text": [
      "                                                                                                 \r"
     ]
    },
    {
     "name": "stdout",
     "output_type": "stream",
     "text": [
      "Epoch [94/200], Train Loss: 3.1450, Train Accuracy: 0.0833, Val Loss: 3.1423, Val Accuracy: 0.0917\n"
     ]
    },
    {
     "name": "stderr",
     "output_type": "stream",
     "text": [
      "                                                                                                 \r"
     ]
    },
    {
     "name": "stdout",
     "output_type": "stream",
     "text": [
      "Epoch [95/200], Train Loss: 3.1406, Train Accuracy: 0.0841, Val Loss: 3.1420, Val Accuracy: 0.0876\n"
     ]
    },
    {
     "name": "stderr",
     "output_type": "stream",
     "text": [
      "                                                                                                 \r"
     ]
    },
    {
     "name": "stdout",
     "output_type": "stream",
     "text": [
      "Epoch [96/200], Train Loss: 3.1401, Train Accuracy: 0.0875, Val Loss: 3.1468, Val Accuracy: 0.0793\n"
     ]
    },
    {
     "name": "stderr",
     "output_type": "stream",
     "text": [
      "                                                                                                 \r"
     ]
    },
    {
     "name": "stdout",
     "output_type": "stream",
     "text": [
      "Epoch [97/200], Train Loss: 3.1397, Train Accuracy: 0.0824, Val Loss: 3.1396, Val Accuracy: 0.0792\n"
     ]
    },
    {
     "name": "stderr",
     "output_type": "stream",
     "text": [
      "                                                                                                 \r"
     ]
    },
    {
     "name": "stdout",
     "output_type": "stream",
     "text": [
      "Epoch [98/200], Train Loss: 3.1415, Train Accuracy: 0.0808, Val Loss: 3.1477, Val Accuracy: 0.0889\n"
     ]
    },
    {
     "name": "stderr",
     "output_type": "stream",
     "text": [
      "                                                                                                 \r"
     ]
    },
    {
     "name": "stdout",
     "output_type": "stream",
     "text": [
      "Epoch [99/200], Train Loss: 3.1410, Train Accuracy: 0.0838, Val Loss: 3.1398, Val Accuracy: 0.0822\n"
     ]
    },
    {
     "name": "stderr",
     "output_type": "stream",
     "text": [
      "                                                                                                  \r"
     ]
    },
    {
     "name": "stdout",
     "output_type": "stream",
     "text": [
      "Epoch [100/200], Train Loss: 3.1439, Train Accuracy: 0.0867, Val Loss: 3.1381, Val Accuracy: 0.0795\n"
     ]
    },
    {
     "name": "stderr",
     "output_type": "stream",
     "text": [
      "                                                                                                  \r"
     ]
    },
    {
     "name": "stdout",
     "output_type": "stream",
     "text": [
      "Epoch [101/200], Train Loss: 3.1395, Train Accuracy: 0.0825, Val Loss: 3.1378, Val Accuracy: 0.0817\n"
     ]
    },
    {
     "name": "stderr",
     "output_type": "stream",
     "text": [
      "                                                                                                  \r"
     ]
    },
    {
     "name": "stdout",
     "output_type": "stream",
     "text": [
      "Epoch [102/200], Train Loss: 3.1402, Train Accuracy: 0.0839, Val Loss: 3.1390, Val Accuracy: 0.0895\n"
     ]
    },
    {
     "name": "stderr",
     "output_type": "stream",
     "text": [
      "                                                                                                  \r"
     ]
    },
    {
     "name": "stdout",
     "output_type": "stream",
     "text": [
      "Epoch [103/200], Train Loss: 3.1401, Train Accuracy: 0.0822, Val Loss: 3.1394, Val Accuracy: 0.0873\n"
     ]
    },
    {
     "name": "stderr",
     "output_type": "stream",
     "text": [
      "                                                                                                  \r"
     ]
    },
    {
     "name": "stdout",
     "output_type": "stream",
     "text": [
      "Epoch [104/200], Train Loss: 3.1402, Train Accuracy: 0.0841, Val Loss: 3.1367, Val Accuracy: 0.0908\n"
     ]
    },
    {
     "name": "stderr",
     "output_type": "stream",
     "text": [
      "                                                                                                  \r"
     ]
    },
    {
     "name": "stdout",
     "output_type": "stream",
     "text": [
      "Epoch [105/200], Train Loss: 3.1431, Train Accuracy: 0.0810, Val Loss: 3.1378, Val Accuracy: 0.0886\n"
     ]
    },
    {
     "name": "stderr",
     "output_type": "stream",
     "text": [
      "                                                                                                  \r"
     ]
    },
    {
     "name": "stdout",
     "output_type": "stream",
     "text": [
      "Epoch [106/200], Train Loss: 3.1397, Train Accuracy: 0.0859, Val Loss: 3.1378, Val Accuracy: 0.0888\n"
     ]
    },
    {
     "name": "stderr",
     "output_type": "stream",
     "text": [
      "                                                                                                  \r"
     ]
    },
    {
     "name": "stdout",
     "output_type": "stream",
     "text": [
      "Epoch [107/200], Train Loss: 3.1554, Train Accuracy: 0.0815, Val Loss: 3.1672, Val Accuracy: 0.0777\n"
     ]
    },
    {
     "name": "stderr",
     "output_type": "stream",
     "text": [
      "                                                                                                  \r"
     ]
    },
    {
     "name": "stdout",
     "output_type": "stream",
     "text": [
      "Epoch [108/200], Train Loss: 3.1502, Train Accuracy: 0.0818, Val Loss: 3.1444, Val Accuracy: 0.0810\n"
     ]
    },
    {
     "name": "stderr",
     "output_type": "stream",
     "text": [
      "                                                                                                  \r"
     ]
    },
    {
     "name": "stdout",
     "output_type": "stream",
     "text": [
      "Epoch [109/200], Train Loss: 3.1412, Train Accuracy: 0.0824, Val Loss: 3.1407, Val Accuracy: 0.0813\n"
     ]
    },
    {
     "name": "stderr",
     "output_type": "stream",
     "text": [
      "                                                                                                  \r"
     ]
    },
    {
     "name": "stdout",
     "output_type": "stream",
     "text": [
      "Epoch [110/200], Train Loss: 3.1420, Train Accuracy: 0.0801, Val Loss: 3.1423, Val Accuracy: 0.0843\n"
     ]
    },
    {
     "name": "stderr",
     "output_type": "stream",
     "text": [
      "                                                                                                  \r"
     ]
    },
    {
     "name": "stdout",
     "output_type": "stream",
     "text": [
      "Epoch [111/200], Train Loss: 3.1439, Train Accuracy: 0.0849, Val Loss: 3.1357, Val Accuracy: 0.0818\n"
     ]
    },
    {
     "name": "stderr",
     "output_type": "stream",
     "text": [
      "                                                                                                  \r"
     ]
    },
    {
     "name": "stdout",
     "output_type": "stream",
     "text": [
      "Epoch [112/200], Train Loss: 3.1436, Train Accuracy: 0.0833, Val Loss: 3.1435, Val Accuracy: 0.0804\n"
     ]
    },
    {
     "name": "stderr",
     "output_type": "stream",
     "text": [
      "                                                                                                  \r"
     ]
    },
    {
     "name": "stdout",
     "output_type": "stream",
     "text": [
      "Epoch [113/200], Train Loss: 3.1409, Train Accuracy: 0.0838, Val Loss: 3.1397, Val Accuracy: 0.0810\n"
     ]
    },
    {
     "name": "stderr",
     "output_type": "stream",
     "text": [
      "                                                                                                  \r"
     ]
    },
    {
     "name": "stdout",
     "output_type": "stream",
     "text": [
      "Epoch [114/200], Train Loss: 3.1401, Train Accuracy: 0.0838, Val Loss: 3.1455, Val Accuracy: 0.0793\n"
     ]
    },
    {
     "name": "stderr",
     "output_type": "stream",
     "text": [
      "                                                                                                  \r"
     ]
    },
    {
     "name": "stdout",
     "output_type": "stream",
     "text": [
      "Epoch [115/200], Train Loss: 3.1422, Train Accuracy: 0.0842, Val Loss: 3.1493, Val Accuracy: 0.0778\n"
     ]
    },
    {
     "name": "stderr",
     "output_type": "stream",
     "text": [
      "                                                                                                  \r"
     ]
    },
    {
     "name": "stdout",
     "output_type": "stream",
     "text": [
      "Epoch [116/200], Train Loss: 3.1406, Train Accuracy: 0.0833, Val Loss: 3.1425, Val Accuracy: 0.0792\n"
     ]
    },
    {
     "name": "stderr",
     "output_type": "stream",
     "text": [
      "                                                                                                  \r"
     ]
    },
    {
     "name": "stdout",
     "output_type": "stream",
     "text": [
      "Epoch [117/200], Train Loss: 3.1421, Train Accuracy: 0.0820, Val Loss: 3.1344, Val Accuracy: 0.0793\n"
     ]
    },
    {
     "name": "stderr",
     "output_type": "stream",
     "text": [
      "                                                                                                  \r"
     ]
    },
    {
     "name": "stdout",
     "output_type": "stream",
     "text": [
      "Epoch [118/200], Train Loss: 3.1359, Train Accuracy: 0.0840, Val Loss: 3.1325, Val Accuracy: 0.0912\n"
     ]
    },
    {
     "name": "stderr",
     "output_type": "stream",
     "text": [
      "                                                                                                  \r"
     ]
    },
    {
     "name": "stdout",
     "output_type": "stream",
     "text": [
      "Epoch [119/200], Train Loss: 3.1345, Train Accuracy: 0.0846, Val Loss: 3.1340, Val Accuracy: 0.0867\n"
     ]
    },
    {
     "name": "stderr",
     "output_type": "stream",
     "text": [
      "                                                                                                  \r"
     ]
    },
    {
     "name": "stdout",
     "output_type": "stream",
     "text": [
      "Epoch [120/200], Train Loss: 3.1341, Train Accuracy: 0.0884, Val Loss: 3.1399, Val Accuracy: 0.0878\n"
     ]
    },
    {
     "name": "stderr",
     "output_type": "stream",
     "text": [
      "                                                                                                  \r"
     ]
    },
    {
     "name": "stdout",
     "output_type": "stream",
     "text": [
      "Epoch [121/200], Train Loss: 3.1362, Train Accuracy: 0.0916, Val Loss: 3.1285, Val Accuracy: 0.0926\n"
     ]
    },
    {
     "name": "stderr",
     "output_type": "stream",
     "text": [
      "                                                                                                  \r"
     ]
    },
    {
     "name": "stdout",
     "output_type": "stream",
     "text": [
      "Epoch [122/200], Train Loss: 3.1388, Train Accuracy: 0.0880, Val Loss: 3.1349, Val Accuracy: 0.0866\n"
     ]
    },
    {
     "name": "stderr",
     "output_type": "stream",
     "text": [
      "                                                                                                  \r"
     ]
    },
    {
     "name": "stdout",
     "output_type": "stream",
     "text": [
      "Epoch [123/200], Train Loss: 3.1268, Train Accuracy: 0.0939, Val Loss: 3.1561, Val Accuracy: 0.0895\n"
     ]
    },
    {
     "name": "stderr",
     "output_type": "stream",
     "text": [
      "                                                                                                  \r"
     ]
    },
    {
     "name": "stdout",
     "output_type": "stream",
     "text": [
      "Epoch [124/200], Train Loss: 3.1395, Train Accuracy: 0.0866, Val Loss: 3.1247, Val Accuracy: 0.0911\n"
     ]
    },
    {
     "name": "stderr",
     "output_type": "stream",
     "text": [
      "                                                                                                  \r"
     ]
    },
    {
     "name": "stdout",
     "output_type": "stream",
     "text": [
      "Epoch [125/200], Train Loss: 3.1255, Train Accuracy: 0.0913, Val Loss: 3.1185, Val Accuracy: 0.0907\n"
     ]
    },
    {
     "name": "stderr",
     "output_type": "stream",
     "text": [
      "                                                                                                  \r"
     ]
    },
    {
     "name": "stdout",
     "output_type": "stream",
     "text": [
      "Epoch [126/200], Train Loss: 3.1275, Train Accuracy: 0.0886, Val Loss: 3.1237, Val Accuracy: 0.0934\n"
     ]
    },
    {
     "name": "stderr",
     "output_type": "stream",
     "text": [
      "                                                                                                  \r"
     ]
    },
    {
     "name": "stdout",
     "output_type": "stream",
     "text": [
      "Epoch [127/200], Train Loss: 3.1377, Train Accuracy: 0.0869, Val Loss: 3.1464, Val Accuracy: 0.0897\n"
     ]
    },
    {
     "name": "stderr",
     "output_type": "stream",
     "text": [
      "                                                                                                  \r"
     ]
    },
    {
     "name": "stdout",
     "output_type": "stream",
     "text": [
      "Epoch [128/200], Train Loss: 3.1361, Train Accuracy: 0.0854, Val Loss: 3.1399, Val Accuracy: 0.0895\n"
     ]
    },
    {
     "name": "stderr",
     "output_type": "stream",
     "text": [
      "                                                                                                  \r"
     ]
    },
    {
     "name": "stdout",
     "output_type": "stream",
     "text": [
      "Epoch [129/200], Train Loss: 3.1408, Train Accuracy: 0.0827, Val Loss: 3.1331, Val Accuracy: 0.0855\n"
     ]
    },
    {
     "name": "stderr",
     "output_type": "stream",
     "text": [
      "                                                                                                  \r"
     ]
    },
    {
     "name": "stdout",
     "output_type": "stream",
     "text": [
      "Epoch [130/200], Train Loss: 3.1368, Train Accuracy: 0.0843, Val Loss: 3.1311, Val Accuracy: 0.0884\n"
     ]
    },
    {
     "name": "stderr",
     "output_type": "stream",
     "text": [
      "                                                                                                  \r"
     ]
    },
    {
     "name": "stdout",
     "output_type": "stream",
     "text": [
      "Epoch [131/200], Train Loss: 3.1341, Train Accuracy: 0.0866, Val Loss: 3.1341, Val Accuracy: 0.0822\n"
     ]
    },
    {
     "name": "stderr",
     "output_type": "stream",
     "text": [
      "                                                                                                  \r"
     ]
    },
    {
     "name": "stdout",
     "output_type": "stream",
     "text": [
      "Epoch [132/200], Train Loss: 3.1487, Train Accuracy: 0.0844, Val Loss: 3.1439, Val Accuracy: 0.0837\n"
     ]
    },
    {
     "name": "stderr",
     "output_type": "stream",
     "text": [
      "                                                                                                  \r"
     ]
    },
    {
     "name": "stdout",
     "output_type": "stream",
     "text": [
      "Epoch [133/200], Train Loss: 3.1377, Train Accuracy: 0.0822, Val Loss: 3.1368, Val Accuracy: 0.0824\n"
     ]
    },
    {
     "name": "stderr",
     "output_type": "stream",
     "text": [
      "                                                                                                  \r"
     ]
    },
    {
     "name": "stdout",
     "output_type": "stream",
     "text": [
      "Epoch [134/200], Train Loss: 3.1425, Train Accuracy: 0.0901, Val Loss: 3.1459, Val Accuracy: 0.0819\n"
     ]
    },
    {
     "name": "stderr",
     "output_type": "stream",
     "text": [
      "                                                                                                  \r"
     ]
    },
    {
     "name": "stdout",
     "output_type": "stream",
     "text": [
      "Epoch [135/200], Train Loss: 3.1407, Train Accuracy: 0.0807, Val Loss: 3.1313, Val Accuracy: 0.0885\n"
     ]
    },
    {
     "name": "stderr",
     "output_type": "stream",
     "text": [
      "                                                                                                  \r"
     ]
    },
    {
     "name": "stdout",
     "output_type": "stream",
     "text": [
      "Epoch [136/200], Train Loss: 3.1379, Train Accuracy: 0.0802, Val Loss: 3.1379, Val Accuracy: 0.0828\n"
     ]
    },
    {
     "name": "stderr",
     "output_type": "stream",
     "text": [
      "                                                                                                  \r"
     ]
    },
    {
     "name": "stdout",
     "output_type": "stream",
     "text": [
      "Epoch [137/200], Train Loss: 3.1344, Train Accuracy: 0.0864, Val Loss: 3.1351, Val Accuracy: 0.0877\n"
     ]
    },
    {
     "name": "stderr",
     "output_type": "stream",
     "text": [
      "                                                                                                  \r"
     ]
    },
    {
     "name": "stdout",
     "output_type": "stream",
     "text": [
      "Epoch [138/200], Train Loss: 3.1328, Train Accuracy: 0.0827, Val Loss: 3.1343, Val Accuracy: 0.0863\n"
     ]
    },
    {
     "name": "stderr",
     "output_type": "stream",
     "text": [
      "                                                                                                  \r"
     ]
    },
    {
     "name": "stdout",
     "output_type": "stream",
     "text": [
      "Epoch [139/200], Train Loss: 3.1331, Train Accuracy: 0.0895, Val Loss: 3.1372, Val Accuracy: 0.0874\n"
     ]
    },
    {
     "name": "stderr",
     "output_type": "stream",
     "text": [
      "                                                                                                  \r"
     ]
    },
    {
     "name": "stdout",
     "output_type": "stream",
     "text": [
      "Epoch [140/200], Train Loss: 3.1326, Train Accuracy: 0.0864, Val Loss: 3.1325, Val Accuracy: 0.0907\n"
     ]
    },
    {
     "name": "stderr",
     "output_type": "stream",
     "text": [
      "                                                                                                  \r"
     ]
    },
    {
     "name": "stdout",
     "output_type": "stream",
     "text": [
      "Epoch [141/200], Train Loss: 3.1310, Train Accuracy: 0.0897, Val Loss: 3.1310, Val Accuracy: 0.0955\n"
     ]
    },
    {
     "name": "stderr",
     "output_type": "stream",
     "text": [
      "                                                                                                  \r"
     ]
    },
    {
     "name": "stdout",
     "output_type": "stream",
     "text": [
      "Epoch [142/200], Train Loss: 3.1316, Train Accuracy: 0.0868, Val Loss: 3.1435, Val Accuracy: 0.0810\n"
     ]
    },
    {
     "name": "stderr",
     "output_type": "stream",
     "text": [
      "                                                                                                  \r"
     ]
    },
    {
     "name": "stdout",
     "output_type": "stream",
     "text": [
      "Epoch [143/200], Train Loss: 3.1358, Train Accuracy: 0.0817, Val Loss: 3.1320, Val Accuracy: 0.0891\n"
     ]
    },
    {
     "name": "stderr",
     "output_type": "stream",
     "text": [
      "                                                                                                  \r"
     ]
    },
    {
     "name": "stdout",
     "output_type": "stream",
     "text": [
      "Epoch [144/200], Train Loss: 3.1301, Train Accuracy: 0.0874, Val Loss: 3.1263, Val Accuracy: 0.0870\n"
     ]
    },
    {
     "name": "stderr",
     "output_type": "stream",
     "text": [
      "                                                                                                  \r"
     ]
    },
    {
     "name": "stdout",
     "output_type": "stream",
     "text": [
      "Epoch [145/200], Train Loss: 3.1289, Train Accuracy: 0.0911, Val Loss: 3.1248, Val Accuracy: 0.0949\n"
     ]
    },
    {
     "name": "stderr",
     "output_type": "stream",
     "text": [
      "                                                                                                  \r"
     ]
    },
    {
     "name": "stdout",
     "output_type": "stream",
     "text": [
      "Epoch [146/200], Train Loss: 3.1316, Train Accuracy: 0.0896, Val Loss: 3.1302, Val Accuracy: 0.0919\n"
     ]
    },
    {
     "name": "stderr",
     "output_type": "stream",
     "text": [
      "                                                                                                  \r"
     ]
    },
    {
     "name": "stdout",
     "output_type": "stream",
     "text": [
      "Epoch [147/200], Train Loss: 3.1314, Train Accuracy: 0.0886, Val Loss: 3.1329, Val Accuracy: 0.0914\n"
     ]
    },
    {
     "name": "stderr",
     "output_type": "stream",
     "text": [
      "                                                                                                  \r"
     ]
    },
    {
     "name": "stdout",
     "output_type": "stream",
     "text": [
      "Epoch [148/200], Train Loss: 3.1385, Train Accuracy: 0.0873, Val Loss: 3.1396, Val Accuracy: 0.0799\n"
     ]
    },
    {
     "name": "stderr",
     "output_type": "stream",
     "text": [
      "                                                                                                  \r"
     ]
    },
    {
     "name": "stdout",
     "output_type": "stream",
     "text": [
      "Epoch [149/200], Train Loss: 3.1392, Train Accuracy: 0.0824, Val Loss: 3.1347, Val Accuracy: 0.0843\n"
     ]
    },
    {
     "name": "stderr",
     "output_type": "stream",
     "text": [
      "                                                                                                  \r"
     ]
    },
    {
     "name": "stdout",
     "output_type": "stream",
     "text": [
      "Epoch [150/200], Train Loss: 3.1441, Train Accuracy: 0.0861, Val Loss: 3.1366, Val Accuracy: 0.0854\n"
     ]
    },
    {
     "name": "stderr",
     "output_type": "stream",
     "text": [
      "                                                                                                  \r"
     ]
    },
    {
     "name": "stdout",
     "output_type": "stream",
     "text": [
      "Epoch [151/200], Train Loss: 3.1479, Train Accuracy: 0.0820, Val Loss: 3.1375, Val Accuracy: 0.0880\n"
     ]
    },
    {
     "name": "stderr",
     "output_type": "stream",
     "text": [
      "                                                                                                  \r"
     ]
    },
    {
     "name": "stdout",
     "output_type": "stream",
     "text": [
      "Epoch [152/200], Train Loss: 3.1378, Train Accuracy: 0.0841, Val Loss: 3.1367, Val Accuracy: 0.0882\n"
     ]
    },
    {
     "name": "stderr",
     "output_type": "stream",
     "text": [
      "                                                                                                  \r"
     ]
    },
    {
     "name": "stdout",
     "output_type": "stream",
     "text": [
      "Epoch [153/200], Train Loss: 3.1371, Train Accuracy: 0.0864, Val Loss: 3.1347, Val Accuracy: 0.0860\n"
     ]
    },
    {
     "name": "stderr",
     "output_type": "stream",
     "text": [
      "                                                                                                  \r"
     ]
    },
    {
     "name": "stdout",
     "output_type": "stream",
     "text": [
      "Epoch [154/200], Train Loss: 3.1365, Train Accuracy: 0.0834, Val Loss: 3.1365, Val Accuracy: 0.0841\n"
     ]
    },
    {
     "name": "stderr",
     "output_type": "stream",
     "text": [
      "                                                                                                  \r"
     ]
    },
    {
     "name": "stdout",
     "output_type": "stream",
     "text": [
      "Epoch [155/200], Train Loss: 3.1376, Train Accuracy: 0.0860, Val Loss: 3.1349, Val Accuracy: 0.0878\n"
     ]
    },
    {
     "name": "stderr",
     "output_type": "stream",
     "text": [
      "                                                                                                  \r"
     ]
    },
    {
     "name": "stdout",
     "output_type": "stream",
     "text": [
      "Epoch [156/200], Train Loss: 3.1364, Train Accuracy: 0.0846, Val Loss: 3.1343, Val Accuracy: 0.0888\n"
     ]
    },
    {
     "name": "stderr",
     "output_type": "stream",
     "text": [
      "                                                                                                  \r"
     ]
    },
    {
     "name": "stdout",
     "output_type": "stream",
     "text": [
      "Epoch [157/200], Train Loss: 3.1352, Train Accuracy: 0.0871, Val Loss: 3.1329, Val Accuracy: 0.0860\n"
     ]
    },
    {
     "name": "stderr",
     "output_type": "stream",
     "text": [
      "                                                                                                  \r"
     ]
    },
    {
     "name": "stdout",
     "output_type": "stream",
     "text": [
      "Epoch [158/200], Train Loss: 3.1372, Train Accuracy: 0.0831, Val Loss: 3.1328, Val Accuracy: 0.0834\n"
     ]
    },
    {
     "name": "stderr",
     "output_type": "stream",
     "text": [
      "                                                                                                  \r"
     ]
    },
    {
     "name": "stdout",
     "output_type": "stream",
     "text": [
      "Epoch [159/200], Train Loss: 3.1347, Train Accuracy: 0.0843, Val Loss: 3.1365, Val Accuracy: 0.0844\n"
     ]
    },
    {
     "name": "stderr",
     "output_type": "stream",
     "text": [
      "                                                                                                  \r"
     ]
    },
    {
     "name": "stdout",
     "output_type": "stream",
     "text": [
      "Epoch [160/200], Train Loss: 3.1365, Train Accuracy: 0.0864, Val Loss: 3.1390, Val Accuracy: 0.0793\n"
     ]
    },
    {
     "name": "stderr",
     "output_type": "stream",
     "text": [
      "                                                                                                  \r"
     ]
    },
    {
     "name": "stdout",
     "output_type": "stream",
     "text": [
      "Epoch [161/200], Train Loss: 3.1371, Train Accuracy: 0.0803, Val Loss: 3.1332, Val Accuracy: 0.0837\n"
     ]
    },
    {
     "name": "stderr",
     "output_type": "stream",
     "text": [
      "                                                                                                  \r"
     ]
    },
    {
     "name": "stdout",
     "output_type": "stream",
     "text": [
      "Epoch [162/200], Train Loss: 3.1355, Train Accuracy: 0.0854, Val Loss: 3.1355, Val Accuracy: 0.0852\n"
     ]
    },
    {
     "name": "stderr",
     "output_type": "stream",
     "text": [
      "                                                                                                  \r"
     ]
    },
    {
     "name": "stdout",
     "output_type": "stream",
     "text": [
      "Epoch [163/200], Train Loss: 3.1382, Train Accuracy: 0.0854, Val Loss: 3.1409, Val Accuracy: 0.0811\n"
     ]
    },
    {
     "name": "stderr",
     "output_type": "stream",
     "text": [
      "                                                                                                  \r"
     ]
    },
    {
     "name": "stdout",
     "output_type": "stream",
     "text": [
      "Epoch [164/200], Train Loss: 3.1364, Train Accuracy: 0.0844, Val Loss: 3.1374, Val Accuracy: 0.0863\n"
     ]
    },
    {
     "name": "stderr",
     "output_type": "stream",
     "text": [
      "                                                                                                  \r"
     ]
    },
    {
     "name": "stdout",
     "output_type": "stream",
     "text": [
      "Epoch [165/200], Train Loss: 3.1399, Train Accuracy: 0.0845, Val Loss: 3.1418, Val Accuracy: 0.0811\n"
     ]
    },
    {
     "name": "stderr",
     "output_type": "stream",
     "text": [
      "                                                                                                  \r"
     ]
    },
    {
     "name": "stdout",
     "output_type": "stream",
     "text": [
      "Epoch [166/200], Train Loss: 3.1439, Train Accuracy: 0.0869, Val Loss: 3.1387, Val Accuracy: 0.0886\n"
     ]
    },
    {
     "name": "stderr",
     "output_type": "stream",
     "text": [
      "                                                                                                  \r"
     ]
    },
    {
     "name": "stdout",
     "output_type": "stream",
     "text": [
      "Epoch [167/200], Train Loss: 3.1498, Train Accuracy: 0.0811, Val Loss: 3.1401, Val Accuracy: 0.0795\n"
     ]
    },
    {
     "name": "stderr",
     "output_type": "stream",
     "text": [
      "                                                                                                  \r"
     ]
    },
    {
     "name": "stdout",
     "output_type": "stream",
     "text": [
      "Epoch [168/200], Train Loss: 3.1406, Train Accuracy: 0.0826, Val Loss: 3.1431, Val Accuracy: 0.0810\n"
     ]
    },
    {
     "name": "stderr",
     "output_type": "stream",
     "text": [
      "                                                                                                  \r"
     ]
    },
    {
     "name": "stdout",
     "output_type": "stream",
     "text": [
      "Epoch [169/200], Train Loss: 3.1435, Train Accuracy: 0.0839, Val Loss: 3.1414, Val Accuracy: 0.0793\n"
     ]
    },
    {
     "name": "stderr",
     "output_type": "stream",
     "text": [
      "                                                                                                  \r"
     ]
    },
    {
     "name": "stdout",
     "output_type": "stream",
     "text": [
      "Epoch [170/200], Train Loss: 3.1436, Train Accuracy: 0.0822, Val Loss: 3.1431, Val Accuracy: 0.0776\n"
     ]
    },
    {
     "name": "stderr",
     "output_type": "stream",
     "text": [
      "                                                                                                  \r"
     ]
    },
    {
     "name": "stdout",
     "output_type": "stream",
     "text": [
      "Epoch [171/200], Train Loss: 3.1421, Train Accuracy: 0.0825, Val Loss: 3.1389, Val Accuracy: 0.0811\n"
     ]
    },
    {
     "name": "stderr",
     "output_type": "stream",
     "text": [
      "                                                                                                  \r"
     ]
    },
    {
     "name": "stdout",
     "output_type": "stream",
     "text": [
      "Epoch [172/200], Train Loss: 3.1403, Train Accuracy: 0.0825, Val Loss: 3.1385, Val Accuracy: 0.0877\n"
     ]
    },
    {
     "name": "stderr",
     "output_type": "stream",
     "text": [
      "                                                                                                  \r"
     ]
    },
    {
     "name": "stdout",
     "output_type": "stream",
     "text": [
      "Epoch [173/200], Train Loss: 3.1413, Train Accuracy: 0.0807, Val Loss: 3.1394, Val Accuracy: 0.0793\n"
     ]
    },
    {
     "name": "stderr",
     "output_type": "stream",
     "text": [
      "                                                                                                  \r"
     ]
    },
    {
     "name": "stdout",
     "output_type": "stream",
     "text": [
      "Epoch [174/200], Train Loss: 3.1405, Train Accuracy: 0.0824, Val Loss: 3.1408, Val Accuracy: 0.0804\n"
     ]
    },
    {
     "name": "stderr",
     "output_type": "stream",
     "text": [
      "                                                                                                  \r"
     ]
    },
    {
     "name": "stdout",
     "output_type": "stream",
     "text": [
      "Epoch [175/200], Train Loss: 3.1403, Train Accuracy: 0.0843, Val Loss: 3.1375, Val Accuracy: 0.0810\n"
     ]
    },
    {
     "name": "stderr",
     "output_type": "stream",
     "text": [
      "                                                                                                  \r"
     ]
    },
    {
     "name": "stdout",
     "output_type": "stream",
     "text": [
      "Epoch [176/200], Train Loss: 3.1402, Train Accuracy: 0.0838, Val Loss: 3.1420, Val Accuracy: 0.0800\n"
     ]
    },
    {
     "name": "stderr",
     "output_type": "stream",
     "text": [
      "                                                                                                  \r"
     ]
    },
    {
     "name": "stdout",
     "output_type": "stream",
     "text": [
      "Epoch [177/200], Train Loss: 3.1405, Train Accuracy: 0.0831, Val Loss: 3.1406, Val Accuracy: 0.0818\n"
     ]
    },
    {
     "name": "stderr",
     "output_type": "stream",
     "text": [
      "                                                                                                  \r"
     ]
    },
    {
     "name": "stdout",
     "output_type": "stream",
     "text": [
      "Epoch [178/200], Train Loss: 3.1405, Train Accuracy: 0.0828, Val Loss: 3.1396, Val Accuracy: 0.0884\n"
     ]
    },
    {
     "name": "stderr",
     "output_type": "stream",
     "text": [
      "                                                                                                  \r"
     ]
    },
    {
     "name": "stdout",
     "output_type": "stream",
     "text": [
      "Epoch [179/200], Train Loss: 3.1406, Train Accuracy: 0.0838, Val Loss: 3.1389, Val Accuracy: 0.0810\n"
     ]
    },
    {
     "name": "stderr",
     "output_type": "stream",
     "text": [
      "                                                                                                  \r"
     ]
    },
    {
     "name": "stdout",
     "output_type": "stream",
     "text": [
      "Epoch [180/200], Train Loss: 3.1404, Train Accuracy: 0.0850, Val Loss: 3.1375, Val Accuracy: 0.0806\n"
     ]
    },
    {
     "name": "stderr",
     "output_type": "stream",
     "text": [
      "                                                                                                  \r"
     ]
    },
    {
     "name": "stdout",
     "output_type": "stream",
     "text": [
      "Epoch [181/200], Train Loss: 3.1409, Train Accuracy: 0.0830, Val Loss: 3.1372, Val Accuracy: 0.0810\n"
     ]
    },
    {
     "name": "stderr",
     "output_type": "stream",
     "text": [
      "                                                                                                  \r"
     ]
    },
    {
     "name": "stdout",
     "output_type": "stream",
     "text": [
      "Epoch [182/200], Train Loss: 3.1398, Train Accuracy: 0.0819, Val Loss: 3.1382, Val Accuracy: 0.0824\n"
     ]
    },
    {
     "name": "stderr",
     "output_type": "stream",
     "text": [
      "                                                                                                  \r"
     ]
    },
    {
     "name": "stdout",
     "output_type": "stream",
     "text": [
      "Epoch [183/200], Train Loss: 3.1404, Train Accuracy: 0.0839, Val Loss: 3.1382, Val Accuracy: 0.0866\n"
     ]
    },
    {
     "name": "stderr",
     "output_type": "stream",
     "text": [
      "                                                                                                  \r"
     ]
    },
    {
     "name": "stdout",
     "output_type": "stream",
     "text": [
      "Epoch [184/200], Train Loss: 3.1408, Train Accuracy: 0.0849, Val Loss: 3.1424, Val Accuracy: 0.0852\n"
     ]
    },
    {
     "name": "stderr",
     "output_type": "stream",
     "text": [
      "                                                                                                  \r"
     ]
    },
    {
     "name": "stdout",
     "output_type": "stream",
     "text": [
      "Epoch [185/200], Train Loss: 3.1402, Train Accuracy: 0.0815, Val Loss: 3.1518, Val Accuracy: 0.0886\n"
     ]
    },
    {
     "name": "stderr",
     "output_type": "stream",
     "text": [
      "                                                                                                  \r"
     ]
    },
    {
     "name": "stdout",
     "output_type": "stream",
     "text": [
      "Epoch [186/200], Train Loss: 3.1425, Train Accuracy: 0.0819, Val Loss: 3.1430, Val Accuracy: 0.0810\n"
     ]
    },
    {
     "name": "stderr",
     "output_type": "stream",
     "text": [
      "                                                                                                  \r"
     ]
    },
    {
     "name": "stdout",
     "output_type": "stream",
     "text": [
      "Epoch [187/200], Train Loss: 3.1407, Train Accuracy: 0.0861, Val Loss: 3.1404, Val Accuracy: 0.0893\n"
     ]
    },
    {
     "name": "stderr",
     "output_type": "stream",
     "text": [
      "                                                                                                  \r"
     ]
    },
    {
     "name": "stdout",
     "output_type": "stream",
     "text": [
      "Epoch [188/200], Train Loss: 3.1407, Train Accuracy: 0.0820, Val Loss: 3.1396, Val Accuracy: 0.0798\n"
     ]
    },
    {
     "name": "stderr",
     "output_type": "stream",
     "text": [
      "                                                                                                  \r"
     ]
    },
    {
     "name": "stdout",
     "output_type": "stream",
     "text": [
      "Epoch [189/200], Train Loss: 3.1403, Train Accuracy: 0.0849, Val Loss: 3.1406, Val Accuracy: 0.0800\n"
     ]
    },
    {
     "name": "stderr",
     "output_type": "stream",
     "text": [
      "                                                                                                  \r"
     ]
    },
    {
     "name": "stdout",
     "output_type": "stream",
     "text": [
      "Epoch [190/200], Train Loss: 3.1407, Train Accuracy: 0.0816, Val Loss: 3.1377, Val Accuracy: 0.0884\n"
     ]
    },
    {
     "name": "stderr",
     "output_type": "stream",
     "text": [
      "                                                                                                  \r"
     ]
    },
    {
     "name": "stdout",
     "output_type": "stream",
     "text": [
      "Epoch [191/200], Train Loss: 3.1403, Train Accuracy: 0.0827, Val Loss: 3.1391, Val Accuracy: 0.0834\n"
     ]
    },
    {
     "name": "stderr",
     "output_type": "stream",
     "text": [
      "                                                                                                  \r"
     ]
    },
    {
     "name": "stdout",
     "output_type": "stream",
     "text": [
      "Epoch [192/200], Train Loss: 3.1403, Train Accuracy: 0.0840, Val Loss: 3.1394, Val Accuracy: 0.0856\n"
     ]
    },
    {
     "name": "stderr",
     "output_type": "stream",
     "text": [
      "                                                                                                  \r"
     ]
    },
    {
     "name": "stdout",
     "output_type": "stream",
     "text": [
      "Epoch [193/200], Train Loss: 3.1395, Train Accuracy: 0.0844, Val Loss: 3.1399, Val Accuracy: 0.0793\n"
     ]
    },
    {
     "name": "stderr",
     "output_type": "stream",
     "text": [
      "                                                                                                  \r"
     ]
    },
    {
     "name": "stdout",
     "output_type": "stream",
     "text": [
      "Epoch [194/200], Train Loss: 3.1394, Train Accuracy: 0.0838, Val Loss: 3.1370, Val Accuracy: 0.0807\n"
     ]
    },
    {
     "name": "stderr",
     "output_type": "stream",
     "text": [
      "                                                                                                  \r"
     ]
    },
    {
     "name": "stdout",
     "output_type": "stream",
     "text": [
      "Epoch [195/200], Train Loss: 3.1390, Train Accuracy: 0.0811, Val Loss: 3.1431, Val Accuracy: 0.0836\n"
     ]
    },
    {
     "name": "stderr",
     "output_type": "stream",
     "text": [
      "                                                                                                  \r"
     ]
    },
    {
     "name": "stdout",
     "output_type": "stream",
     "text": [
      "Epoch [196/200], Train Loss: 3.1402, Train Accuracy: 0.0830, Val Loss: 3.1366, Val Accuracy: 0.0886\n"
     ]
    },
    {
     "name": "stderr",
     "output_type": "stream",
     "text": [
      "                                                                                                  \r"
     ]
    },
    {
     "name": "stdout",
     "output_type": "stream",
     "text": [
      "Epoch [197/200], Train Loss: 3.1403, Train Accuracy: 0.0838, Val Loss: 3.1421, Val Accuracy: 0.0807\n"
     ]
    },
    {
     "name": "stderr",
     "output_type": "stream",
     "text": [
      "                                                                                                  \r"
     ]
    },
    {
     "name": "stdout",
     "output_type": "stream",
     "text": [
      "Epoch [198/200], Train Loss: 3.1403, Train Accuracy: 0.0830, Val Loss: 3.1401, Val Accuracy: 0.0882\n"
     ]
    },
    {
     "name": "stderr",
     "output_type": "stream",
     "text": [
      "                                                                                                  \r"
     ]
    },
    {
     "name": "stdout",
     "output_type": "stream",
     "text": [
      "Epoch [199/200], Train Loss: 3.1400, Train Accuracy: 0.0814, Val Loss: 3.1383, Val Accuracy: 0.0788\n"
     ]
    },
    {
     "name": "stderr",
     "output_type": "stream",
     "text": [
      "                                                                                                  \r"
     ]
    },
    {
     "name": "stdout",
     "output_type": "stream",
     "text": [
      "Epoch [200/200], Train Loss: 3.1396, Train Accuracy: 0.0848, Val Loss: 3.1402, Val Accuracy: 0.0888\n"
     ]
    }
   ],
   "source": [
    "from torch import device, Tensor\n",
    "import torchvision.models as models\n",
    "\n",
    "\n",
    "# Load the pre-trained ResNet model\n",
    "torch.cuda.empty_cache()\n",
    "model = ModifiedViT()\n",
    "\n",
    "t_loss, v_loss, t_acc, v_acc = train_model(\n",
    "    model, train_loader, val_loader, num_epochs=200\n",
    ")\n",
    "lab_model_results = {\"t_loss\": t_loss, \"v_loss\": v_loss, \"t_acc\": t_acc, \"v_acc\": v_acc}"
   ]
  },
  {
   "cell_type": "code",
   "execution_count": 20,
   "id": "e2dbd713-28a2-4c60-8828-7ec93aca50c2",
   "metadata": {
    "ExecuteTime": {
     "end_time": "2024-04-26T01:34:42.104794092Z",
     "start_time": "2024-04-26T01:34:42.014689303Z"
    }
   },
   "outputs": [],
   "source": [
    "# generate_plots(lab_model_results['t_loss'], lab_model_results['v_loss'], lab_model_results['t_acc'], lab_model_results['v_acc'])\n",
    "def generate_plots(train_losses, val_losses, train_accuracies, val_accuracies):\n",
    "    with plt.style.context(\"dark_background\"):\n",
    "        # Generate x-axis values (epochs)\n",
    "        epochs = range(1, len(train_losses) + 1)\n",
    "\n",
    "        # Create subplots\n",
    "        fig, (ax1, ax2) = plt.subplots(2, 1, figsize=(10, 10))\n",
    "\n",
    "        # Plot training and validation losses\n",
    "        ax1.plot(epochs, train_losses, label=\"Training Loss\", marker=\"o\")\n",
    "        ax1.plot(epochs, val_losses, label=\"Validation Loss\", marker=\"o\")\n",
    "\n",
    "        # Add jitter to the data points for better visualization\n",
    "        ax1.scatter(epochs, train_losses, color=\"blue\")\n",
    "        ax1.scatter(epochs, val_losses, color=\"orange\")\n",
    "\n",
    "        # Add labels and legend for the first subplot\n",
    "        ax1.set_xlabel(\"Epoch\")\n",
    "        ax1.set_ylabel(\"Loss\")\n",
    "        ax1.set_title(\"Training and Validation Loss\")\n",
    "        ax1.legend()\n",
    "\n",
    "        # Plot training and validation accuracies\n",
    "        ax2.plot(epochs, train_accuracies, label=\"Training Accuracy\", marker=\"o\")\n",
    "        ax2.plot(epochs, val_accuracies, label=\"Validation Accuracy\", marker=\"o\")\n",
    "\n",
    "        # Add jitter to the data points for better visualization\n",
    "        ax2.scatter(epochs, train_accuracies, color=\"green\")\n",
    "        ax2.scatter(epochs, val_accuracies, color=\"red\")\n",
    "\n",
    "        # Add labels and legend for the second subplot\n",
    "        ax2.set_xlabel(\"Epoch\")\n",
    "        ax2.set_ylabel(\"Accuracy\")\n",
    "        ax2.set_title(\"Training and Validation Accuracy\")\n",
    "        ax2.legend()\n",
    "\n",
    "        # Adjust layout\n",
    "        plt.tight_layout()\n",
    "\n",
    "        # Show plot\n",
    "        plt.show()"
   ]
  },
  {
   "cell_type": "code",
   "execution_count": 21,
   "id": "53e851cb-eae4-4135-9820-95a83387c5b0",
   "metadata": {
    "ExecuteTime": {
     "end_time": "2024-04-26T01:34:42.673309610Z",
     "start_time": "2024-04-26T01:34:42.372136973Z"
    }
   },
   "outputs": [
    {
     "data": {
      "image/png": "[encoded data removed]",
      "text/plain": [
       "<Figure size 1000x1000 with 2 Axes>"
      ]
     },
     "metadata": {},
     "output_type": "display_data"
    }
   ],
   "source": [
    "generate_plots(\n",
    "    lab_model_results[\"t_loss\"],\n",
    "    lab_model_results[\"v_loss\"],\n",
    "    lab_model_results[\"t_acc\"],\n",
    "    lab_model_results[\"v_acc\"],\n",
    ")"
   ]
  },
  {
   "cell_type": "code",
   "execution_count": null,
   "id": "5e152242994c86ae",
   "metadata": {},
   "outputs": [],
   "source": []
  }
 ],
 "metadata": {
  "kernelspec": {
   "display_name": "Python 3 (ipykernel)",
   "language": "python",
   "name": "python3"
  },
  "language_info": {
   "codemirror_mode": {
    "name": "ipython",
    "version": 3
   },
   "file_extension": ".py",
   "mimetype": "text/x-python",
   "name": "python",
   "nbconvert_exporter": "python",
   "pygments_lexer": "ipython3",
   "version": "3.9.13"
  }
 },
 "nbformat": 4,
 "nbformat_minor": 5
}
