version https://git-lfs.github.com/spec/v1
oid sha256:3b0bef31fd2d78e8ad39b1b2a9216850a3d60a679c3a27ec633d35f52dea9a48
size 10178530
