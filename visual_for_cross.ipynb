version https://git-lfs.github.com/spec/v1
oid sha256:764c41b33bdb61d5abff855c591f4a973a5cf3a38aff810dffc2a9c0ad1b5993
size 13866
