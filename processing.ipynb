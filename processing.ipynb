{
 "cells": [
  {
   "cell_type": "code",
   "execution_count": 117,
   "id": "c14404a2-0cc1-4354-b511-edae3599c174",
   "metadata": {},
   "outputs": [],
   "source": [
    "import matplotlib.pyplot as plt\n",
    "import matplotlib.cm as cm\n",
    "from PIL import Image, ImageOps\n",
    "Image.MAX_IMAGE_PIXELS = None\n",
    "import pandas as pd\n",
    "import random\n",
    "import numpy as np\n",
    "import os"
   ]
  },
  {
   "cell_type": "code",
   "execution_count": 106,
   "id": "2c26371f-2418-4c92-9475-3bbefc42a0fe",
   "metadata": {},
   "outputs": [
    {
     "data": {
      "text/plain": [
       "<matplotlib.image.AxesImage at 0x12a3f4610>"
      ]
     },
     "execution_count": 106,
     "metadata": {},
     "output_type": "execute_result"
    }
   ],
   "source": [
    "%matplotlib widget\n",
    "\n",
    "# Open the .tif file\n",
    "img = Image.open(\"../data_processed/morphology_focus.tif\")\n",
    "\n",
    "\n",
    "# Convert to numpy array\n",
    "image_array = np.array(img)\n",
    "\n",
    "# Calculate the quantile to scale intensity\n",
    "quantile_value = np.quantile(image_array, 0.99)\n",
    "\n",
    "# Scale intensity by dividing by the quantile\n",
    "scaled_image_array = image_array / quantile_value\n",
    "\n",
    "# Clip values greater than 1 to ensure image is within [0, 1] range\n",
    "img2 = np.clip(scaled_image_array, 0, 1)\n",
    "\n",
    "# Display the scaled image\n",
    "plt.imshow(img2, cmap='gray')\n",
    "# plt.show()\n",
    "\n",
    "# plt.clf()\n",
    "# plt.imshow(img/np.quantile(img, 0.70))  # Can try np.quantile(img, .99) maybe\n",
    "# plt.axis('off')  # Turn off axis labels\n",
    "# plt.show()"
   ]
  },
  {
   "cell_type": "code",
   "execution_count": 103,
   "id": "2073bb61-aa55-4703-bc67-946a0fe0d9ad",
   "metadata": {},
   "outputs": [],
   "source": [
    "cell_boundaries = pd.read_csv(\"../data_processed/cell_boundaries.csv.gz\")\n",
    "cell_boundaries['vertex_x_trans'] = cell_boundaries['vertex_x'].apply(lambda x: int(x/0.2125))\n",
    "cell_boundaries['vertex_y_trans'] = cell_boundaries['vertex_y'].apply(lambda x: int(x/0.2125))\n",
    "# cell_boundaries[['vertex_x', 'vertex_y']].apply(lambda x: x/0.2125)"
   ]
  },
  {
   "cell_type": "code",
   "execution_count": 104,
   "id": "f80df594-65c0-42d2-ae23-adbd7b2c527d",
   "metadata": {},
   "outputs": [
    {
     "data": {
      "text/plain": [
       "36553"
      ]
     },
     "execution_count": 104,
     "metadata": {},
     "output_type": "execute_result"
    }
   ],
   "source": [
    "clusters = pd.read_csv(\"../data_processed/clusters.csv\")\n",
    "ncells = clusters.shape[0]\n",
    "ncells"
   ]
  },
  {
   "cell_type": "code",
   "execution_count": 112,
   "id": "3f5f1d77-d687-4497-aed5-198d9415af67",
   "metadata": {},
   "outputs": [],
   "source": [
    "img_pix = np.array(img)"
   ]
  },
  {
   "cell_type": "code",
   "execution_count": 113,
   "id": "353663f1-1502-4ae4-949c-078260a04743",
   "metadata": {},
   "outputs": [
    {
     "data": {
      "text/plain": [
       "(16652, 25640)"
      ]
     },
     "execution_count": 113,
     "metadata": {},
     "output_type": "execute_result"
    }
   ],
   "source": [
    "img_pix.shape"
   ]
  },
  {
   "cell_type": "code",
   "execution_count": 114,
   "id": "47f2a012-5479-4b64-ab20-b1d1dc83641c",
   "metadata": {},
   "outputs": [
    {
     "data": {
      "text/plain": [
       "0.04685099846390169"
      ]
     },
     "execution_count": 114,
     "metadata": {},
     "output_type": "execute_result"
    }
   ],
   "source": [
    "img_sub.min()"
   ]
  },
  {
   "cell_type": "code",
   "execution_count": 122,
   "id": "da67cf77-541f-4439-9759-7a8e93284115",
   "metadata": {},
   "outputs": [
    {
     "name": "stdout",
     "output_type": "stream",
     "text": [
      "Displaying image for cell 30807\n",
      "Displaying image for cell 11908\n",
      "Displaying image for cell 19906\n",
      "Displaying image for cell 13120\n",
      "Displaying image for cell 26875\n"
     ]
    }
   ],
   "source": [
    "random.seed(2024)\n",
    "\n",
    "ncells_subset = 1000\n",
    "\n",
    "cells_subset = random.sample(range(ncells), ncells_subset)\n",
    "\n",
    "# clusters.loc[cells_subset, \"Cluster\"]\n",
    "\n",
    "for i in cells_subset:\n",
    "    # extract the boundary vertices for the selected cell\n",
    "    bounds_i = cell_boundaries.loc[cell_boundaries[\"cell_id\"] == i]\n",
    "\n",
    "    # extract the cluster value for the selected cell\n",
    "    clustval_i = clusters.loc[i,\"Cluster\"]\n",
    "\n",
    "    # extract the pixel intensities for the area covering the cell boundary\n",
    "    img_sub = img_pix[min(bounds_i[\"vertex_y_trans\"]):max(bounds_i[\"vertex_y_trans\"]),\n",
    "                min(bounds_i[\"vertex_x_trans\"]):max(bounds_i[\"vertex_x_trans\"])]\n",
    "\n",
    "    # normalise the pixel intensities according to 99th percentile\n",
    "    img_sub_norm = img_sub/np.quantile(img_sub, 0.99)\n",
    "\n",
    "    # as an example, display the image for the first selected cell\n",
    "    if i in cells_subset[0:5]:\n",
    "        print(f'Displaying image for cell {i}')\n",
    "        # plt.imshow(img_sub_norm, cmap=\"gray\")\n",
    "        # plt.show()\n",
    "\n",
    "    # create directory for images if it doesn't exist\n",
    "    cell_dir = os.path.join(os.getcwd(), '../data_processed/cell_images_py')\n",
    "    if not os.path.exists(cell_dir):\n",
    "        os.mkdir(cell_dir)\n",
    "\n",
    "    # create directory for cluster if it doesn't exist\n",
    "    clust_dir = os.path.join(cell_dir, f'cluster_{clustval_i}_py')\n",
    "    if not os.path.exists(clust_dir):\n",
    "        os.mkdir(clust_dir)\n",
    "\n",
    "    # save extracted image as a png file\n",
    "    plt.imsave(os.path.join(clust_dir, f'cell_{i}.png'), img_sub_norm, cmap=\"gray\")"
   ]
  }
 ],
 "metadata": {
  "kernelspec": {
   "display_name": "Python 3 (ipykernel)",
   "language": "python",
   "name": "python3"
  },
  "language_info": {
   "codemirror_mode": {
    "name": "ipython",
    "version": 3
   },
   "file_extension": ".py",
   "mimetype": "text/x-python",
   "name": "python",
   "nbconvert_exporter": "python",
   "pygments_lexer": "ipython3",
   "version": "3.10.0"
  }
 },
 "nbformat": 4,
 "nbformat_minor": 5
}
