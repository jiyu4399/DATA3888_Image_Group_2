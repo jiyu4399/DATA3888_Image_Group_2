version https://git-lfs.github.com/spec/v1
oid sha256:efba9a3b9dfc9e046c5c8bb13f259b3909a5596a3e2c4cda76523519fb4c40e5
size 63113
