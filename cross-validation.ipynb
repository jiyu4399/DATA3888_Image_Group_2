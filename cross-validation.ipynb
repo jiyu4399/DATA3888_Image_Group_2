version https://git-lfs.github.com/spec/v1
oid sha256:714d0a815988f250831795362401d4d79d6548c947f3ac8725cec10e22da5989
size 44331
