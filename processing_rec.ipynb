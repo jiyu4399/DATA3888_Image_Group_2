version https://git-lfs.github.com/spec/v1
oid sha256:ab49c8a38a7f2e9e6ece0b82c375e2a044887b5c96981d40a46726b1dcd2b93f
size 2508117
