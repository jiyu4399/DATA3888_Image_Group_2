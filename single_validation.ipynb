version https://git-lfs.github.com/spec/v1
oid sha256:42fef5d6eeea32ba304a3fa4fff58e363bbadf626b126aaa10236976e19ae80e
size 101893
