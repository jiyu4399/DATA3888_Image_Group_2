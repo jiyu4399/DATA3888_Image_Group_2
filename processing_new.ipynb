{
 "cells": [
  {
   "cell_type": "markdown",
   "id": "6d924996-e8ce-463b-af5b-f4ad957fd61e",
   "metadata": {},
   "source": [
    "# Part A\n",
    "You should only need to run this once, after that can simply load in the saved images as done in part B."
   ]
  },
  {
   "cell_type": "code",
   "execution_count": 31,
   "id": "6559bde8f6107d7e",
   "metadata": {
    "ExecuteTime": {
     "end_time": "2024-05-07T05:54:03.278931833Z",
     "start_time": "2024-05-07T05:54:03.025862567Z"
    }
   },
   "outputs": [],
   "source": [
    "import matplotlib.pyplot as plt\n",
    "import matplotlib.cm as cm\n",
    "from PIL import Image, ImageOps\n",
    "\n",
    "Image.MAX_IMAGE_PIXELS = None\n",
    "import pandas as pd\n",
    "import random\n",
    "import numpy as np\n",
    "import os\n",
    "import sys\n",
    "# import javabridge\n",
    "# import bioformats\n",
    "\n",
    "script_dir = os.path.dirname(os.path.realpath(\"__file__\"))\n",
    "data_dir = os.path.abspath(os.path.join(script_dir, \"..\", \"..\", \"data_processed\"))\n",
    "dir_path = os.path.abspath(\n",
    "    os.path.join(\n",
    "        script_dir,\n",
    "        \"..\",\n",
    "        \"..\",\n",
    "        \"data_raw_big/Xenium_V1_FF_Mouse_Brain_MultiSection_1_outs\",\n",
    "    )\n",
    ")\n",
    "file_path = os.path.join(data_dir, \"morphology_focus.tif\")"
   ]
  },
  {
   "cell_type": "markdown",
   "id": "615e30a998a08952",
   "metadata": {},
   "source": [
    "### Setup"
   ]
  },
  {
   "cell_type": "code",
   "execution_count": 32,
   "id": "10b8fd41d0b1abcd",
   "metadata": {
    "ExecuteTime": {
     "end_time": "2024-05-07T05:54:03.338284239Z",
     "start_time": "2024-05-07T05:54:03.282430929Z"
    }
   },
   "outputs": [],
   "source": [
    "import matplotlib.pyplot as plt\n",
    "import matplotlib.cm as cm\n",
    "from PIL import Image, ImageOps\n",
    "\n",
    "Image.MAX_IMAGE_PIXELS = None\n",
    "import pandas as pd\n",
    "import random\n",
    "import numpy as np\n",
    "import os\n",
    "import re"
   ]
  },
  {
   "cell_type": "code",
   "execution_count": 33,
   "id": "1177e8dbdd2b8e6d",
   "metadata": {
    "ExecuteTime": {
     "end_time": "2024-05-07T05:54:03.377572460Z",
     "start_time": "2024-05-07T05:54:03.329855272Z"
    }
   },
   "outputs": [],
   "source": [
    "DATA_DIRECTORY = data_dir\n",
    "CELL_IMAGES = os.path.join(DATA_DIRECTORY, \"cell_images_py\")\n",
    "SIZE = (50, 50)"
   ]
  },
  {
   "cell_type": "markdown",
   "id": "c535397540fae177",
   "metadata": {},
   "source": [
    "## Loading in and displaying images"
   ]
  },
  {
   "cell_type": "code",
   "execution_count": 34,
   "id": "de49209aa64a3ef2",
   "metadata": {
    "ExecuteTime": {
     "end_time": "2024-05-07T05:54:03.434973249Z",
     "start_time": "2024-05-07T05:54:03.372724990Z"
    }
   },
   "outputs": [],
   "source": [
    "def get_cluster_images(cluster: int, size=(None, None)):\n",
    "    DIR = os.path.join(CELL_IMAGES, f\"cluster_{cluster}\")\n",
    "    files = [os.path.join(DIR, file) for file in os.listdir(DIR)]\n",
    "    files.sort()\n",
    "    return [\n",
    "        Image.open(file).convert(\"L\")\n",
    "        if None in size\n",
    "        else Image.open(file).convert(\"L\").resize(size)\n",
    "        for file in files\n",
    "    ]"
   ]
  },
  {
   "cell_type": "code",
   "execution_count": 35,
   "id": "aad5ed49511eef76",
   "metadata": {
    "ExecuteTime": {
     "end_time": "2024-05-07T05:54:03.447034906Z",
     "start_time": "2024-05-07T05:54:03.427182529Z"
    }
   },
   "outputs": [],
   "source": [
    "# cluster_A_files = os.path.join(CELL_IMAGES, os.listdir(os.path.join(CELL_IMAGES, 'cluster_8')))\n",
    "cluster_A_files = [\n",
    "    os.path.join(os.path.join(CELL_IMAGES, \"cluster_8\"), file)\n",
    "    for file in os.listdir(os.path.join(CELL_IMAGES, \"cluster_8\"))\n",
    "]\n",
    "cluster_B_files = [\n",
    "    os.path.join(os.path.join(CELL_IMAGES, \"cluster_13\"), file)\n",
    "    for file in os.listdir(os.path.join(CELL_IMAGES, \"cluster_13\"))\n",
    "]"
   ]
  },
  {
   "cell_type": "code",
   "execution_count": 36,
   "id": "f5d221021fc0a3e8",
   "metadata": {
    "ExecuteTime": {
     "end_time": "2024-05-07T05:54:05.458022006Z",
     "start_time": "2024-05-07T05:54:03.446297458Z"
    }
   },
   "outputs": [],
   "source": [
    "cluster_A_images = get_cluster_images(8)\n",
    "cluster_B_images = get_cluster_images(13)\n",
    "cluster_A_images_resized = get_cluster_images(8, size=SIZE)\n",
    "cluster_B_images_resized = get_cluster_images(13, size=SIZE)"
   ]
  },
  {
   "cell_type": "code",
   "execution_count": 37,
   "id": "48550daf63baef41",
   "metadata": {
    "ExecuteTime": {
     "end_time": "2024-05-07T05:54:05.458267284Z",
     "start_time": "2024-05-07T05:54:05.452836918Z"
    }
   },
   "outputs": [],
   "source": [
    "def display_images_in_grid(images, ncols=3, cmap=None):\n",
    "    nrows = (len(images) + ncols - 1) // ncols\n",
    "    fig_height = (\n",
    "        nrows * 1\n",
    "    )  # Adjust the multiplier as needed to control spacing between rows\n",
    "    fig, axes = plt.subplots(nrows=nrows, ncols=ncols, figsize=(10, fig_height))\n",
    "\n",
    "    for ax in axes.flat:\n",
    "        ax.axis(\"off\")\n",
    "\n",
    "    for i, image in enumerate(images):\n",
    "        ax = axes[i // ncols, i % ncols]\n",
    "        if not cmap:\n",
    "            ax.imshow(image)\n",
    "        else:\n",
    "            ax.imshow(image, cmap=cmap)\n",
    "\n",
    "    plt.subplots_adjust(wspace=0.01, hspace=0.03)  # Adjust spacing between subplots\n",
    "    plt.show()\n",
    "\n",
    "\n",
    "# display_images_in_grid(cluster_A_images_resized, ncols=10, cmap=\"gray\")"
   ]
  },
  {
   "cell_type": "markdown",
   "id": "544eb1917cb012ca",
   "metadata": {},
   "source": [
    "## Cell boundary and masking"
   ]
  },
  {
   "cell_type": "markdown",
   "id": "59a4460973ceb449",
   "metadata": {},
   "source": [
    "### Setup"
   ]
  },
  {
   "cell_type": "code",
   "execution_count": 38,
   "id": "5b6af3a0f03800b7",
   "metadata": {
    "ExecuteTime": {
     "end_time": "2024-05-07T05:54:05.459677491Z",
     "start_time": "2024-05-07T05:54:05.453163806Z"
    }
   },
   "outputs": [],
   "source": [
    "from shapely.geometry import Polygon\n",
    "\n",
    "# import rasterio\n",
    "# from rasterio.features import geometry_mask\n",
    "from skimage.draw import polygon2mask"
   ]
  },
  {
   "cell_type": "code",
   "execution_count": 39,
   "id": "8c752de500d11c37",
   "metadata": {
    "ExecuteTime": {
     "end_time": "2024-05-07T05:54:05.576450712Z",
     "start_time": "2024-05-07T05:54:05.453279697Z"
    }
   },
   "outputs": [],
   "source": [
    "cell_boundaries_raw = pd.read_csv(\"../../data_processed/cell_boundaries.csv.gz\")\n",
    "\n",
    "\n",
    "def get_cluster_cell_ids(cluster: int):\n",
    "    DIR = os.path.join(CELL_IMAGES, f\"cluster_{cluster}\")\n",
    "    files = [os.path.join(DIR, file) for file in os.listdir(DIR)]\n",
    "    pattern = r\"cell_(\\d+)\\.png\"\n",
    "    return [int(re.search(pattern, file).group(1)) for file in files]\n",
    "\n",
    "\n",
    "cluster_A_cell_ids = get_cluster_cell_ids(8)\n",
    "cluster_B_cell_ids = get_cluster_cell_ids(13)"
   ]
  },
  {
   "cell_type": "markdown",
   "id": "a7048aa1b298bae",
   "metadata": {},
   "source": [
    "### Masking one cell"
   ]
  },
  {
   "cell_type": "code",
   "execution_count": 40,
   "id": "5a2c295b52e5f811",
   "metadata": {
    "ExecuteTime": {
     "end_time": "2024-05-07T05:54:05.581509830Z",
     "start_time": "2024-05-07T05:54:05.574820082Z"
    }
   },
   "outputs": [],
   "source": [
    "cell_boundaries = cell_boundaries_raw.loc[\n",
    "    cell_boundaries_raw[\"cell_id\"].isin(cluster_A_cell_ids + cluster_B_cell_ids)\n",
    "]"
   ]
  },
  {
   "cell_type": "code",
   "execution_count": 41,
   "id": "3b329fab16e3e526",
   "metadata": {
    "ExecuteTime": {
     "end_time": "2024-05-07T05:54:05.586370414Z",
     "start_time": "2024-05-07T05:54:05.580804621Z"
    }
   },
   "outputs": [],
   "source": [
    "def get_masked_image(\n",
    "    image: Image, cell_id: int, cell_boundaries: pd.core.frame.DataFrame\n",
    "):\n",
    "    height, width = np.array(image).shape\n",
    "    cell_boundary = cell_boundaries[cell_boundaries[\"cell_id\"] == cell_id].copy()\n",
    "    cell_boundary[\"vertex_x_scaled\"] = 1 + (\n",
    "        (cell_boundary[\"vertex_x\"] - cell_boundary[\"vertex_x\"].min()) * scaling_factor\n",
    "    )\n",
    "    cell_boundary[\"vertex_y_scaled\"] = 1 + (\n",
    "        (cell_boundary[\"vertex_y\"] - cell_boundary[\"vertex_y\"].min()) * scaling_factor\n",
    "    )\n",
    "    polygon = np.array(\n",
    "        list(zip(cell_boundary[\"vertex_y_scaled\"], cell_boundary[\"vertex_x_scaled\"]))\n",
    "    )\n",
    "    mask = polygon2mask((height, width), polygon)\n",
    "    masked_image = np.ma.masked_array(np.copy(img_A), np.invert(mask), fill_value=0)\n",
    "    return masked_image"
   ]
  },
  {
   "cell_type": "code",
   "execution_count": 42,
   "id": "612bb55439455358",
   "metadata": {
    "ExecuteTime": {
     "end_time": "2024-05-07T05:54:05.691218187Z",
     "start_time": "2024-05-07T05:54:05.585885888Z"
    }
   },
   "outputs": [
    {
     "data": {
      "text/plain": "<Figure size 640x480 with 1 Axes>",
      "image/png": "[encoded data removed]"
     },
     "metadata": {},
     "output_type": "display_data"
    }
   ],
   "source": [
    "index = 0\n",
    "\n",
    "cell_boundary = cell_boundaries[\n",
    "    cell_boundaries[\"cell_id\"] == cluster_A_cell_ids[index]\n",
    "].copy()\n",
    "img_A = cluster_A_images[index].convert(\"L\")\n",
    "img_A_resized = cluster_A_images_resized[index].convert(\"L\")\n",
    "\n",
    "# Calculate scaling factor\n",
    "scaling_factor = 1 / 0.22\n",
    "height, width = np.array(img_A).shape\n",
    "\n",
    "# Calculate scaled x and y coordinates\n",
    "cell_boundary[\"vertex_x_scaled\"] = (\n",
    "    (\n",
    "        1\n",
    "        + (\n",
    "            (cell_boundary[\"vertex_x\"] - cell_boundary[\"vertex_x\"].min())\n",
    "            * scaling_factor\n",
    "        )\n",
    "    )\n",
    "    * 50\n",
    "    / width\n",
    ")\n",
    "cell_boundary[\"vertex_y_scaled\"] = (\n",
    "    (\n",
    "        1\n",
    "        + (\n",
    "            (cell_boundary[\"vertex_y\"] - cell_boundary[\"vertex_y\"].min())\n",
    "            * scaling_factor\n",
    "        )\n",
    "    )\n",
    "    * 50\n",
    "    / height\n",
    ")\n",
    "\n",
    "# Visualize the image\n",
    "plt.clf()\n",
    "plt.close()\n",
    "plt.imshow(img_A_resized, cmap=\"gray\")\n",
    "plt.plot(\n",
    "    cell_boundary[\"vertex_x_scaled\"],\n",
    "    cell_boundary[\"vertex_y_scaled\"],\n",
    "    \"y-o\",\n",
    "    linewidth=3,\n",
    ")\n",
    "plt.show()"
   ]
  },
  {
   "cell_type": "code",
   "execution_count": 43,
   "id": "1efdb94db1f4a90a",
   "metadata": {
    "ExecuteTime": {
     "end_time": "2024-05-07T05:54:05.816216522Z",
     "start_time": "2024-05-07T05:54:05.707832635Z"
    }
   },
   "outputs": [
    {
     "data": {
      "text/plain": "<Figure size 640x480 with 1 Axes>",
      "image/png": "[encoded data removed]"
     },
     "metadata": {},
     "output_type": "display_data"
    }
   ],
   "source": [
    "height, width = np.array(img_A.convert(\"L\")).shape\n",
    "polygon = np.array(\n",
    "    list(zip(cell_boundary[\"vertex_y_scaled\"], cell_boundary[\"vertex_x_scaled\"]))\n",
    ")\n",
    "mask = polygon2mask((height, width), polygon)\n",
    "masked_image = np.ma.masked_array(np.copy(img_A), np.invert(mask), fill_value=0)\n",
    "\n",
    "# Display the masked image\n",
    "# result = np.where(masked_image.mask, 0, masked_image)  # image with mask\n",
    "result = np.where(masked_image.mask, 0, 1)  # just the mask\n",
    "plt.imshow(result, cmap=\"gray\")\n",
    "plt.show()"
   ]
  },
  {
   "cell_type": "markdown",
   "id": "eb97c8a1965811b3",
   "metadata": {},
   "source": [
    "### Masking all cells"
   ]
  },
  {
   "cell_type": "code",
   "execution_count": 44,
   "id": "ce7086c7fcd01a75",
   "metadata": {
    "ExecuteTime": {
     "end_time": "2024-05-07T05:54:05.864978280Z",
     "start_time": "2024-05-07T05:54:05.820127220Z"
    }
   },
   "outputs": [],
   "source": [
    "def get_cluster_masked_images(cluster: int, size=(None, None), masked=False):\n",
    "    images = get_cluster_images(cluster)\n",
    "    if None not in size:  # get resized images if size is specified\n",
    "        images_resized = get_cluster_images(cluster, size)\n",
    "\n",
    "    cell_ids = get_cluster_cell_ids(cluster)\n",
    "    cell_boundaries = cell_boundaries_raw.loc[\n",
    "        cell_boundaries_raw[\"cell_id\"].isin(cell_ids)\n",
    "    ].copy()\n",
    "\n",
    "    # Calculate scaling factor\n",
    "    scaling_factor = 1 / 0.22\n",
    "\n",
    "    result = {}\n",
    "    for cell_id, image, image_resized in zip(cell_ids, images, images_resized):\n",
    "        if masked:\n",
    "            # get shape of original image (without resize)\n",
    "            height, width = np.array(image).shape\n",
    "            # scaling factor for cell boundary, only if size is given\n",
    "            resize_x = 50 / width if None not in size else 1\n",
    "            resize_y = 50 / height if None not in size else 1\n",
    "\n",
    "            # get cell boundary coordinates for the image\n",
    "            cell_boundary = cell_boundaries.loc[\n",
    "                cell_boundaries[\"cell_id\"] == cell_id\n",
    "            ].copy()\n",
    "            # Calculate scaled x and y coordinates\n",
    "            cell_boundary[\"vertex_x_scaled\"] = (\n",
    "                1\n",
    "                + (\n",
    "                    (cell_boundary[\"vertex_x\"] - cell_boundary[\"vertex_x\"].min())\n",
    "                    * scaling_factor\n",
    "                )\n",
    "            ) * resize_x\n",
    "            cell_boundary[\"vertex_y_scaled\"] = (\n",
    "                1\n",
    "                + (\n",
    "                    (cell_boundary[\"vertex_y\"] - cell_boundary[\"vertex_y\"].min())\n",
    "                    * scaling_factor\n",
    "                )\n",
    "            ) * resize_y\n",
    "\n",
    "            # create the mask\n",
    "            polygon = np.array(\n",
    "                list(\n",
    "                    zip(\n",
    "                        cell_boundary[\"vertex_y_scaled\"],\n",
    "                        cell_boundary[\"vertex_x_scaled\"],\n",
    "                    )\n",
    "                )\n",
    "            )\n",
    "            mask = polygon2mask((height, width) if None in size else SIZE, polygon)\n",
    "            # mask the image\n",
    "            masked_image = np.ma.masked_array(\n",
    "                np.copy(image if None in size else image_resized),\n",
    "                np.invert(mask),\n",
    "                fill_value=0,\n",
    "            )\n",
    "            result[cell_id] = np.where(masked_image.mask, 0, masked_image)\n",
    "        else:\n",
    "            result[cell_id] = np.copy(image if None in size else image_resized)\n",
    "\n",
    "    return result"
   ]
  },
  {
   "cell_type": "code",
   "execution_count": 45,
   "id": "8c0172a772d5598a",
   "metadata": {
    "ExecuteTime": {
     "end_time": "2024-05-07T05:55:36.295857018Z",
     "start_time": "2024-05-07T05:54:05.860857638Z"
    }
   },
   "outputs": [],
   "source": [
    "masked_cells = {\n",
    "    cluster: get_cluster_masked_images(cluster, size=SIZE, masked=True)\n",
    "    for cluster in range(1, 29)\n",
    "}\n",
    "\n",
    "unmasked_cells = {\n",
    "    cluster: get_cluster_masked_images(cluster, size=SIZE, masked=False)\n",
    "    for cluster in range(1, 29)\n",
    "}"
   ]
  },
  {
   "cell_type": "code",
   "execution_count": 46,
   "id": "a3d43ad022ae1f0e",
   "metadata": {
    "ExecuteTime": {
     "end_time": "2024-05-07T05:55:36.405120429Z",
     "start_time": "2024-05-07T05:55:36.336837527Z"
    }
   },
   "outputs": [
    {
     "data": {
      "text/plain": "<Figure size 640x480 with 1 Axes>",
      "image/png": "[encoded data removed]"
     },
     "metadata": {},
     "output_type": "display_data"
    }
   ],
   "source": [
    "# display_images_in_grid(masked_cells[1])\n",
    "cluster = 1\n",
    "index = 3\n",
    "plt.clf()\n",
    "plt.close()\n",
    "plt.imshow(\n",
    "    masked_cells[cluster][list(unmasked_cells[cluster].keys())[index]], cmap=\"gray\"\n",
    ")\n",
    "plt.show()"
   ]
  },
  {
   "cell_type": "markdown",
   "id": "691a56a4dadf49f6",
   "metadata": {},
   "source": [
    "## Deep Learning"
   ]
  },
  {
   "cell_type": "code",
   "execution_count": 47,
   "id": "6066ffd96f3ee4bf",
   "metadata": {
    "ExecuteTime": {
     "end_time": "2024-05-07T05:55:36.406776858Z",
     "start_time": "2024-05-07T05:55:36.396647467Z"
    }
   },
   "outputs": [],
   "source": [
    "import torch\n",
    "from torch.utils.data import Dataset, DataLoader, random_split\n",
    "import torch.nn as nn\n",
    "import torch.optim as optim"
   ]
  },
  {
   "cell_type": "markdown",
   "id": "84730842e1665597",
   "metadata": {},
   "source": [
    "### Make the dataset"
   ]
  },
  {
   "cell_type": "code",
   "execution_count": null,
   "id": "5a6fe30b8445993",
   "metadata": {
    "ExecuteTime": {
     "start_time": "2024-05-07T05:55:36.996364201Z"
    }
   },
   "outputs": [],
   "source": [
    "from torch.utils.data import Dataset\n",
    "from PIL import Image\n",
    "import numpy as np\n",
    "\n",
    "\n",
    "class CustomDataset(Dataset):\n",
    "    def __init__(self, images_dict, transform=None):\n",
    "        self.images_dict = images_dict\n",
    "        self.labels = []\n",
    "        self.images = []\n",
    "        for cluster, images in images_dict.items():\n",
    "            self.images.extend(images.values())\n",
    "            self.labels.extend([cluster - 1] * len(images))\n",
    "        self.transform = transform  # Transformation to apply to each image\n",
    "\n",
    "    def __len__(self):\n",
    "        return len(self.labels)\n",
    "\n",
    "    def __getitem__(self, idx):\n",
    "        image = self.images[idx]\n",
    "        label = self.labels[idx]\n",
    "        # Convert image to PyTorch tensor and normalize if necessary\n",
    "        image_tensor = torch.tensor(image, dtype=torch.float32) / 255.0\n",
    "        image_tensor = torch.unsqueeze(image_tensor, 0)\n",
    "        if self.transform:\n",
    "            image_tensor = self.transform(image_tensor)  # Apply transformation\n",
    "        # Convert label to PyTorch tensor\n",
    "        label_tensor = torch.tensor(label, dtype=torch.long)\n",
    "        return image_tensor, label_tensor"
   ]
  },
  {
   "cell_type": "code",
   "outputs": [],
   "source": [
    "\n",
    "import torch\n",
    "import numpy as np\n",
    "import matplotlib.pyplot as plt\n",
    "import seaborn as sns\n",
    "from sklearn.metrics import adjusted_rand_score, accuracy_score, precision_recall_fscore_support, confusion_matrix\n",
    "\n",
    "def evaluate_model_clusters(model, val_loader):\n",
    "    device = torch.device(\"cuda\" if torch.cuda.is_available() else \"cpu\")\n",
    "    model = model.to(device)\n",
    "    model.eval()\n",
    "    \n",
    "    predictions, true_labels = [], []\n",
    "    with torch.no_grad():\n",
    "        for images, labels in val_loader:\n",
    "            images, labels = images.to(device), labels.to(device)\n",
    "            outputs = model(images)\n",
    "            predicted_labels = outputs.argmax(1)\n",
    "            predictions.extend(predicted_labels.cpu().numpy())\n",
    "            true_labels.extend(labels.cpu().numpy())\n",
    "\n",
    "    # Metrics calculation\n",
    "    predictions = np.array(predictions)\n",
    "    true_labels = np.array(true_labels)\n",
    "    ari = adjusted_rand_score(true_labels, predictions)\n",
    "    accuracy = accuracy_score(true_labels, predictions)\n",
    "    precision, recall, f1, _ = precision_recall_fscore_support(true_labels, predictions, average=None, zero_division=0)\n",
    "    precision_weighted, recall_weighted, f1_weighted, _ = precision_recall_fscore_support(true_labels, predictions, average='weighted', zero_division=0)\n",
    "\n",
    "    # Confusion Matrix\n",
    "    conf_mat = confusion_matrix(true_labels, predictions)\n",
    "    \n",
    "    return {\n",
    "        \"Accuracy\": accuracy,\n",
    "        \"Precision\": precision_weighted,\n",
    "        \"Recall\": recall_weighted,\n",
    "        \"F1 Score\": f1_weighted,\n",
    "        \"Adjusted Rand Index\": ari,\n",
    "        \"Precision by cluster\":precision,\n",
    "        \"Recall by cluster\":recall,\n",
    "        \"F1 score by cluster\":f1,\n",
    "        \"confusion_matrix\": conf_mat,\n",
    "    }\n",
    "\n",
    "\n"
   ],
   "metadata": {
    "collapsed": false,
    "ExecuteTime": {
     "end_time": "2024-05-07T06:40:54.432207199Z",
     "start_time": "2024-05-07T06:40:54.421791966Z"
    }
   },
   "id": "87fdff6aa28e35a4",
   "execution_count": 101
  },
  {
   "cell_type": "code",
   "outputs": [],
   "source": [
    "import torch\n",
    "\n",
    "\n",
    "def calculate_mean_std(images):\n",
    "    # Initialize variables to accumulate the sum and sum of squares\n",
    "    n_images = len(images)\n",
    "    mean = torch.zeros(1)\n",
    "    squared_sum = torch.zeros(1)\n",
    "\n",
    "    for image in images:\n",
    "        image_tensor = torch.tensor(image, dtype=torch.float32) / 255.0\n",
    "        mean += torch.mean(image_tensor)\n",
    "        squared_sum += torch.mean(image_tensor**2)\n",
    "\n",
    "    # Calculate mean and standard deviation\n",
    "    mean /= n_images\n",
    "    std = torch.sqrt(squared_sum / n_images - mean**2)\n",
    "\n",
    "    return mean.item(), std.item()\n",
    "\n",
    "\n",
    "mean, std = calculate_mean_std(unmasked_cells)"
   ],
   "metadata": {
    "ExecuteTime": {
     "end_time": "2024-05-07T06:40:56.535226885Z",
     "start_time": "2024-05-07T06:40:56.517976271Z"
    }
   },
   "id": "a567d76b19dfd456",
   "execution_count": 102
  },
  {
   "cell_type": "markdown",
   "source": [
    "#### Load data and create dataloaders"
   ],
   "metadata": {},
   "id": "a3768f5f6c2b3625"
  },
  {
   "cell_type": "code",
   "outputs": [],
   "source": [
    "from torchvision.transforms import AutoAugmentPolicy\n",
    "from torchvision import transforms\n",
    "\n",
    "train_transforms = transforms.Compose(\n",
    "    [\n",
    "        transforms.ToPILImage(),\n",
    "        transforms.RandomHorizontalFlip(),\n",
    "        transforms.RandomVerticalFlip(),\n",
    "        transforms.GaussianBlur(3, sigma=(0.1, 2.0)),\n",
    "        transforms.RandomRotation(50),\n",
    "        transforms.RandomResizedCrop(50, scale=(0.8, 1.0)),\n",
    "        transforms.ToTensor(),\n",
    "        transforms.Normalize(\n",
    "            [\n",
    "                mean,\n",
    "            ],\n",
    "            [\n",
    "                std,\n",
    "            ],\n",
    "        ),  # Normalize the image\n",
    "    ]\n",
    ")\n",
    "custom_dataset = CustomDataset(unmasked_cells, train_transforms)\n",
    "\n",
    "\n",
    "\n"
   ],
   "metadata": {
    "ExecuteTime": {
     "end_time": "2024-05-07T06:40:57.841808388Z",
     "start_time": "2024-05-07T06:40:57.834714497Z"
    }
   },
   "id": "9fe03b621c70df59",
   "execution_count": 103
  },
  {
   "cell_type": "markdown",
   "source": [
    "### Make the models"
   ],
   "metadata": {},
   "id": "24375d7265540170"
  },
  {
   "cell_type": "markdown",
   "source": [
    "#### Random simple model"
   ],
   "metadata": {},
   "id": "3b5070155c752fba"
  },
  {
   "cell_type": "code",
   "outputs": [],
   "source": [
    "class Model(nn.Module):\n",
    "    def __init__(self, num_classes):\n",
    "        super(Model, self).__init__()\n",
    "        self.conv1 = nn.Conv2d(\n",
    "            in_channels=1, out_channels=16, kernel_size=3, stride=1, padding=1\n",
    "        )\n",
    "        self.conv2 = nn.Conv2d(\n",
    "            in_channels=16, out_channels=32, kernel_size=3, stride=1, padding=1\n",
    "        )\n",
    "        self.conv3 = nn.Conv2d(\n",
    "            in_channels=32, out_channels=64, kernel_size=3, stride=1, padding=1\n",
    "        )\n",
    "        self.fc1 = nn.Linear(\n",
    "            64 * 6 * 6, 128\n",
    "        )  # Adjust input size based on your image size\n",
    "        self.fc2 = nn.Linear(128, num_classes)\n",
    "\n",
    "        self.pool = nn.MaxPool2d(kernel_size=2, stride=2)\n",
    "        self.relu = nn.ReLU()\n",
    "\n",
    "    def forward(self, x):\n",
    "        x = self.relu(self.conv1(x))\n",
    "        x = self.pool(x)\n",
    "        x = self.relu(self.conv2(x))\n",
    "        x = self.pool(x)\n",
    "        x = self.relu(self.conv3(x))\n",
    "        x = self.pool(x)\n",
    "\n",
    "        x = x.view(-1, 64 * 6 * 6)  # Adjust input size based on your image size\n",
    "        x = self.relu(self.fc1(x))\n",
    "        x = self.fc2(x)\n",
    "        return x"
   ],
   "metadata": {
    "ExecuteTime": {
     "end_time": "2024-05-07T05:55:36.525148574Z",
     "start_time": "2024-05-07T05:55:36.426088260Z"
    }
   },
   "id": "76c0524b6bd62d9e",
   "execution_count": 52
  },
  {
   "cell_type": "markdown",
   "source": [
    "#### Lab 4b Model"
   ],
   "metadata": {},
   "id": "ec08c2edc08a65dd"
  },
  {
   "cell_type": "code",
   "outputs": [],
   "source": [
    "class LabModel(nn.Module):\n",
    "    def __init__(self):\n",
    "        super(LabModel, self).__init__()\n",
    "        self.conv1 = nn.Conv2d(in_channels=1, out_channels=32, kernel_size=3, padding=1)\n",
    "        self.pool = nn.MaxPool2d(kernel_size=2, stride=2)\n",
    "        self.conv2 = nn.Conv2d(\n",
    "            in_channels=32, out_channels=64, kernel_size=3, padding=1\n",
    "        )\n",
    "        self.dropout1 = nn.Dropout2d(p=0.25)\n",
    "        self.fc1 = nn.Linear(\n",
    "            64 * 12 * 12, 128\n",
    "        )  # Adjust input size based on your image size\n",
    "        self.dropout2 = nn.Dropout(p=0.5)\n",
    "        self.fc2 = nn.Linear(128, 64)\n",
    "        self.dropout3 = nn.Dropout(p=0.5)\n",
    "        self.fc3 = nn.Linear(64, 28)  # Assuming 2 classes for binary classification\n",
    "\n",
    "    def forward(self, x):\n",
    "        x = self.pool(nn.functional.relu(self.conv1(x)))\n",
    "        x = self.pool(nn.functional.relu(self.conv2(x)))\n",
    "        x = self.dropout1(x)\n",
    "        x = x.view(-1, 64 * 12 * 12)  # Adjust input size based on your image size\n",
    "        x = nn.functional.relu(self.fc1(x))\n",
    "        x = self.dropout2(x)\n",
    "        x = nn.functional.relu(self.fc2(x))\n",
    "        x = self.dropout3(x)\n",
    "        x = self.fc3(x)\n",
    "        return x"
   ],
   "metadata": {
    "ExecuteTime": {
     "end_time": "2024-05-07T05:55:36.526131520Z",
     "start_time": "2024-05-07T05:55:36.468895674Z"
    }
   },
   "id": "9296f2d4995aa5c2",
   "execution_count": 53
  },
  {
   "cell_type": "markdown",
   "source": [
    "#### AlexNet"
   ],
   "metadata": {},
   "id": "cc3292c3062f26c4"
  },
  {
   "cell_type": "code",
   "outputs": [],
   "source": [
    "class AlexNet(nn.Module):\n",
    "    def __init__(self, num=28):\n",
    "        super(AlexNet, self).__init__()\n",
    "        self.feature = nn.Sequential(\n",
    "            nn.Conv2d(1, 32, kernel_size=5, stride=1, padding=1),\n",
    "            nn.ReLU(inplace=True),\n",
    "            nn.Conv2d(32, 64, kernel_size=3, padding=1),\n",
    "            nn.ReLU(inplace=True),\n",
    "            nn.MaxPool2d(kernel_size=2, stride=2),\n",
    "            nn.Conv2d(64, 96, kernel_size=3, padding=1),\n",
    "            nn.ReLU(inplace=True),\n",
    "            nn.Conv2d(96, 64, kernel_size=3, padding=1),\n",
    "            nn.ReLU(inplace=True),\n",
    "            nn.Conv2d(64, 32, kernel_size=3, padding=1),\n",
    "            nn.ReLU(inplace=True),\n",
    "            nn.MaxPool2d(kernel_size=2, stride=1),\n",
    "        )\n",
    "        self.classifier = nn.Sequential(\n",
    "            nn.Dropout(),\n",
    "            nn.Linear(32 * 12 * 12, 2048),\n",
    "            nn.ReLU(inplace=True),\n",
    "            nn.Dropout(),\n",
    "            nn.Linear(2048, 1024),\n",
    "            nn.ReLU(inplace=True),\n",
    "            nn.Linear(1024, num),\n",
    "        )\n",
    "\n",
    "    def forward(self, x):\n",
    "        x = self.feature(x)\n",
    "        x = x.view(-1, 32 * 12 * 12)\n",
    "        return self.classifier(x)\n",
    "        # return x"
   ],
   "metadata": {
    "collapsed": false,
    "ExecuteTime": {
     "end_time": "2024-05-07T05:55:36.526994143Z",
     "start_time": "2024-05-07T05:55:36.469090073Z"
    }
   },
   "id": "a705140488d209c2",
   "execution_count": 54
  },
  {
   "cell_type": "code",
   "outputs": [],
   "source": [
    "# Define the ResNet model\n",
    "import torchvision.models as models\n",
    "import torch.nn as nn\n",
    "import torch.nn.functional as F\n",
    "\n",
    "\n",
    "class ModifiedResNet50(models.ResNet):\n",
    "    def __init__(self, weights=None, num_classes=28, *args, **kwargs):\n",
    "        super(ModifiedResNet50, self).__init__(\n",
    "            block=models.resnet.Bottleneck, layers=[3, 4, 6, 3], *args, **kwargs\n",
    "        )\n",
    "\n",
    "        # Initialize a new fully connected layer with the correct number of classes\n",
    "        self.fc = nn.Linear(2048, num_classes)\n",
    "\n",
    "        # If weights is provided, load the state_dict with strict=False to avoid errors\n",
    "        if weights is not None:\n",
    "            state_dict = weights.state_dict()\n",
    "\n",
    "            # Remove the weights related to the fully connected layer to avoid mismatch\n",
    "            if \"fc.weight\" in state_dict and \"fc.bias\" in state_dict:\n",
    "                del state_dict[\"fc.weight\"]\n",
    "                del state_dict[\"fc.bias\"]\n",
    "\n",
    "            self.load_state_dict(state_dict, strict=False)\n",
    "\n",
    "        # Modify the first convolutional layer to accept 1-channel input\n",
    "        self.conv1 = nn.Conv2d(1, 64, kernel_size=7, stride=2, padding=3, bias=False)\n",
    "\n",
    "        # Update the first layer's weights, if weights were provided\n",
    "        if weights is not None:\n",
    "            with torch.no_grad():\n",
    "                original_first_layer = state_dict[\"conv1.weight\"]\n",
    "                self.conv1.weight.data = original_first_layer.mean(dim=1, keepdim=True)\n",
    "\n",
    "        # Adding Dropout\n",
    "        self.dropout = nn.Dropout(0.5)\n",
    "\n",
    "        # Adding Batch Normalization\n",
    "        self.bn1 = nn.BatchNorm2d(64)\n",
    "\n",
    "    def forward(self, x):\n",
    "        x = self.conv1(x)\n",
    "        x = self.bn1(x)\n",
    "        x = F.relu(x)\n",
    "        x = self.dropout(x)\n",
    "        x = self.layer1(x)\n",
    "        x = self.layer2(x)\n",
    "        x = self.layer3(x)\n",
    "        x = self.layer4(x)\n",
    "        x = self.avgpool(x)\n",
    "        x = torch.flatten(x, 1)\n",
    "        x = self.fc(x)\n",
    "        return x"
   ],
   "metadata": {
    "ExecuteTime": {
     "end_time": "2024-05-07T05:55:36.537974235Z",
     "start_time": "2024-05-07T05:55:36.469212449Z"
    }
   },
   "id": "ae34396bf5107dc4",
   "execution_count": 55
  },
  {
   "cell_type": "code",
   "outputs": [],
   "source": [
    "import torchvision.models as models\n",
    "import torch.nn as nn\n",
    "import torch.nn.functional as F\n",
    "\n",
    "\n",
    "class ModifiedResNet18(models.ResNet):\n",
    "    def __init__(self, weights=None, num_classes=28, *args, **kwargs):\n",
    "        super(ModifiedResNet18, self).__init__(\n",
    "            block=models.resnet.BasicBlock, layers=[2, 2, 2, 2], *args, **kwargs\n",
    "        )\n",
    "\n",
    "        # Initialize a new fully connected layer with the correct number of classes\n",
    "        self.fc = nn.Linear(512, num_classes)\n",
    "\n",
    "        # If weights is provided, load the state_dict with strict=False to avoid errors\n",
    "        if weights is not None:\n",
    "            state_dict = weights.state_dict()\n",
    "\n",
    "            # Remove the weights related to the fully connected layer to avoid mismatch\n",
    "            if \"fc.weight\" in state_dict and \"fc.bias\" in state_dict:\n",
    "                del state_dict[\"fc.weight\"]\n",
    "                del state_dict[\"fc.bias\"]\n",
    "\n",
    "            self.load_state_dict(state_dict, strict=False)\n",
    "\n",
    "        # Modify the first convolutional layer to accept 1-channel input\n",
    "        self.conv1 = nn.Conv2d(1, 64, kernel_size=7, stride=2, padding=3, bias=False)\n",
    "\n",
    "        # Update the first layer's weights, if weights were provided\n",
    "        if weights is not None:\n",
    "            with torch.no_grad():\n",
    "                original_first_layer = state_dict[\"conv1.weight\"]\n",
    "                self.conv1.weight.data = original_first_layer.mean(dim=1, keepdim=True)\n",
    "\n",
    "        # Adding Dropout\n",
    "        self.dropout = nn.Dropout(0.5)\n",
    "\n",
    "        # Adding Batch Normalization\n",
    "        self.bn1 = nn.BatchNorm2d(64)\n",
    "\n",
    "    def forward(self, x):\n",
    "        x = self.conv1(x)\n",
    "        x = self.bn1(x)\n",
    "        x = F.relu(x)\n",
    "        x = self.dropout(x)\n",
    "        x = self.layer1(x)\n",
    "        x = self.layer2(x)\n",
    "        x = self.layer3(x)\n",
    "        x = self.layer4(x)\n",
    "        x = self.avgpool(x)\n",
    "        x = torch.flatten(x, 1)\n",
    "        x = self.fc(x)\n",
    "        return x"
   ],
   "metadata": {
    "ExecuteTime": {
     "end_time": "2024-05-07T05:55:36.538950909Z",
     "start_time": "2024-05-07T05:55:36.469329275Z"
    }
   },
   "id": "235cfa5c4d808f48",
   "execution_count": 56
  },
  {
   "cell_type": "code",
   "outputs": [],
   "source": [
    "import timm\n",
    "import torch\n",
    "import torch.nn as nn\n",
    "import torch.nn.functional as F\n",
    "\n",
    "\n",
    "# Define a modified Vision Transformer (ViT) with a dropout layer\n",
    "class ModifiedViT(nn.Module):\n",
    "    def __init__(\n",
    "        self,\n",
    "        model_name=\"vit_base_patch16_224\",\n",
    "        pretrained=True,\n",
    "        num_classes=1000,\n",
    "        dropout_rate=0.3,  # Default dropout rate\n",
    "    ):\n",
    "        super(ModifiedViT, self).__init__()\n",
    "\n",
    "        # Load the pretrained ViT model\n",
    "        self.vit = timm.create_model(\n",
    "            model_name, pretrained=pretrained, num_classes=num_classes\n",
    "        )\n",
    "\n",
    "        # Modify the patch embedding to handle grayscale images\n",
    "        original_patch_embedding = self.vit.patch_embed.proj\n",
    "        self.vit.patch_embed.proj = nn.Conv2d(\n",
    "            1,\n",
    "            original_patch_embedding.out_channels,\n",
    "            kernel_size=original_patch_embedding.kernel_size,\n",
    "            stride=original_patch_embedding.stride,\n",
    "            padding=original_patch_embedding.padding,\n",
    "            bias=False,\n",
    "        )\n",
    "\n",
    "        # If using pretrained weights, adjust for grayscale\n",
    "        if pretrained:\n",
    "            with torch.no_grad():\n",
    "                original_weight = original_patch_embedding.weight.mean(\n",
    "                    dim=1, keepdim=True\n",
    "                )\n",
    "                self.vit.patch_embed.proj.weight.data = original_weight\n",
    "\n",
    "        # Add dropout layer after patch embedding\n",
    "        self.dropout = nn.Dropout(p=dropout_rate)\n",
    "\n",
    "        # Replace the classifier head\n",
    "        self.vit.head = nn.Linear(self.vit.head.in_features, num_classes)\n",
    "\n",
    "    def forward(self, x):\n",
    "        x = self.vit.patch_embed(x)\n",
    "\n",
    "        cls_token = self.vit.cls_token.expand(x.shape[0], -1, -1)\n",
    "        x = torch.cat((cls_token, x), dim=1)\n",
    "\n",
    "        # Apply positional dropout and add positional embedding\n",
    "        x = self.vit.pos_drop(x + self.vit.pos_embed)\n",
    "\n",
    "        # Apply dropout before entering transformer blocks\n",
    "        x = self.dropout(x)\n",
    "\n",
    "        # Forward through the transformer blocks\n",
    "        x = self.vit.blocks(x)\n",
    "\n",
    "        # Apply normalization\n",
    "        x = self.vit.norm(x)\n",
    "\n",
    "        # Select CLS token and apply final dropout\n",
    "        x = self.dropout(x[:, 0])\n",
    "\n",
    "        # Final classifier head\n",
    "        x = self.vit.head(x)\n",
    "\n",
    "        return x"
   ],
   "metadata": {
    "ExecuteTime": {
     "end_time": "2024-05-07T05:55:36.539832237Z",
     "start_time": "2024-05-07T05:55:36.469494180Z"
    }
   },
   "id": "b17914f99df502c9",
   "execution_count": 57
  },
  {
   "cell_type": "markdown",
   "id": "39cfa5230aa2fd4a",
   "metadata": {},
   "source": [
    "### Train"
   ]
  },
  {
   "cell_type": "code",
   "execution_count": 156,
   "id": "b45b59429adb9146",
   "metadata": {
    "ExecuteTime": {
     "end_time": "2024-05-07T08:35:16.380932561Z",
     "start_time": "2024-05-07T08:35:16.366243724Z"
    }
   },
   "outputs": [],
   "source": [
    "import os\n",
    "import torch\n",
    "from torch.utils.data import Subset, DataLoader\n",
    "from tqdm import tqdm\n",
    "from sklearn.model_selection import RepeatedKFold\n",
    "\n",
    "def perform_training_epoch(model, train_loader, optimizer, criterion, device):\n",
    "    model.train()\n",
    "    total_loss, total_correct, total_samples = 0, 0, 0\n",
    "\n",
    "    pbar = tqdm(train_loader, desc='Training', leave=False)\n",
    "    for inputs, labels in pbar:\n",
    "        inputs, labels = inputs.to(device), labels.to(device)\n",
    "        optimizer.zero_grad()\n",
    "        outputs = model(inputs)\n",
    "        loss = criterion(outputs, labels)\n",
    "        loss.backward()\n",
    "        optimizer.step()\n",
    "\n",
    "        _, predicted = outputs.max(1)\n",
    "        total_loss += loss.item() * inputs.size(0)\n",
    "        total_correct += (predicted == labels).sum().item()\n",
    "        total_samples += labels.size(0)\n",
    "        pbar.set_postfix(loss=f'{total_loss / total_samples:.4f}', acc=f'{total_correct / total_samples:.4f}')\n",
    "\n",
    "    return total_loss / total_samples, total_correct / total_samples\n",
    "\n",
    "def perform_validation_epoch(model, val_loader, criterion, device):\n",
    "    model.eval()\n",
    "    total_loss, total_correct, total_samples = 0, 0, 0\n",
    "\n",
    "    pbar = tqdm(val_loader, desc='Validation', leave=False)\n",
    "    with torch.no_grad():\n",
    "        for inputs, labels in pbar:\n",
    "            inputs, labels = inputs.to(device), labels.to(device)\n",
    "            outputs = model(inputs)\n",
    "            loss = criterion(outputs, labels)\n",
    "            total_loss += loss.item() * inputs.size(0)\n",
    "            _, predicted = outputs.max(1)\n",
    "            total_correct += (predicted == labels).sum().item()\n",
    "            total_samples += labels.size(0)\n",
    "            pbar.set_postfix(loss=f'{total_loss / total_samples:.4f}', acc=f'{total_correct / total_samples:.4f}')\n",
    "\n",
    "    return total_loss / total_samples, total_correct / total_samples\n",
    "\n",
    "def train_and_evaluate_model(model, dataset, num_splits=5, num_repeats=3, num_epochs=20, batch_size=32, learning_rate=0.0001, save_path=None):\n",
    "    device = torch.device(\"cuda\" if torch.cuda.is_available() else \"cpu\")\n",
    "    model.to(device)\n",
    "    criterion = torch.nn.CrossEntropyLoss()\n",
    "    optimizer = torch.optim.Adam(model.parameters(), lr=learning_rate)\n",
    "    rkfold = RepeatedKFold(n_splits=num_splits, n_repeats=num_repeats, random_state=42)\n",
    "\n",
    "    all_fold_results = []\n",
    "    total_iterations = num_splits * num_repeats\n",
    "    current_iteration = 0\n",
    "\n",
    "    for train_idx, val_idx in rkfold.split(dataset):\n",
    "        repeat_number = current_iteration // num_splits + 1\n",
    "        fold_number = current_iteration % num_splits + 1\n",
    "        print(f\"Starting Repeat {repeat_number}, Fold {fold_number}\")\n",
    "\n",
    "        train_loader = DataLoader(Subset(dataset, train_idx), batch_size=batch_size, shuffle=True)\n",
    "        val_loader = DataLoader(Subset(dataset, val_idx), batch_size=batch_size, shuffle=False)\n",
    "        epoch_accuracies = []\n",
    "        \n",
    "        for epoch in range(num_epochs):\n",
    "            print(f\"Epoch {epoch + 1}/{num_epochs}, Repeat {repeat_number}, Fold {fold_number}\")\n",
    "            train_loss, train_accuracy = perform_training_epoch(model, train_loader, optimizer, criterion, device)\n",
    "            val_loss, val_accuracy = perform_validation_epoch(model, val_loader, criterion, device)\n",
    "            epoch_accuracies.append(train_accuracy)\n",
    "            print(f\"Repeat {repeat_number}, Fold {fold_number}, Epoch {epoch + 1}: Train Loss = {train_loss:.4f}, Train Acc = {train_accuracy:.4f}, Val Loss = {val_loss:.4f}, Val Acc = {val_accuracy:.4f}\")\n",
    "\n",
    "            if epoch == num_epochs - 1:\n",
    "                evaluation_metrics = evaluate_model_clusters(model, val_loader)  # Assuming defined elsewhere\n",
    "                evaluation_metrics['epoch_accuracies'] = epoch_accuracies\n",
    "                all_fold_results.append(evaluation_metrics)\n",
    "\n",
    "                if save_path:\n",
    "                    filepath = os.path.join(save_path, f\"evaluation_repeat_{repeat_number}_fold_{fold_number}.json\")\n",
    "                    save_evaluation_results(evaluation_metrics, filepath)\n",
    "\n",
    "        current_iteration += 1\n",
    "\n",
    "    return all_fold_results\n",
    "\n"
   ]
  },
  {
   "cell_type": "code",
   "outputs": [],
   "source": [
    "import json\n",
    "import numpy as np\n",
    "\n",
    "\n",
    "def save_evaluation_results(evaluation_metrics, filepath):\n",
    "    # Convert all numpy arrays to lists\n",
    "    def convert(obj):\n",
    "        if isinstance(obj, np.ndarray):\n",
    "            return obj.tolist()  # Convert ndarray to list\n",
    "\n",
    "    with open(filepath, 'w') as f:\n",
    "        # Use the default function to handle non-serializable data\n",
    "        json.dump(evaluation_metrics, f, default=convert, ensure_ascii=False, separators=(',', ':'))\n",
    "\n",
    "\n"
   ],
   "metadata": {
    "collapsed": false,
    "ExecuteTime": {
     "end_time": "2024-05-07T08:35:22.511663299Z",
     "start_time": "2024-05-07T08:35:22.496542758Z"
    }
   },
   "id": "3ab01b09dcdc82b3",
   "execution_count": 157
  },
  {
   "cell_type": "code",
   "execution_count": 159,
   "id": "dfe7db0c03e0e172",
   "metadata": {
    "ExecuteTime": {
     "end_time": "2024-05-07T10:32:35.848439709Z",
     "start_time": "2024-05-07T08:37:17.637137651Z"
    }
   },
   "outputs": [
    {
     "name": "stdout",
     "output_type": "stream",
     "text": [
      "Starting Repeat 1, Fold 1\n",
      "Epoch 1/30, Repeat 1, Fold 1\n"
     ]
    },
    {
     "name": "stderr",
     "output_type": "stream",
     "text": [
      "                                                                                      \r"
     ]
    },
    {
     "name": "stdout",
     "output_type": "stream",
     "text": [
      "Repeat 1, Fold 1, Epoch 1: Train Loss = 3.0491, Train Acc = 0.1263, Val Loss = 3.0609, Val Acc = 0.1305\n",
      "Epoch 2/30, Repeat 1, Fold 1\n"
     ]
    },
    {
     "name": "stderr",
     "output_type": "stream",
     "text": [
      "                                                                                      \r"
     ]
    },
    {
     "name": "stdout",
     "output_type": "stream",
     "text": [
      "Repeat 1, Fold 1, Epoch 2: Train Loss = 3.0035, Train Acc = 0.1357, Val Loss = 3.0297, Val Acc = 0.1409\n",
      "Epoch 3/30, Repeat 1, Fold 1\n"
     ]
    },
    {
     "name": "stderr",
     "output_type": "stream",
     "text": [
      "                                                                                      \r"
     ]
    },
    {
     "name": "stdout",
     "output_type": "stream",
     "text": [
      "Repeat 1, Fold 1, Epoch 3: Train Loss = 2.9907, Train Acc = 0.1385, Val Loss = 3.0056, Val Acc = 0.1398\n",
      "Epoch 4/30, Repeat 1, Fold 1\n"
     ]
    },
    {
     "name": "stderr",
     "output_type": "stream",
     "text": [
      "                                                                                      \r"
     ]
    },
    {
     "name": "stdout",
     "output_type": "stream",
     "text": [
      "Repeat 1, Fold 1, Epoch 4: Train Loss = 2.9777, Train Acc = 0.1440, Val Loss = 3.0615, Val Acc = 0.1231\n",
      "Epoch 5/30, Repeat 1, Fold 1\n"
     ]
    },
    {
     "name": "stderr",
     "output_type": "stream",
     "text": [
      "                                                                                      \r"
     ]
    },
    {
     "name": "stdout",
     "output_type": "stream",
     "text": [
      "Repeat 1, Fold 1, Epoch 5: Train Loss = 2.9567, Train Acc = 0.1490, Val Loss = 3.0454, Val Acc = 0.1314\n",
      "Epoch 6/30, Repeat 1, Fold 1\n"
     ]
    },
    {
     "name": "stderr",
     "output_type": "stream",
     "text": [
      "                                                                                      \r"
     ]
    },
    {
     "name": "stdout",
     "output_type": "stream",
     "text": [
      "Repeat 1, Fold 1, Epoch 6: Train Loss = 2.9396, Train Acc = 0.1547, Val Loss = 2.9566, Val Acc = 0.1498\n",
      "Epoch 7/30, Repeat 1, Fold 1\n"
     ]
    },
    {
     "name": "stderr",
     "output_type": "stream",
     "text": [
      "                                                                                      \r"
     ]
    },
    {
     "name": "stdout",
     "output_type": "stream",
     "text": [
      "Repeat 1, Fold 1, Epoch 7: Train Loss = 2.9249, Train Acc = 0.1563, Val Loss = 2.9693, Val Acc = 0.1487\n",
      "Epoch 8/30, Repeat 1, Fold 1\n"
     ]
    },
    {
     "name": "stderr",
     "output_type": "stream",
     "text": [
      "                                                                                      \r"
     ]
    },
    {
     "name": "stdout",
     "output_type": "stream",
     "text": [
      "Repeat 1, Fold 1, Epoch 8: Train Loss = 2.9153, Train Acc = 0.1569, Val Loss = 2.9748, Val Acc = 0.1351\n",
      "Epoch 9/30, Repeat 1, Fold 1\n"
     ]
    },
    {
     "name": "stderr",
     "output_type": "stream",
     "text": [
      "                                                                                      \r"
     ]
    },
    {
     "name": "stdout",
     "output_type": "stream",
     "text": [
      "Repeat 1, Fold 1, Epoch 9: Train Loss = 2.9088, Train Acc = 0.1583, Val Loss = 2.9247, Val Acc = 0.1596\n",
      "Epoch 10/30, Repeat 1, Fold 1\n"
     ]
    },
    {
     "name": "stderr",
     "output_type": "stream",
     "text": [
      "                                                                                      \r"
     ]
    },
    {
     "name": "stdout",
     "output_type": "stream",
     "text": [
      "Repeat 1, Fold 1, Epoch 10: Train Loss = 2.8997, Train Acc = 0.1601, Val Loss = 2.9240, Val Acc = 0.1572\n",
      "Epoch 11/30, Repeat 1, Fold 1\n"
     ]
    },
    {
     "name": "stderr",
     "output_type": "stream",
     "text": [
      "                                                                                      \r"
     ]
    },
    {
     "name": "stdout",
     "output_type": "stream",
     "text": [
      "Repeat 1, Fold 1, Epoch 11: Train Loss = 2.8954, Train Acc = 0.1615, Val Loss = 2.9278, Val Acc = 0.1516\n",
      "Epoch 12/30, Repeat 1, Fold 1\n"
     ]
    },
    {
     "name": "stderr",
     "output_type": "stream",
     "text": [
      "                                                                                      \r"
     ]
    },
    {
     "name": "stdout",
     "output_type": "stream",
     "text": [
      "Repeat 1, Fold 1, Epoch 12: Train Loss = 2.8857, Train Acc = 0.1658, Val Loss = 2.9022, Val Acc = 0.1682\n",
      "Epoch 13/30, Repeat 1, Fold 1\n"
     ]
    },
    {
     "name": "stderr",
     "output_type": "stream",
     "text": [
      "                                                                                      \r"
     ]
    },
    {
     "name": "stdout",
     "output_type": "stream",
     "text": [
      "Repeat 1, Fold 1, Epoch 13: Train Loss = 2.8767, Train Acc = 0.1687, Val Loss = 2.9180, Val Acc = 0.1598\n",
      "Epoch 14/30, Repeat 1, Fold 1\n"
     ]
    },
    {
     "name": "stderr",
     "output_type": "stream",
     "text": [
      "                                                                                      \r"
     ]
    },
    {
     "name": "stdout",
     "output_type": "stream",
     "text": [
      "Repeat 1, Fold 1, Epoch 14: Train Loss = 2.8728, Train Acc = 0.1676, Val Loss = 2.8857, Val Acc = 0.1697\n",
      "Epoch 15/30, Repeat 1, Fold 1\n"
     ]
    },
    {
     "name": "stderr",
     "output_type": "stream",
     "text": [
      "                                                                                      \r"
     ]
    },
    {
     "name": "stdout",
     "output_type": "stream",
     "text": [
      "Repeat 1, Fold 1, Epoch 15: Train Loss = 2.8690, Train Acc = 0.1707, Val Loss = 2.8769, Val Acc = 0.1700\n",
      "Epoch 16/30, Repeat 1, Fold 1\n"
     ]
    },
    {
     "name": "stderr",
     "output_type": "stream",
     "text": [
      "                                                                                      \r"
     ]
    },
    {
     "name": "stdout",
     "output_type": "stream",
     "text": [
      "Repeat 1, Fold 1, Epoch 16: Train Loss = 2.8587, Train Acc = 0.1707, Val Loss = 2.8927, Val Acc = 0.1640\n",
      "Epoch 17/30, Repeat 1, Fold 1\n"
     ]
    },
    {
     "name": "stderr",
     "output_type": "stream",
     "text": [
      "                                                                                      \r"
     ]
    },
    {
     "name": "stdout",
     "output_type": "stream",
     "text": [
      "Repeat 1, Fold 1, Epoch 17: Train Loss = 2.8581, Train Acc = 0.1704, Val Loss = 2.8870, Val Acc = 0.1737\n",
      "Epoch 18/30, Repeat 1, Fold 1\n"
     ]
    },
    {
     "name": "stderr",
     "output_type": "stream",
     "text": [
      "                                                                                      \r"
     ]
    },
    {
     "name": "stdout",
     "output_type": "stream",
     "text": [
      "Repeat 1, Fold 1, Epoch 18: Train Loss = 2.8509, Train Acc = 0.1724, Val Loss = 2.8730, Val Acc = 0.1762\n",
      "Epoch 19/30, Repeat 1, Fold 1\n"
     ]
    },
    {
     "name": "stderr",
     "output_type": "stream",
     "text": [
      "                                                                                      \r"
     ]
    },
    {
     "name": "stdout",
     "output_type": "stream",
     "text": [
      "Repeat 1, Fold 1, Epoch 19: Train Loss = 2.8468, Train Acc = 0.1758, Val Loss = 2.8634, Val Acc = 0.1728\n",
      "Epoch 20/30, Repeat 1, Fold 1\n"
     ]
    },
    {
     "name": "stderr",
     "output_type": "stream",
     "text": [
      "                                                                                      \r"
     ]
    },
    {
     "name": "stdout",
     "output_type": "stream",
     "text": [
      "Repeat 1, Fold 1, Epoch 20: Train Loss = 2.8431, Train Acc = 0.1744, Val Loss = 2.8593, Val Acc = 0.1769\n",
      "Epoch 21/30, Repeat 1, Fold 1\n"
     ]
    },
    {
     "name": "stderr",
     "output_type": "stream",
     "text": [
      "                                                                                      \r"
     ]
    },
    {
     "name": "stdout",
     "output_type": "stream",
     "text": [
      "Repeat 1, Fold 1, Epoch 21: Train Loss = 2.8375, Train Acc = 0.1784, Val Loss = 2.8665, Val Acc = 0.1800\n",
      "Epoch 22/30, Repeat 1, Fold 1\n"
     ]
    },
    {
     "name": "stderr",
     "output_type": "stream",
     "text": [
      "                                                                                      \r"
     ]
    },
    {
     "name": "stdout",
     "output_type": "stream",
     "text": [
      "Repeat 1, Fold 1, Epoch 22: Train Loss = 2.8346, Train Acc = 0.1773, Val Loss = 2.8611, Val Acc = 0.1708\n",
      "Epoch 23/30, Repeat 1, Fold 1\n"
     ]
    },
    {
     "name": "stderr",
     "output_type": "stream",
     "text": [
      "                                                                                      \r"
     ]
    },
    {
     "name": "stdout",
     "output_type": "stream",
     "text": [
      "Repeat 1, Fold 1, Epoch 23: Train Loss = 2.8319, Train Acc = 0.1815, Val Loss = 2.8423, Val Acc = 0.1810\n",
      "Epoch 24/30, Repeat 1, Fold 1\n"
     ]
    },
    {
     "name": "stderr",
     "output_type": "stream",
     "text": [
      "                                                                                      \r"
     ]
    },
    {
     "name": "stdout",
     "output_type": "stream",
     "text": [
      "Repeat 1, Fold 1, Epoch 24: Train Loss = 2.8279, Train Acc = 0.1750, Val Loss = 2.8738, Val Acc = 0.1774\n",
      "Epoch 25/30, Repeat 1, Fold 1\n"
     ]
    },
    {
     "name": "stderr",
     "output_type": "stream",
     "text": [
      "                                                                                      \r"
     ]
    },
    {
     "name": "stdout",
     "output_type": "stream",
     "text": [
      "Repeat 1, Fold 1, Epoch 25: Train Loss = 2.8261, Train Acc = 0.1792, Val Loss = 2.8584, Val Acc = 0.1773\n",
      "Epoch 26/30, Repeat 1, Fold 1\n"
     ]
    },
    {
     "name": "stderr",
     "output_type": "stream",
     "text": [
      "                                                                                      \r"
     ]
    },
    {
     "name": "stdout",
     "output_type": "stream",
     "text": [
      "Repeat 1, Fold 1, Epoch 26: Train Loss = 2.8211, Train Acc = 0.1802, Val Loss = 2.8648, Val Acc = 0.1751\n",
      "Epoch 27/30, Repeat 1, Fold 1\n"
     ]
    },
    {
     "name": "stderr",
     "output_type": "stream",
     "text": [
      "                                                                                      \r"
     ]
    },
    {
     "name": "stdout",
     "output_type": "stream",
     "text": [
      "Repeat 1, Fold 1, Epoch 27: Train Loss = 2.8173, Train Acc = 0.1814, Val Loss = 2.8353, Val Acc = 0.1867\n",
      "Epoch 28/30, Repeat 1, Fold 1\n"
     ]
    },
    {
     "name": "stderr",
     "output_type": "stream",
     "text": [
      "                                                                                      \r"
     ]
    },
    {
     "name": "stdout",
     "output_type": "stream",
     "text": [
      "Repeat 1, Fold 1, Epoch 28: Train Loss = 2.8177, Train Acc = 0.1811, Val Loss = 2.8443, Val Acc = 0.1796\n",
      "Epoch 29/30, Repeat 1, Fold 1\n"
     ]
    },
    {
     "name": "stderr",
     "output_type": "stream",
     "text": [
      "                                                                                      \r"
     ]
    },
    {
     "name": "stdout",
     "output_type": "stream",
     "text": [
      "Repeat 1, Fold 1, Epoch 29: Train Loss = 2.8123, Train Acc = 0.1844, Val Loss = 2.8493, Val Acc = 0.1774\n",
      "Epoch 30/30, Repeat 1, Fold 1\n"
     ]
    },
    {
     "name": "stderr",
     "output_type": "stream",
     "text": [
      "                                                                                      \r"
     ]
    },
    {
     "name": "stdout",
     "output_type": "stream",
     "text": [
      "Repeat 1, Fold 1, Epoch 30: Train Loss = 2.8088, Train Acc = 0.1855, Val Loss = 2.8655, Val Acc = 0.1762\n",
      "/home/jiyu4399/PycharmProjects/DATA3888_Image_Group_2/ResNet18/evaluation_repeat_1_fold_1.json\n",
      "Starting Repeat 1, Fold 2\n",
      "Epoch 1/30, Repeat 1, Fold 2\n"
     ]
    },
    {
     "name": "stderr",
     "output_type": "stream",
     "text": [
      "                                                                                      \r"
     ]
    },
    {
     "name": "stdout",
     "output_type": "stream",
     "text": [
      "Repeat 1, Fold 2, Epoch 1: Train Loss = 2.8128, Train Acc = 0.1848, Val Loss = 2.8251, Val Acc = 0.1793\n",
      "Epoch 2/30, Repeat 1, Fold 2\n"
     ]
    },
    {
     "name": "stderr",
     "output_type": "stream",
     "text": [
      "                                                                                      \r"
     ]
    },
    {
     "name": "stdout",
     "output_type": "stream",
     "text": [
      "Repeat 1, Fold 2, Epoch 2: Train Loss = 2.8105, Train Acc = 0.1834, Val Loss = 2.8382, Val Acc = 0.1778\n",
      "Epoch 3/30, Repeat 1, Fold 2\n"
     ]
    },
    {
     "name": "stderr",
     "output_type": "stream",
     "text": [
      "                                                                                      \r"
     ]
    },
    {
     "name": "stdout",
     "output_type": "stream",
     "text": [
      "Repeat 1, Fold 2, Epoch 3: Train Loss = 2.8018, Train Acc = 0.1857, Val Loss = 2.8465, Val Acc = 0.1748\n",
      "Epoch 4/30, Repeat 1, Fold 2\n"
     ]
    },
    {
     "name": "stderr",
     "output_type": "stream",
     "text": [
      "                                                                                      \r"
     ]
    },
    {
     "name": "stdout",
     "output_type": "stream",
     "text": [
      "Repeat 1, Fold 2, Epoch 4: Train Loss = 2.8011, Train Acc = 0.1871, Val Loss = 2.8266, Val Acc = 0.1766\n",
      "Epoch 5/30, Repeat 1, Fold 2\n"
     ]
    },
    {
     "name": "stderr",
     "output_type": "stream",
     "text": [
      "                                                                                      \r"
     ]
    },
    {
     "name": "stdout",
     "output_type": "stream",
     "text": [
      "Repeat 1, Fold 2, Epoch 5: Train Loss = 2.7963, Train Acc = 0.1876, Val Loss = 2.8400, Val Acc = 0.1785\n",
      "Epoch 6/30, Repeat 1, Fold 2\n"
     ]
    },
    {
     "name": "stderr",
     "output_type": "stream",
     "text": [
      "                                                                                      \r"
     ]
    },
    {
     "name": "stdout",
     "output_type": "stream",
     "text": [
      "Repeat 1, Fold 2, Epoch 6: Train Loss = 2.7956, Train Acc = 0.1867, Val Loss = 2.8421, Val Acc = 0.1785\n",
      "Epoch 7/30, Repeat 1, Fold 2\n"
     ]
    },
    {
     "name": "stderr",
     "output_type": "stream",
     "text": [
      "                                                                                      \r"
     ]
    },
    {
     "name": "stdout",
     "output_type": "stream",
     "text": [
      "Repeat 1, Fold 2, Epoch 7: Train Loss = 2.7906, Train Acc = 0.1885, Val Loss = 2.8638, Val Acc = 0.1706\n",
      "Epoch 8/30, Repeat 1, Fold 2\n"
     ]
    },
    {
     "name": "stderr",
     "output_type": "stream",
     "text": [
      "                                                                                      \r"
     ]
    },
    {
     "name": "stdout",
     "output_type": "stream",
     "text": [
      "Repeat 1, Fold 2, Epoch 8: Train Loss = 2.7889, Train Acc = 0.1905, Val Loss = 2.8753, Val Acc = 0.1662\n",
      "Epoch 9/30, Repeat 1, Fold 2\n"
     ]
    },
    {
     "name": "stderr",
     "output_type": "stream",
     "text": [
      "                                                                                      \r"
     ]
    },
    {
     "name": "stdout",
     "output_type": "stream",
     "text": [
      "Repeat 1, Fold 2, Epoch 9: Train Loss = 2.7836, Train Acc = 0.1909, Val Loss = 2.8394, Val Acc = 0.1786\n",
      "Epoch 10/30, Repeat 1, Fold 2\n"
     ]
    },
    {
     "name": "stderr",
     "output_type": "stream",
     "text": [
      "                                                                                      \r"
     ]
    },
    {
     "name": "stdout",
     "output_type": "stream",
     "text": [
      "Repeat 1, Fold 2, Epoch 10: Train Loss = 2.7824, Train Acc = 0.1901, Val Loss = 2.8325, Val Acc = 0.1815\n",
      "Epoch 11/30, Repeat 1, Fold 2\n"
     ]
    },
    {
     "name": "stderr",
     "output_type": "stream",
     "text": [
      "                                                                                      \r"
     ]
    },
    {
     "name": "stdout",
     "output_type": "stream",
     "text": [
      "Repeat 1, Fold 2, Epoch 11: Train Loss = 2.7797, Train Acc = 0.1907, Val Loss = 2.8286, Val Acc = 0.1826\n",
      "Epoch 12/30, Repeat 1, Fold 2\n"
     ]
    },
    {
     "name": "stderr",
     "output_type": "stream",
     "text": [
      "                                                                                      \r"
     ]
    },
    {
     "name": "stdout",
     "output_type": "stream",
     "text": [
      "Repeat 1, Fold 2, Epoch 12: Train Loss = 2.7792, Train Acc = 0.1925, Val Loss = 2.8465, Val Acc = 0.1748\n",
      "Epoch 13/30, Repeat 1, Fold 2\n"
     ]
    },
    {
     "name": "stderr",
     "output_type": "stream",
     "text": [
      "                                                                                      \r"
     ]
    },
    {
     "name": "stdout",
     "output_type": "stream",
     "text": [
      "Repeat 1, Fold 2, Epoch 13: Train Loss = 2.7764, Train Acc = 0.1907, Val Loss = 2.8358, Val Acc = 0.1782\n",
      "Epoch 14/30, Repeat 1, Fold 2\n"
     ]
    },
    {
     "name": "stderr",
     "output_type": "stream",
     "text": [
      "                                                                                      \r"
     ]
    },
    {
     "name": "stdout",
     "output_type": "stream",
     "text": [
      "Repeat 1, Fold 2, Epoch 14: Train Loss = 2.7765, Train Acc = 0.1940, Val Loss = 2.8586, Val Acc = 0.1808\n",
      "Epoch 15/30, Repeat 1, Fold 2\n"
     ]
    },
    {
     "name": "stderr",
     "output_type": "stream",
     "text": [
      "                                                                                      \r"
     ]
    },
    {
     "name": "stdout",
     "output_type": "stream",
     "text": [
      "Repeat 1, Fold 2, Epoch 15: Train Loss = 2.7662, Train Acc = 0.1937, Val Loss = 2.8467, Val Acc = 0.1762\n",
      "Epoch 16/30, Repeat 1, Fold 2\n"
     ]
    },
    {
     "name": "stderr",
     "output_type": "stream",
     "text": [
      "                                                                                      \r"
     ]
    },
    {
     "name": "stdout",
     "output_type": "stream",
     "text": [
      "Repeat 1, Fold 2, Epoch 16: Train Loss = 2.7632, Train Acc = 0.1981, Val Loss = 2.8336, Val Acc = 0.1782\n",
      "Epoch 17/30, Repeat 1, Fold 2\n"
     ]
    },
    {
     "name": "stderr",
     "output_type": "stream",
     "text": [
      "                                                                                      \r"
     ]
    },
    {
     "name": "stdout",
     "output_type": "stream",
     "text": [
      "Repeat 1, Fold 2, Epoch 17: Train Loss = 2.7638, Train Acc = 0.1949, Val Loss = 2.8456, Val Acc = 0.1796\n",
      "Epoch 18/30, Repeat 1, Fold 2\n"
     ]
    },
    {
     "name": "stderr",
     "output_type": "stream",
     "text": [
      "                                                                                      \r"
     ]
    },
    {
     "name": "stdout",
     "output_type": "stream",
     "text": [
      "Repeat 1, Fold 2, Epoch 18: Train Loss = 2.7596, Train Acc = 0.1976, Val Loss = 2.8516, Val Acc = 0.1789\n",
      "Epoch 19/30, Repeat 1, Fold 2\n"
     ]
    },
    {
     "name": "stderr",
     "output_type": "stream",
     "text": [
      "                                                                                      \r"
     ]
    },
    {
     "name": "stdout",
     "output_type": "stream",
     "text": [
      "Repeat 1, Fold 2, Epoch 19: Train Loss = 2.7600, Train Acc = 0.1969, Val Loss = 2.8327, Val Acc = 0.1841\n",
      "Epoch 20/30, Repeat 1, Fold 2\n"
     ]
    },
    {
     "name": "stderr",
     "output_type": "stream",
     "text": [
      "                                                                                      \r"
     ]
    },
    {
     "name": "stdout",
     "output_type": "stream",
     "text": [
      "Repeat 1, Fold 2, Epoch 20: Train Loss = 2.7519, Train Acc = 0.1987, Val Loss = 2.8343, Val Acc = 0.1829\n",
      "Epoch 21/30, Repeat 1, Fold 2\n"
     ]
    },
    {
     "name": "stderr",
     "output_type": "stream",
     "text": [
      "                                                                                      \r"
     ]
    },
    {
     "name": "stdout",
     "output_type": "stream",
     "text": [
      "Repeat 1, Fold 2, Epoch 21: Train Loss = 2.7530, Train Acc = 0.1992, Val Loss = 2.8685, Val Acc = 0.1700\n",
      "Epoch 22/30, Repeat 1, Fold 2\n"
     ]
    },
    {
     "name": "stderr",
     "output_type": "stream",
     "text": [
      "                                                                                      \r"
     ]
    },
    {
     "name": "stdout",
     "output_type": "stream",
     "text": [
      "Repeat 1, Fold 2, Epoch 22: Train Loss = 2.7515, Train Acc = 0.2004, Val Loss = 2.8337, Val Acc = 0.1811\n",
      "Epoch 23/30, Repeat 1, Fold 2\n"
     ]
    },
    {
     "name": "stderr",
     "output_type": "stream",
     "text": [
      "                                                                                      \r"
     ]
    },
    {
     "name": "stdout",
     "output_type": "stream",
     "text": [
      "Repeat 1, Fold 2, Epoch 23: Train Loss = 2.7516, Train Acc = 0.2001, Val Loss = 2.8432, Val Acc = 0.1706\n",
      "Epoch 24/30, Repeat 1, Fold 2\n"
     ]
    },
    {
     "name": "stderr",
     "output_type": "stream",
     "text": [
      "                                                                                      \r"
     ]
    },
    {
     "name": "stdout",
     "output_type": "stream",
     "text": [
      "Repeat 1, Fold 2, Epoch 24: Train Loss = 2.7446, Train Acc = 0.2016, Val Loss = 2.8381, Val Acc = 0.1780\n",
      "Epoch 25/30, Repeat 1, Fold 2\n"
     ]
    },
    {
     "name": "stderr",
     "output_type": "stream",
     "text": [
      "                                                                                      \r"
     ]
    },
    {
     "name": "stdout",
     "output_type": "stream",
     "text": [
      "Repeat 1, Fold 2, Epoch 25: Train Loss = 2.7425, Train Acc = 0.2008, Val Loss = 2.8508, Val Acc = 0.1770\n",
      "Epoch 26/30, Repeat 1, Fold 2\n"
     ]
    },
    {
     "name": "stderr",
     "output_type": "stream",
     "text": [
      "                                                                                      \r"
     ]
    },
    {
     "name": "stdout",
     "output_type": "stream",
     "text": [
      "Repeat 1, Fold 2, Epoch 26: Train Loss = 2.7362, Train Acc = 0.2011, Val Loss = 2.8504, Val Acc = 0.1732\n",
      "Epoch 27/30, Repeat 1, Fold 2\n"
     ]
    },
    {
     "name": "stderr",
     "output_type": "stream",
     "text": [
      "                                                                                      \r"
     ]
    },
    {
     "name": "stdout",
     "output_type": "stream",
     "text": [
      "Repeat 1, Fold 2, Epoch 27: Train Loss = 2.7344, Train Acc = 0.2035, Val Loss = 2.8407, Val Acc = 0.1754\n",
      "Epoch 28/30, Repeat 1, Fold 2\n"
     ]
    },
    {
     "name": "stderr",
     "output_type": "stream",
     "text": [
      "                                                                                      \r"
     ]
    },
    {
     "name": "stdout",
     "output_type": "stream",
     "text": [
      "Repeat 1, Fold 2, Epoch 28: Train Loss = 2.7292, Train Acc = 0.2049, Val Loss = 2.8338, Val Acc = 0.1795\n",
      "Epoch 29/30, Repeat 1, Fold 2\n"
     ]
    },
    {
     "name": "stderr",
     "output_type": "stream",
     "text": [
      "                                                                                      \r"
     ]
    },
    {
     "name": "stdout",
     "output_type": "stream",
     "text": [
      "Repeat 1, Fold 2, Epoch 29: Train Loss = 2.7327, Train Acc = 0.2038, Val Loss = 2.8463, Val Acc = 0.1821\n",
      "Epoch 30/30, Repeat 1, Fold 2\n"
     ]
    },
    {
     "name": "stderr",
     "output_type": "stream",
     "text": [
      "                                                                                      \r"
     ]
    },
    {
     "name": "stdout",
     "output_type": "stream",
     "text": [
      "Repeat 1, Fold 2, Epoch 30: Train Loss = 2.7270, Train Acc = 0.2036, Val Loss = 2.8487, Val Acc = 0.1755\n",
      "/home/jiyu4399/PycharmProjects/DATA3888_Image_Group_2/ResNet18/evaluation_repeat_1_fold_2.json\n",
      "Starting Repeat 1, Fold 3\n",
      "Epoch 1/30, Repeat 1, Fold 3\n"
     ]
    },
    {
     "name": "stderr",
     "output_type": "stream",
     "text": [
      "                                                                                      \r"
     ]
    },
    {
     "name": "stdout",
     "output_type": "stream",
     "text": [
      "Repeat 1, Fold 3, Epoch 1: Train Loss = 2.7477, Train Acc = 0.2021, Val Loss = 2.7384, Val Acc = 0.2057\n",
      "Epoch 2/30, Repeat 1, Fold 3\n"
     ]
    },
    {
     "name": "stderr",
     "output_type": "stream",
     "text": [
      "                                                                                      \r"
     ]
    },
    {
     "name": "stdout",
     "output_type": "stream",
     "text": [
      "Repeat 1, Fold 3, Epoch 2: Train Loss = 2.7414, Train Acc = 0.2034, Val Loss = 2.7550, Val Acc = 0.1993\n",
      "Epoch 3/30, Repeat 1, Fold 3\n"
     ]
    },
    {
     "name": "stderr",
     "output_type": "stream",
     "text": [
      "                                                                                      \r"
     ]
    },
    {
     "name": "stdout",
     "output_type": "stream",
     "text": [
      "Repeat 1, Fold 3, Epoch 3: Train Loss = 2.7433, Train Acc = 0.2017, Val Loss = 2.7612, Val Acc = 0.1937\n",
      "Epoch 4/30, Repeat 1, Fold 3\n"
     ]
    },
    {
     "name": "stderr",
     "output_type": "stream",
     "text": [
      "                                                                                      \r"
     ]
    },
    {
     "name": "stdout",
     "output_type": "stream",
     "text": [
      "Repeat 1, Fold 3, Epoch 4: Train Loss = 2.7382, Train Acc = 0.2002, Val Loss = 2.7707, Val Acc = 0.1940\n",
      "Epoch 5/30, Repeat 1, Fold 3\n"
     ]
    },
    {
     "name": "stderr",
     "output_type": "stream",
     "text": [
      "                                                                                      \r"
     ]
    },
    {
     "name": "stdout",
     "output_type": "stream",
     "text": [
      "Repeat 1, Fold 3, Epoch 5: Train Loss = 2.7355, Train Acc = 0.2019, Val Loss = 2.7590, Val Acc = 0.2003\n",
      "Epoch 6/30, Repeat 1, Fold 3\n"
     ]
    },
    {
     "name": "stderr",
     "output_type": "stream",
     "text": [
      "                                                                                      \r"
     ]
    },
    {
     "name": "stdout",
     "output_type": "stream",
     "text": [
      "Repeat 1, Fold 3, Epoch 6: Train Loss = 2.7301, Train Acc = 0.2064, Val Loss = 2.7941, Val Acc = 0.1926\n",
      "Epoch 7/30, Repeat 1, Fold 3\n"
     ]
    },
    {
     "name": "stderr",
     "output_type": "stream",
     "text": [
      "                                                                                      \r"
     ]
    },
    {
     "name": "stdout",
     "output_type": "stream",
     "text": [
      "Repeat 1, Fold 3, Epoch 7: Train Loss = 2.7255, Train Acc = 0.2063, Val Loss = 2.7805, Val Acc = 0.1958\n",
      "Epoch 8/30, Repeat 1, Fold 3\n"
     ]
    },
    {
     "name": "stderr",
     "output_type": "stream",
     "text": [
      "                                                                                      \r"
     ]
    },
    {
     "name": "stdout",
     "output_type": "stream",
     "text": [
      "Repeat 1, Fold 3, Epoch 8: Train Loss = 2.7189, Train Acc = 0.2060, Val Loss = 2.7671, Val Acc = 0.2000\n",
      "Epoch 9/30, Repeat 1, Fold 3\n"
     ]
    },
    {
     "name": "stderr",
     "output_type": "stream",
     "text": [
      "                                                                                      \r"
     ]
    },
    {
     "name": "stdout",
     "output_type": "stream",
     "text": [
      "Repeat 1, Fold 3, Epoch 9: Train Loss = 2.7181, Train Acc = 0.2078, Val Loss = 2.7886, Val Acc = 0.1936\n",
      "Epoch 10/30, Repeat 1, Fold 3\n"
     ]
    },
    {
     "name": "stderr",
     "output_type": "stream",
     "text": [
      "                                                                                      \r"
     ]
    },
    {
     "name": "stdout",
     "output_type": "stream",
     "text": [
      "Repeat 1, Fold 3, Epoch 10: Train Loss = 2.7133, Train Acc = 0.2076, Val Loss = 2.7880, Val Acc = 0.1971\n",
      "Epoch 11/30, Repeat 1, Fold 3\n"
     ]
    },
    {
     "name": "stderr",
     "output_type": "stream",
     "text": [
      "                                                                                      \r"
     ]
    },
    {
     "name": "stdout",
     "output_type": "stream",
     "text": [
      "Repeat 1, Fold 3, Epoch 11: Train Loss = 2.7108, Train Acc = 0.2092, Val Loss = 2.7826, Val Acc = 0.1955\n",
      "Epoch 12/30, Repeat 1, Fold 3\n"
     ]
    },
    {
     "name": "stderr",
     "output_type": "stream",
     "text": [
      "                                                                                      \r"
     ]
    },
    {
     "name": "stdout",
     "output_type": "stream",
     "text": [
      "Repeat 1, Fold 3, Epoch 12: Train Loss = 2.7090, Train Acc = 0.2095, Val Loss = 2.7893, Val Acc = 0.1922\n",
      "Epoch 13/30, Repeat 1, Fold 3\n"
     ]
    },
    {
     "name": "stderr",
     "output_type": "stream",
     "text": [
      "                                                                                      \r"
     ]
    },
    {
     "name": "stdout",
     "output_type": "stream",
     "text": [
      "Repeat 1, Fold 3, Epoch 13: Train Loss = 2.7048, Train Acc = 0.2097, Val Loss = 2.7977, Val Acc = 0.1893\n",
      "Epoch 14/30, Repeat 1, Fold 3\n"
     ]
    },
    {
     "name": "stderr",
     "output_type": "stream",
     "text": [
      "                                                                                      \r"
     ]
    },
    {
     "name": "stdout",
     "output_type": "stream",
     "text": [
      "Repeat 1, Fold 3, Epoch 14: Train Loss = 2.7049, Train Acc = 0.2082, Val Loss = 2.7847, Val Acc = 0.1969\n",
      "Epoch 15/30, Repeat 1, Fold 3\n"
     ]
    },
    {
     "name": "stderr",
     "output_type": "stream",
     "text": [
      "                                                                                      \r"
     ]
    },
    {
     "name": "stdout",
     "output_type": "stream",
     "text": [
      "Repeat 1, Fold 3, Epoch 15: Train Loss = 2.6962, Train Acc = 0.2112, Val Loss = 2.7674, Val Acc = 0.2033\n",
      "Epoch 16/30, Repeat 1, Fold 3\n"
     ]
    },
    {
     "name": "stderr",
     "output_type": "stream",
     "text": [
      "                                                                                      \r"
     ]
    },
    {
     "name": "stdout",
     "output_type": "stream",
     "text": [
      "Repeat 1, Fold 3, Epoch 16: Train Loss = 2.6920, Train Acc = 0.2111, Val Loss = 2.7849, Val Acc = 0.1973\n",
      "Epoch 17/30, Repeat 1, Fold 3\n"
     ]
    },
    {
     "name": "stderr",
     "output_type": "stream",
     "text": [
      "                                                                                      \r"
     ]
    },
    {
     "name": "stdout",
     "output_type": "stream",
     "text": [
      "Repeat 1, Fold 3, Epoch 17: Train Loss = 2.6893, Train Acc = 0.2143, Val Loss = 2.7976, Val Acc = 0.1908\n",
      "Epoch 18/30, Repeat 1, Fold 3\n"
     ]
    },
    {
     "name": "stderr",
     "output_type": "stream",
     "text": [
      "                                                                                      \r"
     ]
    },
    {
     "name": "stdout",
     "output_type": "stream",
     "text": [
      "Repeat 1, Fold 3, Epoch 18: Train Loss = 2.6858, Train Acc = 0.2124, Val Loss = 2.8109, Val Acc = 0.1977\n",
      "Epoch 19/30, Repeat 1, Fold 3\n"
     ]
    },
    {
     "name": "stderr",
     "output_type": "stream",
     "text": [
      "                                                                                      \r"
     ]
    },
    {
     "name": "stdout",
     "output_type": "stream",
     "text": [
      "Repeat 1, Fold 3, Epoch 19: Train Loss = 2.6801, Train Acc = 0.2160, Val Loss = 2.8405, Val Acc = 0.1855\n",
      "Epoch 20/30, Repeat 1, Fold 3\n"
     ]
    },
    {
     "name": "stderr",
     "output_type": "stream",
     "text": [
      "                                                                                      \r"
     ]
    },
    {
     "name": "stdout",
     "output_type": "stream",
     "text": [
      "Repeat 1, Fold 3, Epoch 20: Train Loss = 2.6795, Train Acc = 0.2152, Val Loss = 2.8085, Val Acc = 0.1929\n",
      "Epoch 21/30, Repeat 1, Fold 3\n"
     ]
    },
    {
     "name": "stderr",
     "output_type": "stream",
     "text": [
      "                                                                                      \r"
     ]
    },
    {
     "name": "stdout",
     "output_type": "stream",
     "text": [
      "Repeat 1, Fold 3, Epoch 21: Train Loss = 2.6760, Train Acc = 0.2177, Val Loss = 2.8188, Val Acc = 0.1870\n",
      "Epoch 22/30, Repeat 1, Fold 3\n"
     ]
    },
    {
     "name": "stderr",
     "output_type": "stream",
     "text": [
      "                                                                                      \r"
     ]
    },
    {
     "name": "stdout",
     "output_type": "stream",
     "text": [
      "Repeat 1, Fold 3, Epoch 22: Train Loss = 2.6683, Train Acc = 0.2176, Val Loss = 2.8230, Val Acc = 0.1893\n",
      "Epoch 23/30, Repeat 1, Fold 3\n"
     ]
    },
    {
     "name": "stderr",
     "output_type": "stream",
     "text": [
      "                                                                                      \r"
     ]
    },
    {
     "name": "stdout",
     "output_type": "stream",
     "text": [
      "Repeat 1, Fold 3, Epoch 23: Train Loss = 2.6696, Train Acc = 0.2169, Val Loss = 2.8417, Val Acc = 0.1822\n",
      "Epoch 24/30, Repeat 1, Fold 3\n"
     ]
    },
    {
     "name": "stderr",
     "output_type": "stream",
     "text": [
      "                                                                                      \r"
     ]
    },
    {
     "name": "stdout",
     "output_type": "stream",
     "text": [
      "Repeat 1, Fold 3, Epoch 24: Train Loss = 2.6616, Train Acc = 0.2187, Val Loss = 2.8348, Val Acc = 0.1803\n",
      "Epoch 25/30, Repeat 1, Fold 3\n"
     ]
    },
    {
     "name": "stderr",
     "output_type": "stream",
     "text": [
      "                                                                                      \r"
     ]
    },
    {
     "name": "stdout",
     "output_type": "stream",
     "text": [
      "Repeat 1, Fold 3, Epoch 25: Train Loss = 2.6592, Train Acc = 0.2185, Val Loss = 2.8275, Val Acc = 0.1885\n",
      "Epoch 26/30, Repeat 1, Fold 3\n"
     ]
    },
    {
     "name": "stderr",
     "output_type": "stream",
     "text": [
      "                                                                                      \r"
     ]
    },
    {
     "name": "stdout",
     "output_type": "stream",
     "text": [
      "Repeat 1, Fold 3, Epoch 26: Train Loss = 2.6541, Train Acc = 0.2216, Val Loss = 2.8171, Val Acc = 0.1927\n",
      "Epoch 27/30, Repeat 1, Fold 3\n"
     ]
    },
    {
     "name": "stderr",
     "output_type": "stream",
     "text": [
      "                                                                                      \r"
     ]
    },
    {
     "name": "stdout",
     "output_type": "stream",
     "text": [
      "Repeat 1, Fold 3, Epoch 27: Train Loss = 2.6489, Train Acc = 0.2219, Val Loss = 2.8134, Val Acc = 0.1932\n",
      "Epoch 28/30, Repeat 1, Fold 3\n"
     ]
    },
    {
     "name": "stderr",
     "output_type": "stream",
     "text": [
      "                                                                                      \r"
     ]
    },
    {
     "name": "stdout",
     "output_type": "stream",
     "text": [
      "Repeat 1, Fold 3, Epoch 28: Train Loss = 2.6403, Train Acc = 0.2261, Val Loss = 2.8200, Val Acc = 0.1865\n",
      "Epoch 29/30, Repeat 1, Fold 3\n"
     ]
    },
    {
     "name": "stderr",
     "output_type": "stream",
     "text": [
      "                                                                                      \r"
     ]
    },
    {
     "name": "stdout",
     "output_type": "stream",
     "text": [
      "Repeat 1, Fold 3, Epoch 29: Train Loss = 2.6399, Train Acc = 0.2253, Val Loss = 2.8550, Val Acc = 0.1834\n",
      "Epoch 30/30, Repeat 1, Fold 3\n"
     ]
    },
    {
     "name": "stderr",
     "output_type": "stream",
     "text": [
      "                                                                                      \r"
     ]
    },
    {
     "name": "stdout",
     "output_type": "stream",
     "text": [
      "Repeat 1, Fold 3, Epoch 30: Train Loss = 2.6324, Train Acc = 0.2243, Val Loss = 2.8327, Val Acc = 0.1862\n",
      "/home/jiyu4399/PycharmProjects/DATA3888_Image_Group_2/ResNet18/evaluation_repeat_1_fold_3.json\n",
      "Starting Repeat 1, Fold 4\n",
      "Epoch 1/30, Repeat 1, Fold 4\n"
     ]
    },
    {
     "name": "stderr",
     "output_type": "stream",
     "text": [
      "                                                                                      \r"
     ]
    },
    {
     "name": "stdout",
     "output_type": "stream",
     "text": [
      "Repeat 1, Fold 4, Epoch 1: Train Loss = 2.6762, Train Acc = 0.2174, Val Loss = 2.6991, Val Acc = 0.2118\n",
      "Epoch 2/30, Repeat 1, Fold 4\n"
     ]
    },
    {
     "name": "stderr",
     "output_type": "stream",
     "text": [
      "                                                                                      \r"
     ]
    },
    {
     "name": "stdout",
     "output_type": "stream",
     "text": [
      "Repeat 1, Fold 4, Epoch 2: Train Loss = 2.6698, Train Acc = 0.2185, Val Loss = 2.6963, Val Acc = 0.2079\n",
      "Epoch 3/30, Repeat 1, Fold 4\n"
     ]
    },
    {
     "name": "stderr",
     "output_type": "stream",
     "text": [
      "                                                                                      \r"
     ]
    },
    {
     "name": "stdout",
     "output_type": "stream",
     "text": [
      "Repeat 1, Fold 4, Epoch 3: Train Loss = 2.6626, Train Acc = 0.2188, Val Loss = 2.6908, Val Acc = 0.2115\n",
      "Epoch 4/30, Repeat 1, Fold 4\n"
     ]
    },
    {
     "name": "stderr",
     "output_type": "stream",
     "text": [
      "                                                                                      \r"
     ]
    },
    {
     "name": "stdout",
     "output_type": "stream",
     "text": [
      "Repeat 1, Fold 4, Epoch 4: Train Loss = 2.6525, Train Acc = 0.2239, Val Loss = 2.6990, Val Acc = 0.2129\n",
      "Epoch 5/30, Repeat 1, Fold 4\n"
     ]
    },
    {
     "name": "stderr",
     "output_type": "stream",
     "text": [
      "                                                                                      \r"
     ]
    },
    {
     "name": "stdout",
     "output_type": "stream",
     "text": [
      "Repeat 1, Fold 4, Epoch 5: Train Loss = 2.6534, Train Acc = 0.2194, Val Loss = 2.7426, Val Acc = 0.2016\n",
      "Epoch 6/30, Repeat 1, Fold 4\n"
     ]
    },
    {
     "name": "stderr",
     "output_type": "stream",
     "text": [
      "                                                                                      \r"
     ]
    },
    {
     "name": "stdout",
     "output_type": "stream",
     "text": [
      "Repeat 1, Fold 4, Epoch 6: Train Loss = 2.6512, Train Acc = 0.2186, Val Loss = 2.7265, Val Acc = 0.2007\n",
      "Epoch 7/30, Repeat 1, Fold 4\n"
     ]
    },
    {
     "name": "stderr",
     "output_type": "stream",
     "text": [
      "                                                                                      \r"
     ]
    },
    {
     "name": "stdout",
     "output_type": "stream",
     "text": [
      "Repeat 1, Fold 4, Epoch 7: Train Loss = 2.6396, Train Acc = 0.2239, Val Loss = 2.7530, Val Acc = 0.2067\n",
      "Epoch 8/30, Repeat 1, Fold 4\n"
     ]
    },
    {
     "name": "stderr",
     "output_type": "stream",
     "text": [
      "                                                                                      \r"
     ]
    },
    {
     "name": "stdout",
     "output_type": "stream",
     "text": [
      "Repeat 1, Fold 4, Epoch 8: Train Loss = 2.6323, Train Acc = 0.2263, Val Loss = 2.7354, Val Acc = 0.2064\n",
      "Epoch 9/30, Repeat 1, Fold 4\n"
     ]
    },
    {
     "name": "stderr",
     "output_type": "stream",
     "text": [
      "                                                                                      \r"
     ]
    },
    {
     "name": "stdout",
     "output_type": "stream",
     "text": [
      "Repeat 1, Fold 4, Epoch 9: Train Loss = 2.6269, Train Acc = 0.2267, Val Loss = 2.7598, Val Acc = 0.1988\n",
      "Epoch 10/30, Repeat 1, Fold 4\n"
     ]
    },
    {
     "name": "stderr",
     "output_type": "stream",
     "text": [
      "                                                                                      \r"
     ]
    },
    {
     "name": "stdout",
     "output_type": "stream",
     "text": [
      "Repeat 1, Fold 4, Epoch 10: Train Loss = 2.6207, Train Acc = 0.2271, Val Loss = 2.7418, Val Acc = 0.2064\n",
      "Epoch 11/30, Repeat 1, Fold 4\n"
     ]
    },
    {
     "name": "stderr",
     "output_type": "stream",
     "text": [
      "                                                                                      \r"
     ]
    },
    {
     "name": "stdout",
     "output_type": "stream",
     "text": [
      "Repeat 1, Fold 4, Epoch 11: Train Loss = 2.6149, Train Acc = 0.2297, Val Loss = 2.7797, Val Acc = 0.1986\n",
      "Epoch 12/30, Repeat 1, Fold 4\n"
     ]
    },
    {
     "name": "stderr",
     "output_type": "stream",
     "text": [
      "                                                                                      \r"
     ]
    },
    {
     "name": "stdout",
     "output_type": "stream",
     "text": [
      "Repeat 1, Fold 4, Epoch 12: Train Loss = 2.6130, Train Acc = 0.2307, Val Loss = 2.7683, Val Acc = 0.2053\n",
      "Epoch 13/30, Repeat 1, Fold 4\n"
     ]
    },
    {
     "name": "stderr",
     "output_type": "stream",
     "text": [
      "                                                                                      \r"
     ]
    },
    {
     "name": "stdout",
     "output_type": "stream",
     "text": [
      "Repeat 1, Fold 4, Epoch 13: Train Loss = 2.6050, Train Acc = 0.2307, Val Loss = 2.7738, Val Acc = 0.1996\n",
      "Epoch 14/30, Repeat 1, Fold 4\n"
     ]
    },
    {
     "name": "stderr",
     "output_type": "stream",
     "text": [
      "                                                                                      \r"
     ]
    },
    {
     "name": "stdout",
     "output_type": "stream",
     "text": [
      "Repeat 1, Fold 4, Epoch 14: Train Loss = 2.5971, Train Acc = 0.2357, Val Loss = 2.7747, Val Acc = 0.1999\n",
      "Epoch 15/30, Repeat 1, Fold 4\n"
     ]
    },
    {
     "name": "stderr",
     "output_type": "stream",
     "text": [
      "                                                                                      \r"
     ]
    },
    {
     "name": "stdout",
     "output_type": "stream",
     "text": [
      "Repeat 1, Fold 4, Epoch 15: Train Loss = 2.5913, Train Acc = 0.2367, Val Loss = 2.7826, Val Acc = 0.1963\n",
      "Epoch 16/30, Repeat 1, Fold 4\n"
     ]
    },
    {
     "name": "stderr",
     "output_type": "stream",
     "text": [
      "                                                                                      \r"
     ]
    },
    {
     "name": "stdout",
     "output_type": "stream",
     "text": [
      "Repeat 1, Fold 4, Epoch 16: Train Loss = 2.5830, Train Acc = 0.2354, Val Loss = 2.8312, Val Acc = 0.1889\n",
      "Epoch 17/30, Repeat 1, Fold 4\n"
     ]
    },
    {
     "name": "stderr",
     "output_type": "stream",
     "text": [
      "                                                                                      \r"
     ]
    },
    {
     "name": "stdout",
     "output_type": "stream",
     "text": [
      "Repeat 1, Fold 4, Epoch 17: Train Loss = 2.5753, Train Acc = 0.2377, Val Loss = 2.8229, Val Acc = 0.1876\n",
      "Epoch 18/30, Repeat 1, Fold 4\n"
     ]
    },
    {
     "name": "stderr",
     "output_type": "stream",
     "text": [
      "                                                                                      \r"
     ]
    },
    {
     "name": "stdout",
     "output_type": "stream",
     "text": [
      "Repeat 1, Fold 4, Epoch 18: Train Loss = 2.5702, Train Acc = 0.2413, Val Loss = 2.8027, Val Acc = 0.1921\n",
      "Epoch 19/30, Repeat 1, Fold 4\n"
     ]
    },
    {
     "name": "stderr",
     "output_type": "stream",
     "text": [
      "                                                                                      \r"
     ]
    },
    {
     "name": "stdout",
     "output_type": "stream",
     "text": [
      "Repeat 1, Fold 4, Epoch 19: Train Loss = 2.5675, Train Acc = 0.2397, Val Loss = 2.8386, Val Acc = 0.1932\n",
      "Epoch 20/30, Repeat 1, Fold 4\n"
     ]
    },
    {
     "name": "stderr",
     "output_type": "stream",
     "text": [
      "                                                                                      \r"
     ]
    },
    {
     "name": "stdout",
     "output_type": "stream",
     "text": [
      "Repeat 1, Fold 4, Epoch 20: Train Loss = 2.5495, Train Acc = 0.2442, Val Loss = 2.8538, Val Acc = 0.1888\n",
      "Epoch 21/30, Repeat 1, Fold 4\n"
     ]
    },
    {
     "name": "stderr",
     "output_type": "stream",
     "text": [
      "                                                                                      \r"
     ]
    },
    {
     "name": "stdout",
     "output_type": "stream",
     "text": [
      "Repeat 1, Fold 4, Epoch 21: Train Loss = 2.5503, Train Acc = 0.2423, Val Loss = 2.8226, Val Acc = 0.1959\n",
      "Epoch 22/30, Repeat 1, Fold 4\n"
     ]
    },
    {
     "name": "stderr",
     "output_type": "stream",
     "text": [
      "                                                                                      \r"
     ]
    },
    {
     "name": "stdout",
     "output_type": "stream",
     "text": [
      "Repeat 1, Fold 4, Epoch 22: Train Loss = 2.5372, Train Acc = 0.2468, Val Loss = 2.8358, Val Acc = 0.1903\n",
      "Epoch 23/30, Repeat 1, Fold 4\n"
     ]
    },
    {
     "name": "stderr",
     "output_type": "stream",
     "text": [
      "                                                                                      \r"
     ]
    },
    {
     "name": "stdout",
     "output_type": "stream",
     "text": [
      "Repeat 1, Fold 4, Epoch 23: Train Loss = 2.5282, Train Acc = 0.2503, Val Loss = 2.8679, Val Acc = 0.1880\n",
      "Epoch 24/30, Repeat 1, Fold 4\n"
     ]
    },
    {
     "name": "stderr",
     "output_type": "stream",
     "text": [
      "                                                                                      \r"
     ]
    },
    {
     "name": "stdout",
     "output_type": "stream",
     "text": [
      "Repeat 1, Fold 4, Epoch 24: Train Loss = 2.5287, Train Acc = 0.2498, Val Loss = 2.8654, Val Acc = 0.1880\n",
      "Epoch 25/30, Repeat 1, Fold 4\n"
     ]
    },
    {
     "name": "stderr",
     "output_type": "stream",
     "text": [
      "                                                                                      \r"
     ]
    },
    {
     "name": "stdout",
     "output_type": "stream",
     "text": [
      "Repeat 1, Fold 4, Epoch 25: Train Loss = 2.5183, Train Acc = 0.2533, Val Loss = 2.8711, Val Acc = 0.1832\n",
      "Epoch 26/30, Repeat 1, Fold 4\n"
     ]
    },
    {
     "name": "stderr",
     "output_type": "stream",
     "text": [
      "                                                                                      \r"
     ]
    },
    {
     "name": "stdout",
     "output_type": "stream",
     "text": [
      "Repeat 1, Fold 4, Epoch 26: Train Loss = 2.5111, Train Acc = 0.2524, Val Loss = 2.8411, Val Acc = 0.2003\n",
      "Epoch 27/30, Repeat 1, Fold 4\n"
     ]
    },
    {
     "name": "stderr",
     "output_type": "stream",
     "text": [
      "                                                                                      \r"
     ]
    },
    {
     "name": "stdout",
     "output_type": "stream",
     "text": [
      "Repeat 1, Fold 4, Epoch 27: Train Loss = 2.5058, Train Acc = 0.2539, Val Loss = 2.8948, Val Acc = 0.1763\n",
      "Epoch 28/30, Repeat 1, Fold 4\n"
     ]
    },
    {
     "name": "stderr",
     "output_type": "stream",
     "text": [
      "                                                                                      \r"
     ]
    },
    {
     "name": "stdout",
     "output_type": "stream",
     "text": [
      "Repeat 1, Fold 4, Epoch 28: Train Loss = 2.4942, Train Acc = 0.2546, Val Loss = 2.8682, Val Acc = 0.1907\n",
      "Epoch 29/30, Repeat 1, Fold 4\n"
     ]
    },
    {
     "name": "stderr",
     "output_type": "stream",
     "text": [
      "                                                                                      \r"
     ]
    },
    {
     "name": "stdout",
     "output_type": "stream",
     "text": [
      "Repeat 1, Fold 4, Epoch 29: Train Loss = 2.4954, Train Acc = 0.2582, Val Loss = 2.8935, Val Acc = 0.1804\n",
      "Epoch 30/30, Repeat 1, Fold 4\n"
     ]
    },
    {
     "name": "stderr",
     "output_type": "stream",
     "text": [
      "                                                                                      \r"
     ]
    },
    {
     "name": "stdout",
     "output_type": "stream",
     "text": [
      "Repeat 1, Fold 4, Epoch 30: Train Loss = 2.4750, Train Acc = 0.2614, Val Loss = 2.9239, Val Acc = 0.1828\n",
      "/home/jiyu4399/PycharmProjects/DATA3888_Image_Group_2/ResNet18/evaluation_repeat_1_fold_4.json\n",
      "Starting Repeat 1, Fold 5\n",
      "Epoch 1/30, Repeat 1, Fold 5\n"
     ]
    },
    {
     "name": "stderr",
     "output_type": "stream",
     "text": [
      "                                                                                      \r"
     ]
    },
    {
     "name": "stdout",
     "output_type": "stream",
     "text": [
      "Repeat 1, Fold 5, Epoch 1: Train Loss = 2.5605, Train Acc = 0.2441, Val Loss = 2.5988, Val Acc = 0.2319\n",
      "Epoch 2/30, Repeat 1, Fold 5\n"
     ]
    },
    {
     "name": "stderr",
     "output_type": "stream",
     "text": [
      "                                                                                      \r"
     ]
    },
    {
     "name": "stdout",
     "output_type": "stream",
     "text": [
      "Repeat 1, Fold 5, Epoch 2: Train Loss = 2.5404, Train Acc = 0.2476, Val Loss = 2.6385, Val Acc = 0.2237\n",
      "Epoch 3/30, Repeat 1, Fold 5\n"
     ]
    },
    {
     "name": "stderr",
     "output_type": "stream",
     "text": [
      "                                                                                      \r"
     ]
    },
    {
     "name": "stdout",
     "output_type": "stream",
     "text": [
      "Repeat 1, Fold 5, Epoch 3: Train Loss = 2.5344, Train Acc = 0.2483, Val Loss = 2.6366, Val Acc = 0.2279\n",
      "Epoch 4/30, Repeat 1, Fold 5\n"
     ]
    },
    {
     "name": "stderr",
     "output_type": "stream",
     "text": [
      "                                                                                      \r"
     ]
    },
    {
     "name": "stdout",
     "output_type": "stream",
     "text": [
      "Repeat 1, Fold 5, Epoch 4: Train Loss = 2.5205, Train Acc = 0.2512, Val Loss = 2.6647, Val Acc = 0.2098\n",
      "Epoch 5/30, Repeat 1, Fold 5\n"
     ]
    },
    {
     "name": "stderr",
     "output_type": "stream",
     "text": [
      "                                                                                      \r"
     ]
    },
    {
     "name": "stdout",
     "output_type": "stream",
     "text": [
      "Repeat 1, Fold 5, Epoch 5: Train Loss = 2.5087, Train Acc = 0.2559, Val Loss = 2.7294, Val Acc = 0.2059\n",
      "Epoch 6/30, Repeat 1, Fold 5\n"
     ]
    },
    {
     "name": "stderr",
     "output_type": "stream",
     "text": [
      "                                                                                      \r"
     ]
    },
    {
     "name": "stdout",
     "output_type": "stream",
     "text": [
      "Repeat 1, Fold 5, Epoch 6: Train Loss = 2.5052, Train Acc = 0.2549, Val Loss = 2.7400, Val Acc = 0.2094\n",
      "Epoch 7/30, Repeat 1, Fold 5\n"
     ]
    },
    {
     "name": "stderr",
     "output_type": "stream",
     "text": [
      "                                                                                      \r"
     ]
    },
    {
     "name": "stdout",
     "output_type": "stream",
     "text": [
      "Repeat 1, Fold 5, Epoch 7: Train Loss = 2.4942, Train Acc = 0.2594, Val Loss = 2.7133, Val Acc = 0.2100\n",
      "Epoch 8/30, Repeat 1, Fold 5\n"
     ]
    },
    {
     "name": "stderr",
     "output_type": "stream",
     "text": [
      "                                                                                      \r"
     ]
    },
    {
     "name": "stdout",
     "output_type": "stream",
     "text": [
      "Repeat 1, Fold 5, Epoch 8: Train Loss = 2.4849, Train Acc = 0.2607, Val Loss = 2.7011, Val Acc = 0.2129\n",
      "Epoch 9/30, Repeat 1, Fold 5\n"
     ]
    },
    {
     "name": "stderr",
     "output_type": "stream",
     "text": [
      "                                                                                      \r"
     ]
    },
    {
     "name": "stdout",
     "output_type": "stream",
     "text": [
      "Repeat 1, Fold 5, Epoch 9: Train Loss = 2.4717, Train Acc = 0.2635, Val Loss = 2.8124, Val Acc = 0.1907\n",
      "Epoch 10/30, Repeat 1, Fold 5\n"
     ]
    },
    {
     "name": "stderr",
     "output_type": "stream",
     "text": [
      "                                                                                      \r"
     ]
    },
    {
     "name": "stdout",
     "output_type": "stream",
     "text": [
      "Repeat 1, Fold 5, Epoch 10: Train Loss = 2.4599, Train Acc = 0.2648, Val Loss = 2.8069, Val Acc = 0.1985\n",
      "Epoch 11/30, Repeat 1, Fold 5\n"
     ]
    },
    {
     "name": "stderr",
     "output_type": "stream",
     "text": [
      "                                                                                      \r"
     ]
    },
    {
     "name": "stdout",
     "output_type": "stream",
     "text": [
      "Repeat 1, Fold 5, Epoch 11: Train Loss = 2.4556, Train Acc = 0.2664, Val Loss = 2.7886, Val Acc = 0.2073\n",
      "Epoch 12/30, Repeat 1, Fold 5\n"
     ]
    },
    {
     "name": "stderr",
     "output_type": "stream",
     "text": [
      "                                                                                      \r"
     ]
    },
    {
     "name": "stdout",
     "output_type": "stream",
     "text": [
      "Repeat 1, Fold 5, Epoch 12: Train Loss = 2.4445, Train Acc = 0.2668, Val Loss = 2.7509, Val Acc = 0.1981\n",
      "Epoch 13/30, Repeat 1, Fold 5\n"
     ]
    },
    {
     "name": "stderr",
     "output_type": "stream",
     "text": [
      "                                                                                      \r"
     ]
    },
    {
     "name": "stdout",
     "output_type": "stream",
     "text": [
      "Repeat 1, Fold 5, Epoch 13: Train Loss = 2.4347, Train Acc = 0.2732, Val Loss = 2.8068, Val Acc = 0.1941\n",
      "Epoch 14/30, Repeat 1, Fold 5\n"
     ]
    },
    {
     "name": "stderr",
     "output_type": "stream",
     "text": [
      "                                                                                      \r"
     ]
    },
    {
     "name": "stdout",
     "output_type": "stream",
     "text": [
      "Repeat 1, Fold 5, Epoch 14: Train Loss = 2.4177, Train Acc = 0.2749, Val Loss = 2.8124, Val Acc = 0.1959\n",
      "Epoch 15/30, Repeat 1, Fold 5\n"
     ]
    },
    {
     "name": "stderr",
     "output_type": "stream",
     "text": [
      "                                                                                      \r"
     ]
    },
    {
     "name": "stdout",
     "output_type": "stream",
     "text": [
      "Repeat 1, Fold 5, Epoch 15: Train Loss = 2.4151, Train Acc = 0.2766, Val Loss = 2.7829, Val Acc = 0.2018\n",
      "Epoch 16/30, Repeat 1, Fold 5\n"
     ]
    },
    {
     "name": "stderr",
     "output_type": "stream",
     "text": [
      "                                                                                      \r"
     ]
    },
    {
     "name": "stdout",
     "output_type": "stream",
     "text": [
      "Repeat 1, Fold 5, Epoch 16: Train Loss = 2.4021, Train Acc = 0.2802, Val Loss = 2.7975, Val Acc = 0.1944\n",
      "Epoch 17/30, Repeat 1, Fold 5\n"
     ]
    },
    {
     "name": "stderr",
     "output_type": "stream",
     "text": [
      "                                                                                      \r"
     ]
    },
    {
     "name": "stdout",
     "output_type": "stream",
     "text": [
      "Repeat 1, Fold 5, Epoch 17: Train Loss = 2.3961, Train Acc = 0.2772, Val Loss = 2.8341, Val Acc = 0.1869\n",
      "Epoch 18/30, Repeat 1, Fold 5\n"
     ]
    },
    {
     "name": "stderr",
     "output_type": "stream",
     "text": [
      "                                                                                      \r"
     ]
    },
    {
     "name": "stdout",
     "output_type": "stream",
     "text": [
      "Repeat 1, Fold 5, Epoch 18: Train Loss = 2.3816, Train Acc = 0.2824, Val Loss = 2.8180, Val Acc = 0.1926\n",
      "Epoch 19/30, Repeat 1, Fold 5\n"
     ]
    },
    {
     "name": "stderr",
     "output_type": "stream",
     "text": [
      "                                                                                      \r"
     ]
    },
    {
     "name": "stdout",
     "output_type": "stream",
     "text": [
      "Repeat 1, Fold 5, Epoch 19: Train Loss = 2.3612, Train Acc = 0.2885, Val Loss = 2.8269, Val Acc = 0.1933\n",
      "Epoch 20/30, Repeat 1, Fold 5\n"
     ]
    },
    {
     "name": "stderr",
     "output_type": "stream",
     "text": [
      "                                                                                      \r"
     ]
    },
    {
     "name": "stdout",
     "output_type": "stream",
     "text": [
      "Repeat 1, Fold 5, Epoch 20: Train Loss = 2.3616, Train Acc = 0.2867, Val Loss = 2.8618, Val Acc = 0.1891\n",
      "Epoch 21/30, Repeat 1, Fold 5\n"
     ]
    },
    {
     "name": "stderr",
     "output_type": "stream",
     "text": [
      "                                                                                      \r"
     ]
    },
    {
     "name": "stdout",
     "output_type": "stream",
     "text": [
      "Repeat 1, Fold 5, Epoch 21: Train Loss = 2.3451, Train Acc = 0.2931, Val Loss = 2.8546, Val Acc = 0.1896\n",
      "Epoch 22/30, Repeat 1, Fold 5\n"
     ]
    },
    {
     "name": "stderr",
     "output_type": "stream",
     "text": [
      "                                                                                      \r"
     ]
    },
    {
     "name": "stdout",
     "output_type": "stream",
     "text": [
      "Repeat 1, Fold 5, Epoch 22: Train Loss = 2.3354, Train Acc = 0.2939, Val Loss = 2.8985, Val Acc = 0.1825\n",
      "Epoch 23/30, Repeat 1, Fold 5\n"
     ]
    },
    {
     "name": "stderr",
     "output_type": "stream",
     "text": [
      "                                                                                      \r"
     ]
    },
    {
     "name": "stdout",
     "output_type": "stream",
     "text": [
      "Repeat 1, Fold 5, Epoch 23: Train Loss = 2.3240, Train Acc = 0.3003, Val Loss = 2.9208, Val Acc = 0.1763\n",
      "Epoch 24/30, Repeat 1, Fold 5\n"
     ]
    },
    {
     "name": "stderr",
     "output_type": "stream",
     "text": [
      "                                                                                      \r"
     ]
    },
    {
     "name": "stdout",
     "output_type": "stream",
     "text": [
      "Repeat 1, Fold 5, Epoch 24: Train Loss = 2.3195, Train Acc = 0.2993, Val Loss = 2.9629, Val Acc = 0.1781\n",
      "Epoch 25/30, Repeat 1, Fold 5\n"
     ]
    },
    {
     "name": "stderr",
     "output_type": "stream",
     "text": [
      "                                                                                      \r"
     ]
    },
    {
     "name": "stdout",
     "output_type": "stream",
     "text": [
      "Repeat 1, Fold 5, Epoch 25: Train Loss = 2.2960, Train Acc = 0.3055, Val Loss = 2.9057, Val Acc = 0.1945\n",
      "Epoch 26/30, Repeat 1, Fold 5\n"
     ]
    },
    {
     "name": "stderr",
     "output_type": "stream",
     "text": [
      "                                                                                      \r"
     ]
    },
    {
     "name": "stdout",
     "output_type": "stream",
     "text": [
      "Repeat 1, Fold 5, Epoch 26: Train Loss = 2.2912, Train Acc = 0.3091, Val Loss = 2.9582, Val Acc = 0.1815\n",
      "Epoch 27/30, Repeat 1, Fold 5\n"
     ]
    },
    {
     "name": "stderr",
     "output_type": "stream",
     "text": [
      "                                                                                      \r"
     ]
    },
    {
     "name": "stdout",
     "output_type": "stream",
     "text": [
      "Repeat 1, Fold 5, Epoch 27: Train Loss = 2.2791, Train Acc = 0.3066, Val Loss = 2.8942, Val Acc = 0.1865\n",
      "Epoch 28/30, Repeat 1, Fold 5\n"
     ]
    },
    {
     "name": "stderr",
     "output_type": "stream",
     "text": [
      "                                                                                      \r"
     ]
    },
    {
     "name": "stdout",
     "output_type": "stream",
     "text": [
      "Repeat 1, Fold 5, Epoch 28: Train Loss = 2.2665, Train Acc = 0.3127, Val Loss = 2.9449, Val Acc = 0.1796\n",
      "Epoch 29/30, Repeat 1, Fold 5\n"
     ]
    },
    {
     "name": "stderr",
     "output_type": "stream",
     "text": [
      "                                                                                      \r"
     ]
    },
    {
     "name": "stdout",
     "output_type": "stream",
     "text": [
      "Repeat 1, Fold 5, Epoch 29: Train Loss = 2.2593, Train Acc = 0.3145, Val Loss = 2.9873, Val Acc = 0.1777\n",
      "Epoch 30/30, Repeat 1, Fold 5\n"
     ]
    },
    {
     "name": "stderr",
     "output_type": "stream",
     "text": [
      "                                                                                      \r"
     ]
    },
    {
     "name": "stdout",
     "output_type": "stream",
     "text": [
      "Repeat 1, Fold 5, Epoch 30: Train Loss = 2.2490, Train Acc = 0.3179, Val Loss = 2.9926, Val Acc = 0.1818\n",
      "/home/jiyu4399/PycharmProjects/DATA3888_Image_Group_2/ResNet18/evaluation_repeat_1_fold_5.json\n"
     ]
    }
   ],
   "source": [
    "model = ModifiedResNet18()\n",
    "num_epochs = 30\n",
    "num_splits = 5\n",
    "num_repeats = 1\n",
    "save_path = os.path.join(script_dir, \"ResNet18\")\n",
    "\n",
    "if not os.path.exists(save_path):\n",
    "    os.makedirs(save_path)\n",
    "results = train_and_evaluate_model(model, custom_dataset, save_path=save_path, num_epochs=num_epochs, num_splits=num_splits, num_repeats=num_repeats)\n"
   ]
  },
  {
   "cell_type": "code",
   "outputs": [
    {
     "name": "stdout",
     "output_type": "stream",
     "text": [
      "Loading data from /home/jiyu4399/PycharmProjects/DATA3888_Image_Group_2/ResNet18/evaluation_repeat_1_fold_1.json\n",
      "Loading data from /home/jiyu4399/PycharmProjects/DATA3888_Image_Group_2/ResNet18/evaluation_repeat_1_fold_2.json\n",
      "Loading data from /home/jiyu4399/PycharmProjects/DATA3888_Image_Group_2/ResNet18/evaluation_repeat_1_fold_3.json\n",
      "Loading data from /home/jiyu4399/PycharmProjects/DATA3888_Image_Group_2/ResNet18/evaluation_repeat_1_fold_4.json\n",
      "Loading data from /home/jiyu4399/PycharmProjects/DATA3888_Image_Group_2/ResNet18/evaluation_repeat_1_fold_5.json\n"
     ]
    },
    {
     "data": {
      "text/plain": "<Figure size 1000x600 with 0 Axes>"
     },
     "metadata": {},
     "output_type": "display_data"
    },
    {
     "data": {
      "text/plain": "<Figure size 1000x600 with 0 Axes>"
     },
     "metadata": {},
     "output_type": "display_data"
    },
    {
     "data": {
      "text/plain": "<Figure size 1000x600 with 0 Axes>"
     },
     "metadata": {},
     "output_type": "display_data"
    },
    {
     "data": {
      "text/plain": "<Figure size 1000x600 with 0 Axes>"
     },
     "metadata": {},
     "output_type": "display_data"
    },
    {
     "data": {
      "text/plain": "<Figure size 1000x600 with 1 Axes>",
      "image/png": "[encoded data removed]"
     },
     "metadata": {},
     "output_type": "display_data"
    },
    {
     "data": {
      "text/plain": "<Figure size 1200x1000 with 1 Axes>",
      "image/png": "[encoded data removed]"
     },
     "metadata": {},
     "output_type": "display_data"
    },
    {
     "data": {
      "text/plain": "<Figure size 1400x600 with 1 Axes>",
      "image/png": "[encoded data removed]"
     },
     "metadata": {},
     "output_type": "display_data"
    },
    {
     "data": {
      "text/plain": "<Figure size 1400x600 with 1 Axes>",
      "image/png": "[encoded data removed]"
     },
     "metadata": {},
     "output_type": "display_data"
    },
    {
     "data": {
      "text/plain": "<Figure size 1400x600 with 1 Axes>",
      "image/png": "[encoded data removed]"
     },
     "metadata": {},
     "output_type": "display_data"
    },
    {
     "data": {
      "text/plain": "<Figure size 1400x800 with 0 Axes>"
     },
     "metadata": {},
     "output_type": "display_data"
    }
   ],
   "source": [
    "import json\n",
    "import numpy as np\n",
    "import matplotlib.pyplot as plt\n",
    "import seaborn as sns\n",
    "import os\n",
    "\n",
    "def load_and_visualize_average_metrics(folder_path, num_folds=5,num_repeats=3):\n",
    "    # Initialize lists to store fold data\n",
    "    precision_lists = []\n",
    "    recall_lists = []\n",
    "    f1_score_lists = []\n",
    "    conf_matrix_list = []\n",
    "    all_epoch_accuracies = []\n",
    "\n",
    "    for fold in range(1, num_folds + 1):\n",
    "        for repeat in range(1,num_repeats+1):\n",
    "            json_filepath = os.path.join(folder_path, f\"evaluation_repeat_{repeat}_fold_{fold}.json\")\n",
    "            print(f\"Loading data from {json_filepath}\")\n",
    "    \n",
    "            with open(json_filepath, 'r') as file:\n",
    "                data = json.load(file)\n",
    "                fold_accuracies = []\n",
    "                epoch_accuracies = data['epoch_accuracies']\n",
    "                fold_accuracies.append(epoch_accuracies)\n",
    "    \n",
    "            all_epoch_accuracies.append(fold_accuracies)\n",
    "        plt.figure(figsize=(10, 6))  # Adjust figure size if needed\n",
    "    for fold, fold_accuracies in enumerate(all_epoch_accuracies, start=1):\n",
    "        for repeat, epoch_accuracies in enumerate(fold_accuracies, start=1):\n",
    "            plt.plot(range(1, len(epoch_accuracies) + 1), epoch_accuracies, marker='o', label=f'Fold {fold}, Repeat {repeat}')\n",
    "    \n",
    "    plt.title('Accuracy by Epoch for Each Fold')\n",
    "    plt.xlabel('Epoch')\n",
    "    plt.ylabel('Accuracy')\n",
    "    plt.legend()\n",
    "    plt.grid(True)\n",
    "    plt.show()   \n",
    "    # Append the data for later processing\n",
    "    conf_matrix_list.append(np.array(data['confusion_matrix']))\n",
    "    precision_lists.append(data['Precision by cluster'])\n",
    "    recall_lists.append(data['Recall by cluster'])\n",
    "    f1_score_lists.append(data['F1 score by cluster'])\n",
    "\n",
    "    # Calculate average of metrics across all folds\n",
    "    avg_conf_matrix = np.mean(conf_matrix_list, axis=0)\n",
    "    avg_precision = np.mean(precision_lists, axis=0)\n",
    "    avg_recall = np.mean(recall_lists, axis=0)\n",
    "    avg_f1_score = np.mean(f1_score_lists, axis=0)\n",
    "\n",
    "    # Visualization of averaged results\n",
    "    # Plotting the average confusion matrix\n",
    "    plt.figure(figsize=(12, 10))\n",
    "    sns.heatmap(avg_conf_matrix, annot=True, fmt=\".0f\", cmap='Blues', cbar=False)\n",
    "    plt.title('Average Confusion Matrix')\n",
    "    plt.xlabel('Predicted Labels')\n",
    "    plt.ylabel('True Labels')\n",
    "    plt.show()\n",
    "\n",
    "    # Plotting Average Precision by Cluster\n",
    "    plt.figure(figsize=(14, 6))\n",
    "    plt.bar(range(len(avg_precision)), avg_precision, color='blue')\n",
    "    plt.title('Average Precision by Cluster')\n",
    "    plt.xlabel('Cluster Index')\n",
    "    plt.ylabel('Precision')\n",
    "    plt.xticks(range(len(avg_precision)))  # Ensure all clusters are labeled\n",
    "    plt.show()\n",
    "\n",
    "    # Plotting Average Recall by Cluster\n",
    "    plt.figure(figsize=(14, 6))\n",
    "    plt.bar(range(len(avg_recall)), avg_recall, color='green')\n",
    "    plt.title('Average Recall by Cluster')\n",
    "    plt.xlabel('Cluster Index')\n",
    "    plt.ylabel('Recall')\n",
    "    plt.xticks(range(len(avg_recall)))  # Ensure all clusters are labeled\n",
    "    plt.show()\n",
    "\n",
    "    # Plotting Average F1 Score by Cluster\n",
    "    plt.figure(figsize=(14, 6))\n",
    "    plt.bar(range(len(avg_f1_score)), avg_f1_score, color='red')\n",
    "    plt.title('Average F1 Score by Cluster')\n",
    "    plt.xlabel('Cluster Index')\n",
    "    plt.ylabel('F1 Score')\n",
    "    plt.xticks(range(len(avg_f1_score)))  # Ensure all clusters are labeled\n",
    "    plt.show()\n",
    "    \n",
    "    plt.figure(figsize=(14, 8))\n",
    "\n",
    "            \n",
    "\n",
    "    \n",
    "# Example of calling the function with a path to the directory containing JSON files\n",
    "load_and_visualize_average_metrics(save_path, num_folds=num_splits,num_repeats=num_repeats)\n"
   ],
   "metadata": {
    "collapsed": false,
    "ExecuteTime": {
     "end_time": "2024-05-07T10:50:06.684360931Z",
     "start_time": "2024-05-07T10:50:04.327520131Z"
    }
   },
   "id": "5f0c6f0995a1089",
   "execution_count": 160
  },
  {
   "cell_type": "markdown",
   "id": "ec2639d541097f9e",
   "metadata": {},
   "source": [
    "\n"
   ]
  },
  {
   "cell_type": "markdown",
   "id": "36cd118946ac2cc9",
   "metadata": {},
   "source": []
  }
 ],
 "metadata": {
  "kernelspec": {
   "display_name": "Python 3 (ipykernel)",
   "language": "python",
   "name": "python3"
  },
  "language_info": {
   "codemirror_mode": {
    "name": "ipython",
    "version": 3
   },
   "file_extension": ".py",
   "mimetype": "text/x-python",
   "name": "python",
   "nbconvert_exporter": "python",
   "pygments_lexer": "ipython3",
   "version": "3.9.13"
  }
 },
 "nbformat": 4,
 "nbformat_minor": 5
}
