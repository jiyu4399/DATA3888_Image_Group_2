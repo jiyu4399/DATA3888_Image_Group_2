version https://git-lfs.github.com/spec/v1
oid sha256:00d7157d0078f62d7ce7a37047924af5f4a744defaae8f29012e0ea74da6fab3
size 45593
