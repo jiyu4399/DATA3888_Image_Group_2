version https://git-lfs.github.com/spec/v1
oid sha256:bd59efef2093f656720eecf19a5f6301bd5b3957ddf2d2c8e04b834154955004
size 184640729
