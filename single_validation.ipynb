version https://git-lfs.github.com/spec/v1
oid sha256:b982f1f65cdaa6d4657d8f8f917232caf383eb4f98d7ae1cd24305a8594d42b0
size 76779
