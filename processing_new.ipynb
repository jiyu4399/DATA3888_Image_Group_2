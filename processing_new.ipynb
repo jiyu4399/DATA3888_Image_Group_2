{
 "cells": [
  {
   "cell_type": "markdown",
   "id": "6d924996-e8ce-463b-af5b-f4ad957fd61e",
   "metadata": {},
   "source": [
    "# Part A\n",
    "You should only need to run this once, after that can simply load in the saved images as done in part B."
   ]
  },
  {
   "cell_type": "code",
   "execution_count": 1,
   "id": "6559bde8f6107d7e",
   "metadata": {
    "ExecuteTime": {
     "end_time": "2024-04-26T10:55:21.252734651Z",
     "start_time": "2024-04-26T10:55:19.796103731Z"
    }
   },
   "outputs": [],
   "source": [
    "import matplotlib.pyplot as plt\n",
    "import matplotlib.cm as cm\n",
    "from PIL import Image, ImageOps\n",
    "\n",
    "Image.MAX_IMAGE_PIXELS = None\n",
    "import pandas as pd\n",
    "import random\n",
    "import numpy as np\n",
    "import os\n",
    "import sys\n",
    "# import javabridge\n",
    "# import bioformats\n",
    "\n",
    "script_dir = os.path.dirname(os.path.realpath(\"__file__\"))\n",
    "data_dir = os.path.abspath(os.path.join(script_dir, \"..\", \"..\", \"data_processed\"))\n",
    "dir_path = os.path.abspath(\n",
    "    os.path.join(\n",
    "        script_dir,\n",
    "        \"..\",\n",
    "        \"..\",\n",
    "        \"data_raw_big/Xenium_V1_FF_Mouse_Brain_MultiSection_1_outs\",\n",
    "    )\n",
    ")\n",
    "file_path = os.path.join(data_dir, \"morphology_focus.tif\")"
   ]
  },
  {
   "cell_type": "code",
   "execution_count": 2,
   "id": "f192d143c7a1fde9",
   "metadata": {},
   "outputs": [
    {
     "ename": "FileNotFoundError",
     "evalue": "[Errno 2] No such file or directory: 'C:\\\\Users\\\\14041\\\\Documents\\\\GitHub\\\\data_processed\\\\morphology_focus.tif'",
     "output_type": "error",
     "traceback": [
      "\u001b[1;31m---------------------------------------------------------------------------\u001b[0m",
      "\u001b[1;31mFileNotFoundError\u001b[0m                         Traceback (most recent call last)",
      "\u001b[1;32m~\\AppData\\Local\\Temp\\ipykernel_41196\\2993107565.py\u001b[0m in \u001b[0;36m<module>\u001b[1;34m\u001b[0m\n\u001b[0;32m      2\u001b[0m \u001b[1;33m\u001b[0m\u001b[0m\n\u001b[0;32m      3\u001b[0m \u001b[1;31m# Open the .tif file\u001b[0m\u001b[1;33m\u001b[0m\u001b[1;33m\u001b[0m\u001b[0m\n\u001b[1;32m----> 4\u001b[1;33m \u001b[0mimg\u001b[0m \u001b[1;33m=\u001b[0m \u001b[0mImage\u001b[0m\u001b[1;33m.\u001b[0m\u001b[0mopen\u001b[0m\u001b[1;33m(\u001b[0m\u001b[0mos\u001b[0m\u001b[1;33m.\u001b[0m\u001b[0mpath\u001b[0m\u001b[1;33m.\u001b[0m\u001b[0mjoin\u001b[0m\u001b[1;33m(\u001b[0m\u001b[0mdata_dir\u001b[0m\u001b[1;33m,\u001b[0m \u001b[1;34m\"morphology_focus.tif\"\u001b[0m\u001b[1;33m)\u001b[0m\u001b[1;33m)\u001b[0m\u001b[1;33m\u001b[0m\u001b[1;33m\u001b[0m\u001b[0m\n\u001b[0m\u001b[0;32m      5\u001b[0m \u001b[1;31m# img = Image.open(os.path.join(dir_path, \"morphology_focus.tif\"))\u001b[0m\u001b[1;33m\u001b[0m\u001b[1;33m\u001b[0m\u001b[0m\n\u001b[0;32m      6\u001b[0m \u001b[1;33m\u001b[0m\u001b[0m\n",
      "\u001b[1;32m~\\anaconda3\\lib\\site-packages\\PIL\\Image.py\u001b[0m in \u001b[0;36mopen\u001b[1;34m(fp, mode, formats)\u001b[0m\n\u001b[0;32m   3090\u001b[0m \u001b[1;33m\u001b[0m\u001b[0m\n\u001b[0;32m   3091\u001b[0m     \u001b[1;32mif\u001b[0m \u001b[0mfilename\u001b[0m\u001b[1;33m:\u001b[0m\u001b[1;33m\u001b[0m\u001b[1;33m\u001b[0m\u001b[0m\n\u001b[1;32m-> 3092\u001b[1;33m         \u001b[0mfp\u001b[0m \u001b[1;33m=\u001b[0m \u001b[0mbuiltins\u001b[0m\u001b[1;33m.\u001b[0m\u001b[0mopen\u001b[0m\u001b[1;33m(\u001b[0m\u001b[0mfilename\u001b[0m\u001b[1;33m,\u001b[0m \u001b[1;34m\"rb\"\u001b[0m\u001b[1;33m)\u001b[0m\u001b[1;33m\u001b[0m\u001b[1;33m\u001b[0m\u001b[0m\n\u001b[0m\u001b[0;32m   3093\u001b[0m         \u001b[0mexclusive_fp\u001b[0m \u001b[1;33m=\u001b[0m \u001b[1;32mTrue\u001b[0m\u001b[1;33m\u001b[0m\u001b[1;33m\u001b[0m\u001b[0m\n\u001b[0;32m   3094\u001b[0m \u001b[1;33m\u001b[0m\u001b[0m\n",
      "\u001b[1;31mFileNotFoundError\u001b[0m: [Errno 2] No such file or directory: 'C:\\\\Users\\\\14041\\\\Documents\\\\GitHub\\\\data_processed\\\\morphology_focus.tif'"
     ]
    }
   ],
   "source": [
    "%matplotlib widget\n",
    "\n",
    "# Open the .tif file\n",
    "img = Image.open(os.path.join(data_dir, \"morphology_focus.tif\"))\n",
    "# img = Image.open(os.path.join(dir_path, \"morphology_focus.tif\"))\n",
    "\n",
    "\n",
    "# Specify file paths\n",
    "tif_file_path = \"../data_processed/morphology_focus.tif\"\n",
    "ome_tif_file_path = \"../data_raw/morphology_focus.ome.tif\"\n",
    "\n",
    "# # Check if the TIFF file already exists\n",
    "# if not os.path.exists(tif_file_path):\n",
    "#     # Start the JVM with additional memory\n",
    "#     javabridge.start_vm(class_path=bioformats.JARS, max_heap_size=\"10G\")\n",
    "\n",
    "#     try:\n",
    "#         # Read the OME-TIFF image\n",
    "#         with bioformats.ImageReader(ome_tif_file_path) as reader:\n",
    "#             img = reader.read()\n",
    "\n",
    "#         # Normalize the image if necessary\n",
    "#         img = img / 255.0  # Normalization, if needed\n",
    "\n",
    "#         # Convert to PIL image and save as TIFF\n",
    "#         pil_img = Image.fromarray((img * 255).astype(\"uint8\"))  # Convert to 8-bit unsigned int\n",
    "#         pil_img.save(tif_file_path, format=\"TIFF\")\n",
    "\n",
    "#     finally:\n",
    "#         # Stop the JVM\n",
    "#         javabridge.kill_vm()\n",
    "\n",
    "\n",
    "# Convert to numpy array\n",
    "image_array = np.array(img)\n",
    "\n",
    "# Calculate the quantile to scale intensity\n",
    "quantile_value = np.quantile(image_array, 0.99)\n",
    "\n",
    "# Scale intensity by dividing by the quantile\n",
    "scaled_image_array = image_array / quantile_value\n",
    "\n",
    "# Clip values greater than 1 to ensure image is within [0, 1] range\n",
    "img2 = np.clip(scaled_image_array, 0, 1)\n",
    "\n",
    "# Display the scaled image\n",
    "# plt.imshow(img2, cmap='gray')  # Uncomment this line and below to display the whole image (this runs slow)\n",
    "# plt.show()"
   ]
  },
  {
   "cell_type": "code",
   "execution_count": null,
   "id": "6cefe87972d608d5",
   "metadata": {},
   "outputs": [],
   "source": [
    "cell_boundaries = pd.read_csv(os.path.join(data_dir, \"cell_boundaries.csv.gz\"))\n",
    "cell_boundaries[\"vertex_x_trans\"] = cell_boundaries[\"vertex_x\"].apply(\n",
    "    lambda x: int(x / 0.2125)\n",
    ")\n",
    "cell_boundaries[\"vertex_y_trans\"] = cell_boundaries[\"vertex_y\"].apply(\n",
    "    lambda x: int(x / 0.2125)\n",
    ")"
   ]
  },
  {
   "cell_type": "code",
   "execution_count": null,
   "id": "4b4880f311fa256c",
   "metadata": {},
   "outputs": [],
   "source": [
    "clusters = pd.read_csv(os.path.join(data_dir, \"clusters.csv\"))\n",
    "ncells = clusters.shape[0]\n",
    "ncells"
   ]
  },
  {
   "cell_type": "code",
   "execution_count": null,
   "id": "d650bb51aac35f47",
   "metadata": {},
   "outputs": [],
   "source": [
    "img_pix = np.array(img)"
   ]
  },
  {
   "cell_type": "code",
   "execution_count": null,
   "id": "ac19379825bb830e",
   "metadata": {},
   "outputs": [],
   "source": [
    "random.seed(2024)\n",
    "\n",
    "ncells_subset = 1000\n",
    "\n",
    "cells_subset = random.sample(range(ncells), ncells_subset)\n",
    "\n",
    "clusters.loc[cells_subset, \"Cluster\"]\n",
    "\n",
    "for i in range(\n",
    "    1, ncells\n",
    "):  # change range(1, ncells) to cells_subset (or the other way around) if you want a sample of 1000 images\n",
    "    # extract the boundary vertices for the selected cell\n",
    "    bounds_i = cell_boundaries.loc[cell_boundaries[\"cell_id\"] == i]\n",
    "\n",
    "    # extract the cluster value for the selected cell\n",
    "    clustval_i = clusters.loc[i, \"Cluster\"]\n",
    "\n",
    "    # extract the pixel intensities for the area covering the cell boundary\n",
    "    img_sub = img_pix[\n",
    "        min(bounds_i[\"vertex_y_trans\"]) : max(bounds_i[\"vertex_y_trans\"]),\n",
    "        min(bounds_i[\"vertex_x_trans\"]) : max(bounds_i[\"vertex_x_trans\"]),\n",
    "    ]\n",
    "\n",
    "    # normalise the pixel intensities according to 99th percentile\n",
    "    img_sub_norm = img_sub / np.quantile(img_sub, 0.99)\n",
    "\n",
    "    # as an example, display the image for the first selected cell\n",
    "    # if i in cells_subset[0:5]:\n",
    "    #     print(f\"Displaying image for cell {i}\")\n",
    "    # plt.imshow(img_sub_norm, cmap=\"gray\")  # Uncomment this line and below to display sample cell images\n",
    "    # plt.show()\n",
    "\n",
    "    # create directory for images if it doesn't exist\n",
    "    cell_dir = os.path.join(os.getcwd(), data_dir, \"cell_images_py\")\n",
    "    if not os.path.exists(cell_dir):\n",
    "        os.mkdir(cell_dir)\n",
    "\n",
    "    # create directory for cluster if it doesn't exist\n",
    "    clust_dir = os.path.join(cell_dir, f\"cluster_{clustval_i}\")\n",
    "    if not os.path.exists(clust_dir):\n",
    "        os.mkdir(clust_dir)\n",
    "\n",
    "    # save extracted image as a png file\n",
    "    plt.imsave(os.path.join(clust_dir, f\"cell_{i}.png\"), img_sub_norm, cmap=\"gray\")"
   ]
  },
  {
   "cell_type": "markdown",
   "id": "f445be78f9d2a5e6",
   "metadata": {},
   "source": [
    "# Part B"
   ]
  },
  {
   "cell_type": "markdown",
   "id": "615e30a998a08952",
   "metadata": {},
   "source": [
    "### Setup"
   ]
  },
  {
   "cell_type": "code",
   "execution_count": 3,
   "id": "10b8fd41d0b1abcd",
   "metadata": {
    "ExecuteTime": {
     "end_time": "2024-04-26T10:55:24.347201208Z",
     "start_time": "2024-04-26T10:55:24.336640661Z"
    }
   },
   "outputs": [],
   "source": [
    "import matplotlib.pyplot as plt\n",
    "import matplotlib.cm as cm\n",
    "from PIL import Image, ImageOps\n",
    "\n",
    "Image.MAX_IMAGE_PIXELS = None\n",
    "import pandas as pd\n",
    "import random\n",
    "import numpy as np\n",
    "import os\n",
    "import re"
   ]
  },
  {
   "cell_type": "code",
   "execution_count": 4,
   "id": "1177e8dbdd2b8e6d",
   "metadata": {
    "ExecuteTime": {
     "end_time": "2024-04-26T10:55:27.183805345Z",
     "start_time": "2024-04-26T10:55:27.129102608Z"
    }
   },
   "outputs": [],
   "source": [
    "DATA_DIRECTORY = data_dir\n",
    "CELL_IMAGES = os.path.join(DATA_DIRECTORY, \"cell_images_py\")\n",
    "SIZE = (50, 50)"
   ]
  },
  {
   "cell_type": "markdown",
   "id": "c535397540fae177",
   "metadata": {},
   "source": [
    "## Loading in and displaying images"
   ]
  },
  {
   "cell_type": "code",
   "execution_count": 5,
   "id": "de49209aa64a3ef2",
   "metadata": {
    "ExecuteTime": {
     "end_time": "2024-04-26T10:55:30.521191749Z",
     "start_time": "2024-04-26T10:55:30.508747312Z"
    }
   },
   "outputs": [],
   "source": [
    "def get_cluster_images(cluster: int, size=(None, None)):\n",
    "    DIR = os.path.join(CELL_IMAGES, f\"cluster_{cluster}\")\n",
    "    files = [os.path.join(DIR, file) for file in os.listdir(DIR)]\n",
    "    files.sort()\n",
    "    return [\n",
    "        Image.open(file).convert(\"L\")\n",
    "        if None in size\n",
    "        else Image.open(file).convert(\"L\").resize(size)\n",
    "        for file in files\n",
    "    ]"
   ]
  },
  {
   "cell_type": "code",
   "execution_count": 6,
   "id": "aad5ed49511eef76",
   "metadata": {
    "ExecuteTime": {
     "end_time": "2024-04-26T10:55:31.190971186Z",
     "start_time": "2024-04-26T10:55:31.136917409Z"
    }
   },
   "outputs": [],
   "source": [
    "# cluster_A_files = os.path.join(CELL_IMAGES, os.listdir(os.path.join(CELL_IMAGES, 'cluster_8')))\n",
    "cluster_A_files = [\n",
    "    os.path.join(os.path.join(CELL_IMAGES, \"cluster_8\"), file)\n",
    "    for file in os.listdir(os.path.join(CELL_IMAGES, \"cluster_8\"))\n",
    "]\n",
    "cluster_B_files = [\n",
    "    os.path.join(os.path.join(CELL_IMAGES, \"cluster_13\"), file)\n",
    "    for file in os.listdir(os.path.join(CELL_IMAGES, \"cluster_13\"))\n",
    "]"
   ]
  },
  {
   "cell_type": "code",
   "execution_count": 7,
   "id": "f5d221021fc0a3e8",
   "metadata": {
    "ExecuteTime": {
     "end_time": "2024-04-26T10:55:34.670649300Z",
     "start_time": "2024-04-26T10:55:31.312296058Z"
    }
   },
   "outputs": [],
   "source": [
    "cluster_A_images = get_cluster_images(8)\n",
    "cluster_B_images = get_cluster_images(13)\n",
    "cluster_A_images_resized = get_cluster_images(8, size=SIZE)\n",
    "cluster_B_images_resized = get_cluster_images(13, size=SIZE)"
   ]
  },
  {
   "cell_type": "code",
   "execution_count": 8,
   "id": "48550daf63baef41",
   "metadata": {
    "ExecuteTime": {
     "end_time": "2024-04-26T10:55:34.674551360Z",
     "start_time": "2024-04-26T10:55:34.670610467Z"
    }
   },
   "outputs": [],
   "source": [
    "def display_images_in_grid(images, ncols=3, cmap=None):\n",
    "    nrows = (len(images) + ncols - 1) // ncols\n",
    "    fig_height = (\n",
    "        nrows * 1\n",
    "    )  # Adjust the multiplier as needed to control spacing between rows\n",
    "    fig, axes = plt.subplots(nrows=nrows, ncols=ncols, figsize=(10, fig_height))\n",
    "\n",
    "    for ax in axes.flat:\n",
    "        ax.axis(\"off\")\n",
    "\n",
    "    for i, image in enumerate(images):\n",
    "        ax = axes[i // ncols, i % ncols]\n",
    "        if not cmap:\n",
    "            ax.imshow(image)\n",
    "        else:\n",
    "            ax.imshow(image, cmap=cmap)\n",
    "\n",
    "    plt.subplots_adjust(wspace=0.01, hspace=0.03)  # Adjust spacing between subplots\n",
    "    plt.show()\n",
    "\n",
    "\n",
    "# display_images_in_grid(cluster_A_images_resized, ncols=10, cmap=\"gray\")"
   ]
  },
  {
   "cell_type": "markdown",
   "id": "544eb1917cb012ca",
   "metadata": {},
   "source": [
    "## Cell boundary and masking"
   ]
  },
  {
   "cell_type": "markdown",
   "id": "59a4460973ceb449",
   "metadata": {},
   "source": [
    "### Setup"
   ]
  },
  {
   "cell_type": "code",
   "execution_count": 9,
   "id": "5b6af3a0f03800b7",
   "metadata": {
    "ExecuteTime": {
     "end_time": "2024-04-26T10:55:34.723365614Z",
     "start_time": "2024-04-26T10:55:34.674087766Z"
    }
   },
   "outputs": [],
   "source": [
    "from shapely.geometry import Polygon\n",
    "\n",
    "# import rasterio\n",
    "# from rasterio.features import geometry_mask\n",
    "from skimage.draw import polygon2mask"
   ]
  },
  {
   "cell_type": "code",
   "execution_count": 10,
   "id": "8c752de500d11c37",
   "metadata": {
    "ExecuteTime": {
     "end_time": "2024-04-26T10:55:34.880887412Z",
     "start_time": "2024-04-26T10:55:34.719064510Z"
    }
   },
   "outputs": [],
   "source": [
    "cell_boundaries_raw = pd.read_csv(\"../../data_processed/cell_boundaries.csv.gz\")\n",
    "\n",
    "\n",
    "def get_cluster_cell_ids(cluster: int):\n",
    "    DIR = os.path.join(CELL_IMAGES, f\"cluster_{cluster}\")\n",
    "    files = [os.path.join(DIR, file) for file in os.listdir(DIR)]\n",
    "    pattern = r\"cell_(\\d+)\\.png\"\n",
    "    return [int(re.search(pattern, file).group(1)) for file in files]\n",
    "\n",
    "\n",
    "cluster_A_cell_ids = get_cluster_cell_ids(8)\n",
    "cluster_B_cell_ids = get_cluster_cell_ids(13)"
   ]
  },
  {
   "cell_type": "markdown",
   "id": "a7048aa1b298bae",
   "metadata": {},
   "source": [
    "### Masking one cell"
   ]
  },
  {
   "cell_type": "code",
   "execution_count": 11,
   "id": "5a2c295b52e5f811",
   "metadata": {
    "ExecuteTime": {
     "end_time": "2024-04-26T10:55:35.943102646Z",
     "start_time": "2024-04-26T10:55:35.915408564Z"
    }
   },
   "outputs": [],
   "source": [
    "cell_boundaries = cell_boundaries_raw.loc[\n",
    "    cell_boundaries_raw[\"cell_id\"].isin(cluster_A_cell_ids + cluster_B_cell_ids)\n",
    "]"
   ]
  },
  {
   "cell_type": "code",
   "execution_count": 12,
   "id": "3b329fab16e3e526",
   "metadata": {
    "ExecuteTime": {
     "end_time": "2024-04-26T10:55:36.182850754Z",
     "start_time": "2024-04-26T10:55:36.156675602Z"
    }
   },
   "outputs": [],
   "source": [
    "def get_masked_image(\n",
    "    image: Image, cell_id: int, cell_boundaries: pd.core.frame.DataFrame\n",
    "):\n",
    "    height, width = np.array(image).shape\n",
    "    cell_boundary = cell_boundaries[cell_boundaries[\"cell_id\"] == cell_id].copy()\n",
    "    cell_boundary[\"vertex_x_scaled\"] = 1 + (\n",
    "        (cell_boundary[\"vertex_x\"] - cell_boundary[\"vertex_x\"].min()) * scaling_factor\n",
    "    )\n",
    "    cell_boundary[\"vertex_y_scaled\"] = 1 + (\n",
    "        (cell_boundary[\"vertex_y\"] - cell_boundary[\"vertex_y\"].min()) * scaling_factor\n",
    "    )\n",
    "    polygon = np.array(\n",
    "        list(zip(cell_boundary[\"vertex_y_scaled\"], cell_boundary[\"vertex_x_scaled\"]))\n",
    "    )\n",
    "    mask = polygon2mask((height, width), polygon)\n",
    "    masked_image = np.ma.masked_array(np.copy(img_A), np.invert(mask), fill_value=0)\n",
    "    return masked_image"
   ]
  },
  {
   "cell_type": "code",
   "execution_count": 13,
   "id": "612bb55439455358",
   "metadata": {
    "ExecuteTime": {
     "end_time": "2024-04-26T10:55:36.497058010Z",
     "start_time": "2024-04-26T10:55:36.334244663Z"
    }
   },
   "outputs": [
    {
     "data": {
      "image/png": "[encoded data removed]",
      "text/plain": [
       "<Figure size 640x480 with 1 Axes>"
      ]
     },
     "metadata": {},
     "output_type": "display_data"
    }
   ],
   "source": [
    "index = 0\n",
    "\n",
    "cell_boundary = cell_boundaries[\n",
    "    cell_boundaries[\"cell_id\"] == cluster_A_cell_ids[index]\n",
    "].copy()\n",
    "img_A = cluster_A_images[index].convert(\"L\")\n",
    "img_A_resized = cluster_A_images_resized[index].convert(\"L\")\n",
    "\n",
    "# Calculate scaling factor\n",
    "scaling_factor = 1 / 0.22\n",
    "height, width = np.array(img_A).shape\n",
    "\n",
    "# Calculate scaled x and y coordinates\n",
    "cell_boundary[\"vertex_x_scaled\"] = (\n",
    "    (\n",
    "        1\n",
    "        + (\n",
    "            (cell_boundary[\"vertex_x\"] - cell_boundary[\"vertex_x\"].min())\n",
    "            * scaling_factor\n",
    "        )\n",
    "    )\n",
    "    * 50\n",
    "    / width\n",
    ")\n",
    "cell_boundary[\"vertex_y_scaled\"] = (\n",
    "    (\n",
    "        1\n",
    "        + (\n",
    "            (cell_boundary[\"vertex_y\"] - cell_boundary[\"vertex_y\"].min())\n",
    "            * scaling_factor\n",
    "        )\n",
    "    )\n",
    "    * 50\n",
    "    / height\n",
    ")\n",
    "\n",
    "# Visualize the image\n",
    "plt.clf()\n",
    "plt.close()\n",
    "plt.imshow(img_A_resized, cmap=\"gray\")\n",
    "plt.plot(\n",
    "    cell_boundary[\"vertex_x_scaled\"],\n",
    "    cell_boundary[\"vertex_y_scaled\"],\n",
    "    \"y-o\",\n",
    "    linewidth=3,\n",
    ")\n",
    "plt.show()"
   ]
  },
  {
   "cell_type": "code",
   "execution_count": 14,
   "id": "1efdb94db1f4a90a",
   "metadata": {
    "ExecuteTime": {
     "end_time": "2024-04-26T10:55:36.694416794Z",
     "start_time": "2024-04-26T10:55:36.514350510Z"
    }
   },
   "outputs": [
    {
     "data": {
      "image/png": "[encoded data removed]",
      "text/plain": [
       "<Figure size 640x480 with 1 Axes>"
      ]
     },
     "metadata": {},
     "output_type": "display_data"
    }
   ],
   "source": [
    "height, width = np.array(img_A.convert(\"L\")).shape\n",
    "polygon = np.array(\n",
    "    list(zip(cell_boundary[\"vertex_y_scaled\"], cell_boundary[\"vertex_x_scaled\"]))\n",
    ")\n",
    "mask = polygon2mask((height, width), polygon)\n",
    "masked_image = np.ma.masked_array(np.copy(img_A), np.invert(mask), fill_value=0)\n",
    "\n",
    "# Display the masked image\n",
    "# result = np.where(masked_image.mask, 0, masked_image)  # image with mask\n",
    "result = np.where(masked_image.mask, 0, 1)  # just the mask\n",
    "plt.imshow(result, cmap=\"gray\")\n",
    "plt.show()"
   ]
  },
  {
   "cell_type": "markdown",
   "id": "eb97c8a1965811b3",
   "metadata": {},
   "source": [
    "### Masking all cells"
   ]
  },
  {
   "cell_type": "code",
   "execution_count": 15,
   "id": "ce7086c7fcd01a75",
   "metadata": {
    "ExecuteTime": {
     "end_time": "2024-04-26T10:55:36.898948234Z",
     "start_time": "2024-04-26T10:55:36.852809154Z"
    }
   },
   "outputs": [],
   "source": [
    "def get_cluster_masked_images(cluster: int, size=(None, None), masked=False):\n",
    "    images = get_cluster_images(cluster)\n",
    "    if None not in size:  # get resized images if size is specified\n",
    "        images_resized = get_cluster_images(cluster, size)\n",
    "\n",
    "    cell_ids = get_cluster_cell_ids(cluster)\n",
    "    cell_boundaries = cell_boundaries_raw.loc[\n",
    "        cell_boundaries_raw[\"cell_id\"].isin(cell_ids)\n",
    "    ].copy()\n",
    "\n",
    "    # Calculate scaling factor\n",
    "    scaling_factor = 1 / 0.22\n",
    "\n",
    "    result = {}\n",
    "    for cell_id, image, image_resized in zip(cell_ids, images, images_resized):\n",
    "        if masked:\n",
    "            # get shape of original image (without resize)\n",
    "            height, width = np.array(image).shape\n",
    "            # scaling factor for cell boundary, only if size is given\n",
    "            resize_x = 50 / width if None not in size else 1\n",
    "            resize_y = 50 / height if None not in size else 1\n",
    "\n",
    "            # get cell boundary coordinates for the image\n",
    "            cell_boundary = cell_boundaries.loc[\n",
    "                cell_boundaries[\"cell_id\"] == cell_id\n",
    "            ].copy()\n",
    "            # Calculate scaled x and y coordinates\n",
    "            cell_boundary[\"vertex_x_scaled\"] = (\n",
    "                1\n",
    "                + (\n",
    "                    (cell_boundary[\"vertex_x\"] - cell_boundary[\"vertex_x\"].min())\n",
    "                    * scaling_factor\n",
    "                )\n",
    "            ) * resize_x\n",
    "            cell_boundary[\"vertex_y_scaled\"] = (\n",
    "                1\n",
    "                + (\n",
    "                    (cell_boundary[\"vertex_y\"] - cell_boundary[\"vertex_y\"].min())\n",
    "                    * scaling_factor\n",
    "                )\n",
    "            ) * resize_y\n",
    "\n",
    "            # create the mask\n",
    "            polygon = np.array(\n",
    "                list(\n",
    "                    zip(\n",
    "                        cell_boundary[\"vertex_y_scaled\"],\n",
    "                        cell_boundary[\"vertex_x_scaled\"],\n",
    "                    )\n",
    "                )\n",
    "            )\n",
    "            mask = polygon2mask((height, width) if None in size else SIZE, polygon)\n",
    "            # mask the image\n",
    "            masked_image = np.ma.masked_array(\n",
    "                np.copy(image if None in size else image_resized),\n",
    "                np.invert(mask),\n",
    "                fill_value=0,\n",
    "            )\n",
    "            result[cell_id] = np.where(masked_image.mask, 0, masked_image)\n",
    "        else:\n",
    "            result[cell_id] = np.copy(image if None in size else image_resized)\n",
    "\n",
    "    return result"
   ]
  },
  {
   "cell_type": "code",
   "execution_count": 16,
   "id": "8c0172a772d5598a",
   "metadata": {
    "ExecuteTime": {
     "end_time": "2024-04-26T10:57:32.974070805Z",
     "start_time": "2024-04-26T10:55:37.009934793Z"
    }
   },
   "outputs": [],
   "source": [
    "masked_cells = {\n",
    "    cluster: get_cluster_masked_images(cluster, size=SIZE, masked=True)\n",
    "    for cluster in range(1, 29)\n",
    "}\n",
    "\n",
    "unmasked_cells = {\n",
    "    cluster: get_cluster_masked_images(cluster, size=SIZE, masked=False)\n",
    "    for cluster in range(1, 29)\n",
    "}"
   ]
  },
  {
   "cell_type": "code",
   "execution_count": 17,
   "id": "a3d43ad022ae1f0e",
   "metadata": {
    "ExecuteTime": {
     "end_time": "2024-04-26T10:57:33.073221640Z",
     "start_time": "2024-04-26T10:57:33.018492956Z"
    }
   },
   "outputs": [
    {
     "data": {
      "image/png": "[encoded data removed]",
      "text/plain": [
       "<Figure size 640x480 with 1 Axes>"
      ]
     },
     "metadata": {},
     "output_type": "display_data"
    }
   ],
   "source": [
    "# display_images_in_grid(masked_cells[1])\n",
    "cluster = 1\n",
    "index = 3\n",
    "plt.clf()\n",
    "plt.close()\n",
    "plt.imshow(\n",
    "    masked_cells[cluster][list(unmasked_cells[cluster].keys())[index]], cmap=\"gray\"\n",
    ")\n",
    "plt.show()"
   ]
  },
  {
   "cell_type": "markdown",
   "id": "691a56a4dadf49f6",
   "metadata": {},
   "source": [
    "## Deep Learning"
   ]
  },
  {
   "cell_type": "code",
   "execution_count": 18,
   "id": "6066ffd96f3ee4bf",
   "metadata": {
    "ExecuteTime": {
     "end_time": "2024-04-26T10:57:34.173908197Z",
     "start_time": "2024-04-26T10:57:33.073056142Z"
    }
   },
   "outputs": [],
   "source": [
    "import torch\n",
    "from torch.utils.data import Dataset, DataLoader, random_split\n",
    "import torch.nn as nn\n",
    "import torch.optim as optim"
   ]
  },
  {
   "cell_type": "markdown",
   "id": "84730842e1665597",
   "metadata": {},
   "source": [
    "### Make the dataset"
   ]
  },
  {
   "cell_type": "code",
   "execution_count": 19,
   "id": "5a6fe30b8445993",
   "metadata": {
    "ExecuteTime": {
     "end_time": "2024-04-26T10:57:34.185324078Z",
     "start_time": "2024-04-26T10:57:34.177336315Z"
    }
   },
   "outputs": [],
   "source": [
    "from torch.utils.data import Dataset\n",
    "from PIL import Image\n",
    "import numpy as np\n",
    "\n",
    "\n",
    "class CustomDataset(Dataset):\n",
    "    def __init__(self, images_dict, transform=None):\n",
    "        self.images_dict = images_dict\n",
    "        self.labels = []\n",
    "        self.images = []\n",
    "        for cluster, images in images_dict.items():\n",
    "            self.images.extend(images.values())\n",
    "            self.labels.extend([cluster - 1] * len(images))\n",
    "        self.transform = transform  # Transformation to apply to each image\n",
    "\n",
    "    def __len__(self):\n",
    "        return len(self.labels)\n",
    "\n",
    "    def __getitem__(self, idx):\n",
    "        image = self.images[idx]\n",
    "        label = self.labels[idx]\n",
    "        # Convert image to PyTorch tensor and normalize if necessary\n",
    "        image_tensor = torch.tensor(image, dtype=torch.float32) / 255.0\n",
    "        image_tensor = torch.unsqueeze(image_tensor, 0)\n",
    "        if self.transform:\n",
    "            image_tensor = self.transform(image_tensor)  # Apply transformation\n",
    "        # Convert label to PyTorch tensor\n",
    "        label_tensor = torch.tensor(label, dtype=torch.long)\n",
    "        return image_tensor, label_tensor"
   ]
  },
  {
   "cell_type": "code",
   "execution_count": 20,
   "id": "a567d76b19dfd456",
   "metadata": {
    "ExecuteTime": {
     "end_time": "2024-04-26T10:57:34.224883469Z",
     "start_time": "2024-04-26T10:57:34.180431492Z"
    }
   },
   "outputs": [],
   "source": [
    "import torch\n",
    "\n",
    "\n",
    "def calculate_mean_std(images):\n",
    "    # Initialize variables to accumulate the sum and sum of squares\n",
    "    n_images = len(images)\n",
    "    mean = torch.zeros(1)\n",
    "    squared_sum = torch.zeros(1)\n",
    "\n",
    "    for image in images:\n",
    "        image_tensor = torch.tensor(image, dtype=torch.float32) / 255.0\n",
    "        mean += torch.mean(image_tensor)\n",
    "        squared_sum += torch.mean(image_tensor**2)\n",
    "\n",
    "    # Calculate mean and standard deviation\n",
    "    mean /= n_images\n",
    "    std = torch.sqrt(squared_sum / n_images - mean**2)\n",
    "\n",
    "    return mean.item(), std.item()\n",
    "\n",
    "\n",
    "mean, std = calculate_mean_std(unmasked_cells)"
   ]
  },
  {
   "cell_type": "markdown",
   "id": "a3768f5f6c2b3625",
   "metadata": {},
   "source": [
    "#### Load data and create dataloaders"
   ]
  },
  {
   "cell_type": "code",
   "execution_count": 33,
   "id": "9fe03b621c70df59",
   "metadata": {
    "ExecuteTime": {
     "end_time": "2024-04-26T12:46:16.995097903Z",
     "start_time": "2024-04-26T12:46:16.930656007Z"
    }
   },
   "outputs": [],
   "source": [
    "from torchvision.transforms import AutoAugmentPolicy\n",
    "from torchvision import transforms\n",
    "\n",
    "train_transforms = transforms.Compose(\n",
    "    [\n",
    "        transforms.ToPILImage(),\n",
    "        transforms.RandomHorizontalFlip(),\n",
    "        transforms.RandomVerticalFlip(),\n",
    "        transforms.GaussianBlur(3, sigma=(0.1, 2.0)),\n",
    "        transforms.RandomRotation(50),\n",
    "        transforms.RandomResizedCrop(50, scale=(0.8, 1.0)),\n",
    "        transforms.ToTensor(),\n",
    "        transforms.Normalize(\n",
    "            [\n",
    "                mean,\n",
    "            ],\n",
    "            [\n",
    "                std,\n",
    "            ],\n",
    "        ),  # Normalize the image\n",
    "    ]\n",
    ")\n",
    "custom_dataset = CustomDataset(unmasked_cells, train_transforms)\n",
    "\n",
    "# Define the sizes of the training, validation, and testing sets\n",
    "train_size = int(0.6 * len(custom_dataset))  # 60% for training\n",
    "val_size = int(0.2 * len(custom_dataset))  # 20% for validation\n",
    "test_size = len(custom_dataset) - train_size - val_size  # Remaining for testing\n",
    "\n",
    "# Split the dataset into training, validation, and testing sets\n",
    "train_dataset, val_dataset, test_dataset = random_split(\n",
    "    custom_dataset, [train_size, val_size, test_size]\n",
    ")\n",
    "\n",
    "# Define batch size and other DataLoader parameters\n",
    "batch_size = 32\n",
    "shuffle = True\n",
    "\n",
    "# Create DataLoader for training set\n",
    "train_loader = DataLoader(train_dataset, batch_size=batch_size, shuffle=shuffle)\n",
    "\n",
    "# Create DataLoader for validation set\n",
    "val_loader = DataLoader(val_dataset, batch_size=batch_size, shuffle=False)\n",
    "\n",
    "# Create DataLoader for testing set\n",
    "test_loader = DataLoader(test_dataset, batch_size=batch_size, shuffle=False)"
   ]
  },
  {
   "cell_type": "markdown",
   "id": "24375d7265540170",
   "metadata": {},
   "source": [
    "### Make the models"
   ]
  },
  {
   "cell_type": "markdown",
   "id": "3b5070155c752fba",
   "metadata": {},
   "source": [
    "#### Random simple model"
   ]
  },
  {
   "cell_type": "code",
   "execution_count": 22,
   "id": "76c0524b6bd62d9e",
   "metadata": {
    "ExecuteTime": {
     "end_time": "2024-04-26T10:57:34.880801547Z",
     "start_time": "2024-04-26T10:57:34.873455981Z"
    }
   },
   "outputs": [],
   "source": [
    "class Model(nn.Module):\n",
    "    def __init__(self, num_classes):\n",
    "        super(Model, self).__init__()\n",
    "        self.conv1 = nn.Conv2d(\n",
    "            in_channels=1, out_channels=16, kernel_size=3, stride=1, padding=1\n",
    "        )\n",
    "        self.conv2 = nn.Conv2d(\n",
    "            in_channels=16, out_channels=32, kernel_size=3, stride=1, padding=1\n",
    "        )\n",
    "        self.conv3 = nn.Conv2d(\n",
    "            in_channels=32, out_channels=64, kernel_size=3, stride=1, padding=1\n",
    "        )\n",
    "        self.fc1 = nn.Linear(\n",
    "            64 * 6 * 6, 128\n",
    "        )  # Adjust input size based on your image size\n",
    "        self.fc2 = nn.Linear(128, num_classes)\n",
    "\n",
    "        self.pool = nn.MaxPool2d(kernel_size=2, stride=2)\n",
    "        self.relu = nn.ReLU()\n",
    "\n",
    "    def forward(self, x):\n",
    "        x = self.relu(self.conv1(x))\n",
    "        x = self.pool(x)\n",
    "        x = self.relu(self.conv2(x))\n",
    "        x = self.pool(x)\n",
    "        x = self.relu(self.conv3(x))\n",
    "        x = self.pool(x)\n",
    "\n",
    "        x = x.view(-1, 64 * 6 * 6)  # Adjust input size based on your image size\n",
    "        x = self.relu(self.fc1(x))\n",
    "        x = self.fc2(x)\n",
    "        return x"
   ]
  },
  {
   "cell_type": "markdown",
   "id": "ec08c2edc08a65dd",
   "metadata": {},
   "source": [
    "#### Lab 4b Model"
   ]
  },
  {
   "cell_type": "code",
   "execution_count": 23,
   "id": "9296f2d4995aa5c2",
   "metadata": {
    "ExecuteTime": {
     "end_time": "2024-04-26T10:57:34.919566207Z",
     "start_time": "2024-04-26T10:57:34.878754854Z"
    }
   },
   "outputs": [],
   "source": [
    "class LabModel(nn.Module):\n",
    "    def __init__(self):\n",
    "        super(LabModel, self).__init__()\n",
    "        self.conv1 = nn.Conv2d(in_channels=1, out_channels=32, kernel_size=3, padding=1)\n",
    "        self.pool = nn.MaxPool2d(kernel_size=2, stride=2)\n",
    "        self.conv2 = nn.Conv2d(\n",
    "            in_channels=32, out_channels=64, kernel_size=3, padding=1\n",
    "        )\n",
    "        self.dropout1 = nn.Dropout2d(p=0.25)\n",
    "        self.fc1 = nn.Linear(\n",
    "            64 * 12 * 12, 128\n",
    "        )  # Adjust input size based on your image size\n",
    "        self.dropout2 = nn.Dropout(p=0.5)\n",
    "        self.fc2 = nn.Linear(128, 64)\n",
    "        self.dropout3 = nn.Dropout(p=0.5)\n",
    "        self.fc3 = nn.Linear(64, 28)  # Assuming 2 classes for binary classification\n",
    "\n",
    "    def forward(self, x):\n",
    "        x = self.pool(nn.functional.relu(self.conv1(x)))\n",
    "        x = self.pool(nn.functional.relu(self.conv2(x)))\n",
    "        x = self.dropout1(x)\n",
    "        x = x.view(-1, 64 * 12 * 12)  # Adjust input size based on your image size\n",
    "        x = nn.functional.relu(self.fc1(x))\n",
    "        x = self.dropout2(x)\n",
    "        x = nn.functional.relu(self.fc2(x))\n",
    "        x = self.dropout3(x)\n",
    "        x = self.fc3(x)\n",
    "        return x"
   ]
  },
  {
   "cell_type": "markdown",
   "id": "cc3292c3062f26c4",
   "metadata": {},
   "source": [
    "#### AlexNet"
   ]
  },
  {
   "cell_type": "code",
   "execution_count": 24,
   "id": "a705140488d209c2",
   "metadata": {
    "ExecuteTime": {
     "end_time": "2024-04-26T10:57:34.920795026Z",
     "start_time": "2024-04-26T10:57:34.909211373Z"
    }
   },
   "outputs": [],
   "source": [
    "class AlexNet(nn.Module):\n",
    "    def __init__(self, num=28):\n",
    "        super(AlexNet, self).__init__()\n",
    "        self.feature = nn.Sequential(\n",
    "            nn.Conv2d(1, 32, kernel_size=5, stride=1, padding=1),\n",
    "            nn.ReLU(inplace=True),\n",
    "            nn.Conv2d(32, 64, kernel_size=3, padding=1),\n",
    "            nn.ReLU(inplace=True),\n",
    "            nn.MaxPool2d(kernel_size=2, stride=2),\n",
    "            nn.Conv2d(64, 96, kernel_size=3, padding=1),\n",
    "            nn.ReLU(inplace=True),\n",
    "            nn.Conv2d(96, 64, kernel_size=3, padding=1),\n",
    "            nn.ReLU(inplace=True),\n",
    "            nn.Conv2d(64, 32, kernel_size=3, padding=1),\n",
    "            nn.ReLU(inplace=True),\n",
    "            nn.MaxPool2d(kernel_size=2, stride=1),\n",
    "        )\n",
    "        self.classifier = nn.Sequential(\n",
    "            nn.Dropout(),\n",
    "            nn.Linear(32 * 12 * 12, 2048),\n",
    "            nn.ReLU(inplace=True),\n",
    "            nn.Dropout(),\n",
    "            nn.Linear(2048, 1024),\n",
    "            nn.ReLU(inplace=True),\n",
    "            nn.Linear(1024, num),\n",
    "        )\n",
    "\n",
    "    def forward(self, x):\n",
    "        x = self.feature(x)\n",
    "        x = x.view(-1, 32 * 12 * 12)\n",
    "        return self.classifier(x)\n",
    "        # return x"
   ]
  },
  {
   "cell_type": "code",
   "execution_count": 25,
   "id": "ae34396bf5107dc4",
   "metadata": {
    "ExecuteTime": {
     "end_time": "2024-04-26T10:57:34.921773720Z",
     "start_time": "2024-04-26T10:57:34.909639200Z"
    }
   },
   "outputs": [],
   "source": [
    "# Define the ResNet model\n",
    "import torchvision.models as models\n",
    "import torch.nn as nn\n",
    "import torch.nn.functional as F\n",
    "\n",
    "\n",
    "class ModifiedResNet50(models.ResNet):\n",
    "    def __init__(self, weights=None, num_classes=28, *args, **kwargs):\n",
    "        super(ModifiedResNet50, self).__init__(\n",
    "            block=models.resnet.Bottleneck, layers=[3, 4, 6, 3], *args, **kwargs\n",
    "        )\n",
    "\n",
    "        # Initialize a new fully connected layer with the correct number of classes\n",
    "        self.fc = nn.Linear(2048, num_classes)\n",
    "\n",
    "        # If weights is provided, load the state_dict with strict=False to avoid errors\n",
    "        if weights is not None:\n",
    "            state_dict = weights.state_dict()\n",
    "\n",
    "            # Remove the weights related to the fully connected layer to avoid mismatch\n",
    "            if \"fc.weight\" in state_dict and \"fc.bias\" in state_dict:\n",
    "                del state_dict[\"fc.weight\"]\n",
    "                del state_dict[\"fc.bias\"]\n",
    "\n",
    "            self.load_state_dict(state_dict, strict=False)\n",
    "\n",
    "        # Modify the first convolutional layer to accept 1-channel input\n",
    "        self.conv1 = nn.Conv2d(1, 64, kernel_size=7, stride=2, padding=3, bias=False)\n",
    "\n",
    "        # Update the first layer's weights, if weights were provided\n",
    "        if weights is not None:\n",
    "            with torch.no_grad():\n",
    "                original_first_layer = state_dict[\"conv1.weight\"]\n",
    "                self.conv1.weight.data = original_first_layer.mean(dim=1, keepdim=True)\n",
    "\n",
    "        # Adding Dropout\n",
    "        self.dropout = nn.Dropout(0.5)\n",
    "\n",
    "        # Adding Batch Normalization\n",
    "        self.bn1 = nn.BatchNorm2d(64)\n",
    "\n",
    "    def forward(self, x):\n",
    "        x = self.conv1(x)\n",
    "        x = self.bn1(x)\n",
    "        x = F.relu(x)\n",
    "        x = self.dropout(x)\n",
    "        x = self.layer1(x)\n",
    "        x = self.layer2(x)\n",
    "        x = self.layer3(x)\n",
    "        x = self.layer4(x)\n",
    "        x = self.avgpool(x)\n",
    "        x = torch.flatten(x, 1)\n",
    "        x = self.fc(x)\n",
    "        return x"
   ]
  },
  {
   "cell_type": "code",
   "execution_count": 26,
   "id": "235cfa5c4d808f48",
   "metadata": {
    "ExecuteTime": {
     "end_time": "2024-04-26T10:57:34.922756501Z",
     "start_time": "2024-04-26T10:57:34.909906438Z"
    }
   },
   "outputs": [],
   "source": [
    "import torchvision.models as models\n",
    "import torch.nn as nn\n",
    "import torch.nn.functional as F\n",
    "\n",
    "\n",
    "class ModifiedResNet18(models.ResNet):\n",
    "    def __init__(self, weights=None, num_classes=28, *args, **kwargs):\n",
    "        super(ModifiedResNet18, self).__init__(\n",
    "            block=models.resnet.BasicBlock, layers=[2, 2, 2, 2], *args, **kwargs\n",
    "        )\n",
    "\n",
    "        # Initialize a new fully connected layer with the correct number of classes\n",
    "        self.fc = nn.Linear(512, num_classes)\n",
    "\n",
    "        # If weights is provided, load the state_dict with strict=False to avoid errors\n",
    "        if weights is not None:\n",
    "            state_dict = weights.state_dict()\n",
    "\n",
    "            # Remove the weights related to the fully connected layer to avoid mismatch\n",
    "            if \"fc.weight\" in state_dict and \"fc.bias\" in state_dict:\n",
    "                del state_dict[\"fc.weight\"]\n",
    "                del state_dict[\"fc.bias\"]\n",
    "\n",
    "            self.load_state_dict(state_dict, strict=False)\n",
    "\n",
    "        # Modify the first convolutional layer to accept 1-channel input\n",
    "        self.conv1 = nn.Conv2d(1, 64, kernel_size=7, stride=2, padding=3, bias=False)\n",
    "\n",
    "        # Update the first layer's weights, if weights were provided\n",
    "        if weights is not None:\n",
    "            with torch.no_grad():\n",
    "                original_first_layer = state_dict[\"conv1.weight\"]\n",
    "                self.conv1.weight.data = original_first_layer.mean(dim=1, keepdim=True)\n",
    "\n",
    "        # Adding Dropout\n",
    "        self.dropout = nn.Dropout(0.5)\n",
    "\n",
    "        # Adding Batch Normalization\n",
    "        self.bn1 = nn.BatchNorm2d(64)\n",
    "\n",
    "    def forward(self, x):\n",
    "        x = self.conv1(x)\n",
    "        x = self.bn1(x)\n",
    "        x = F.relu(x)\n",
    "        x = self.dropout(x)\n",
    "        x = self.layer1(x)\n",
    "        x = self.layer2(x)\n",
    "        x = self.layer3(x)\n",
    "        x = self.layer4(x)\n",
    "        x = self.avgpool(x)\n",
    "        x = torch.flatten(x, 1)\n",
    "        x = self.fc(x)\n",
    "        return x"
   ]
  },
  {
   "cell_type": "code",
   "execution_count": 27,
   "id": "b17914f99df502c9",
   "metadata": {
    "ExecuteTime": {
     "end_time": "2024-04-26T10:57:35.398226725Z",
     "start_time": "2024-04-26T10:57:34.910321421Z"
    }
   },
   "outputs": [],
   "source": [
    "import timm\n",
    "import torch\n",
    "import torch.nn as nn\n",
    "import torch.nn.functional as F\n",
    "\n",
    "\n",
    "# Define a modified Vision Transformer (ViT) with a dropout layer\n",
    "class ModifiedViT(nn.Module):\n",
    "    def __init__(\n",
    "        self,\n",
    "        model_name=\"vit_base_patch16_224\",\n",
    "        pretrained=True,\n",
    "        num_classes=1000,\n",
    "        dropout_rate=0.3,  # Default dropout rate\n",
    "    ):\n",
    "        super(ModifiedViT, self).__init__()\n",
    "\n",
    "        # Load the pretrained ViT model\n",
    "        self.vit = timm.create_model(\n",
    "            model_name, pretrained=pretrained, num_classes=num_classes\n",
    "        )\n",
    "\n",
    "        # Modify the patch embedding to handle grayscale images\n",
    "        original_patch_embedding = self.vit.patch_embed.proj\n",
    "        self.vit.patch_embed.proj = nn.Conv2d(\n",
    "            1,\n",
    "            original_patch_embedding.out_channels,\n",
    "            kernel_size=original_patch_embedding.kernel_size,\n",
    "            stride=original_patch_embedding.stride,\n",
    "            padding=original_patch_embedding.padding,\n",
    "            bias=False,\n",
    "        )\n",
    "\n",
    "        # If using pretrained weights, adjust for grayscale\n",
    "        if pretrained:\n",
    "            with torch.no_grad():\n",
    "                original_weight = original_patch_embedding.weight.mean(\n",
    "                    dim=1, keepdim=True\n",
    "                )\n",
    "                self.vit.patch_embed.proj.weight.data = original_weight\n",
    "\n",
    "        # Add dropout layer after patch embedding\n",
    "        self.dropout = nn.Dropout(p=dropout_rate)\n",
    "\n",
    "        # Replace the classifier head\n",
    "        self.vit.head = nn.Linear(self.vit.head.in_features, num_classes)\n",
    "\n",
    "    def forward(self, x):\n",
    "        x = self.vit.patch_embed(x)\n",
    "\n",
    "        cls_token = self.vit.cls_token.expand(x.shape[0], -1, -1)\n",
    "        x = torch.cat((cls_token, x), dim=1)\n",
    "\n",
    "        # Apply positional dropout and add positional embedding\n",
    "        x = self.vit.pos_drop(x + self.vit.pos_embed)\n",
    "\n",
    "        # Apply dropout before entering transformer blocks\n",
    "        x = self.dropout(x)\n",
    "\n",
    "        # Forward through the transformer blocks\n",
    "        x = self.vit.blocks(x)\n",
    "\n",
    "        # Apply normalization\n",
    "        x = self.vit.norm(x)\n",
    "\n",
    "        # Select CLS token and apply final dropout\n",
    "        x = self.dropout(x[:, 0])\n",
    "\n",
    "        # Final classifier head\n",
    "        x = self.vit.head(x)\n",
    "\n",
    "        return x"
   ]
  },
  {
   "cell_type": "markdown",
   "id": "39cfa5230aa2fd4a",
   "metadata": {},
   "source": [
    "### Train"
   ]
  },
  {
   "cell_type": "code",
   "execution_count": 28,
   "id": "b45b59429adb9146",
   "metadata": {
    "ExecuteTime": {
     "end_time": "2024-04-26T10:57:35.575021613Z",
     "start_time": "2024-04-26T10:57:35.531929911Z"
    }
   },
   "outputs": [],
   "source": [
    "from tqdm import tqdm\n",
    "import torch\n",
    "import torch.nn as nn\n",
    "\n",
    "\n",
    "def train_model(\n",
    "    model, train_loader, val_loader, num_epochs=100, learning_rate=0.001, save_path=None\n",
    "):\n",
    "    # Define loss function and optimizer\n",
    "    criterion = nn.CrossEntropyLoss()\n",
    "    optimizer = torch.optim.Adam(model.parameters(), lr=learning_rate)\n",
    "\n",
    "    # Move the model to the appropriate device\n",
    "    device = torch.device(\"cuda\" if torch.cuda.is_available() else \"cpu\")\n",
    "    torch.clear_autocast_cache()\n",
    "    model.to(device)\n",
    "\n",
    "    # Store training and validation loss and accuracy\n",
    "    train_losses = []\n",
    "    val_losses = []\n",
    "    train_accuracies = []\n",
    "    val_accuracies = []\n",
    "\n",
    "    # Training loop\n",
    "    for epoch in range(num_epochs):\n",
    "        model.train()\n",
    "        running_train_loss = 0.0\n",
    "        correct_train = 0\n",
    "        total_train = 0\n",
    "\n",
    "        # Progress bar for inner training loop\n",
    "        with tqdm(\n",
    "            train_loader, desc=f\"Epoch {epoch + 1}/{num_epochs}\", leave=False\n",
    "        ) as pbar:\n",
    "            for inputs, labels in pbar:\n",
    "                inputs, labels = inputs.to(device), labels.to(device)\n",
    "\n",
    "                # Zero the parameter gradients\n",
    "                optimizer.zero_grad()\n",
    "\n",
    "                # Forward pass and backward pass with optimization\n",
    "                outputs = model(inputs)\n",
    "                loss = criterion(outputs, labels)\n",
    "                loss.backward()\n",
    "                optimizer.step()\n",
    "\n",
    "                # Accumulate loss and accuracy\n",
    "                running_train_loss += loss.item() * inputs.size(0)\n",
    "                _, predicted = torch.max(outputs, 1)\n",
    "                total_train += labels.size(0)\n",
    "                correct_train += (predicted == labels).sum().item()\n",
    "\n",
    "                # Update the progress bar with training loss and accuracy\n",
    "                pbar.set_postfix(\n",
    "                    {\n",
    "                        \"train_loss\": running_train_loss / total_train,\n",
    "                        \"accuracy\": correct_train / total_train,\n",
    "                    }\n",
    "                )\n",
    "\n",
    "        # Calculate average training loss and accuracy for the epoch\n",
    "        epoch_train_loss = running_train_loss / len(train_loader.dataset)\n",
    "        epoch_train_accuracy = correct_train / total_train\n",
    "        train_losses.append(epoch_train_loss)\n",
    "        train_accuracies.append(epoch_train_accuracy)\n",
    "\n",
    "        # Validation loop\n",
    "        running_val_loss = 0.0\n",
    "        correct_val = 0\n",
    "        total_val = 0\n",
    "\n",
    "        with torch.no_grad():\n",
    "            for inputs, labels in val_loader:\n",
    "                inputs, labels = inputs.to(device), labels.to(device)\n",
    "\n",
    "                # Forward pass\n",
    "                outputs = model(inputs)\n",
    "                loss = criterion(outputs, labels)\n",
    "\n",
    "                # Accumulate loss and accuracy\n",
    "                running_val_loss += loss.item() * inputs.size(0)\n",
    "                _, predicted = torch.max(outputs, 1)\n",
    "                total_val += labels.size(0)\n",
    "                correct_val += (predicted == labels).sum().item()\n",
    "\n",
    "        # Calculate average validation loss and accuracy\n",
    "        epoch_val_loss = running_val_loss / len(val_loader.dataset)\n",
    "        epoch_val_accuracy = correct_val / total_val\n",
    "        val_losses.append(epoch_val_loss)\n",
    "        val_accuracies.append(epoch_val_accuracy)\n",
    "\n",
    "        # Save the model state\n",
    "        if save_path:\n",
    "            model_save_path = os.path.join(save_path, f\"model_epoch_{epoch + 1}.pth\")\n",
    "            torch.save(model.state_dict(), model_save_path)\n",
    "\n",
    "        # Optional: Print a summary at the end of each epoch\n",
    "        print(\n",
    "            f\"Epoch [{epoch + 1}/{num_epochs}], \"\n",
    "            f\"Train Loss: {epoch_train_loss:.4f}, Train Accuracy: {epoch_train_accuracy:.4f}, \"\n",
    "            f\"Val Loss: {epoch_val_loss:.4f}, Val Accuracy: {epoch_val_accuracy:.4f}\"\n",
    "        )\n",
    "\n",
    "    # Return training and validation losses and accuracies\n",
    "    return train_losses, val_losses, train_accuracies, val_accuracies"
   ]
  },
  {
   "cell_type": "code",
   "execution_count": 29,
   "id": "4979c00f0d9530bc",
   "metadata": {
    "ExecuteTime": {
     "end_time": "2024-04-26T10:57:35.579983138Z",
     "start_time": "2024-04-26T10:57:35.574691208Z"
    }
   },
   "outputs": [
    {
     "name": "stdout",
     "output_type": "stream",
     "text": [
      "torch.Size([32, 1, 50, 50])\n"
     ]
    }
   ],
   "source": [
    "for images, labels in train_loader:\n",
    "    print(images.size())\n",
    "    break"
   ]
  },
  {
   "cell_type": "code",
   "execution_count": 34,
   "id": "dfe7db0c03e0e172",
   "metadata": {
    "ExecuteTime": {
     "end_time": "2024-04-26T12:47:30.653449128Z",
     "start_time": "2024-04-26T12:46:23.406170951Z"
    }
   },
   "outputs": [
    {
     "name": "stderr",
     "output_type": "stream",
     "text": [
      "                                                                                               \r"
     ]
    },
    {
     "name": "stdout",
     "output_type": "stream",
     "text": [
      "Epoch [1/50], Train Loss: 3.1497, Train Accuracy: 0.1106, Val Loss: 3.0842, Val Accuracy: 0.1367\n"
     ]
    },
    {
     "name": "stderr",
     "output_type": "stream",
     "text": [
      "                                                                                            \r"
     ]
    },
    {
     "ename": "KeyboardInterrupt",
     "evalue": "",
     "output_type": "error",
     "traceback": [
      "\u001b[0;31m---------------------------------------------------------------------------\u001b[0m",
      "\u001b[0;31mKeyboardInterrupt\u001b[0m                         Traceback (most recent call last)",
      "Cell \u001b[0;32mIn[34], line 3\u001b[0m\n\u001b[1;32m      1\u001b[0m save_path \u001b[38;5;241m=\u001b[39m os\u001b[38;5;241m.\u001b[39mpath\u001b[38;5;241m.\u001b[39mjoin(script_dir, \u001b[38;5;124m\"\u001b[39m\u001b[38;5;124mmodels\u001b[39m\u001b[38;5;124m\"\u001b[39m)\n\u001b[1;32m      2\u001b[0m model \u001b[38;5;241m=\u001b[39m ModifiedResNet50()\n\u001b[0;32m----> 3\u001b[0m t_loss, v_loss, t_acc, v_acc \u001b[38;5;241m=\u001b[39m \u001b[43mtrain_model\u001b[49m\u001b[43m(\u001b[49m\n\u001b[1;32m      4\u001b[0m \u001b[43m    \u001b[49m\u001b[43mmodel\u001b[49m\u001b[43m,\u001b[49m\u001b[43m \u001b[49m\u001b[43mtrain_loader\u001b[49m\u001b[43m,\u001b[49m\u001b[43m \u001b[49m\u001b[43mval_loader\u001b[49m\u001b[43m,\u001b[49m\u001b[43m \u001b[49m\u001b[43mnum_epochs\u001b[49m\u001b[38;5;241;43m=\u001b[39;49m\u001b[38;5;241;43m50\u001b[39;49m\u001b[43m,\u001b[49m\u001b[43m \u001b[49m\u001b[43msave_path\u001b[49m\u001b[38;5;241;43m=\u001b[39;49m\u001b[38;5;28;43;01mNone\u001b[39;49;00m\n\u001b[1;32m      5\u001b[0m \u001b[43m)\u001b[49m\n\u001b[1;32m      6\u001b[0m lab_model_results \u001b[38;5;241m=\u001b[39m {\u001b[38;5;124m\"\u001b[39m\u001b[38;5;124mt_loss\u001b[39m\u001b[38;5;124m\"\u001b[39m: t_loss, \u001b[38;5;124m\"\u001b[39m\u001b[38;5;124mv_loss\u001b[39m\u001b[38;5;124m\"\u001b[39m: v_loss, \u001b[38;5;124m\"\u001b[39m\u001b[38;5;124mt_acc\u001b[39m\u001b[38;5;124m\"\u001b[39m: t_acc, \u001b[38;5;124m\"\u001b[39m\u001b[38;5;124mv_acc\u001b[39m\u001b[38;5;124m\"\u001b[39m: v_acc}\n",
      "Cell \u001b[0;32mIn[28], line 48\u001b[0m, in \u001b[0;36mtrain_model\u001b[0;34m(model, train_loader, val_loader, num_epochs, learning_rate, save_path)\u001b[0m\n\u001b[1;32m     45\u001b[0m optimizer\u001b[38;5;241m.\u001b[39mstep()\n\u001b[1;32m     47\u001b[0m \u001b[38;5;66;03m# Accumulate loss and accuracy\u001b[39;00m\n\u001b[0;32m---> 48\u001b[0m running_train_loss \u001b[38;5;241m+\u001b[39m\u001b[38;5;241m=\u001b[39m \u001b[43mloss\u001b[49m\u001b[38;5;241;43m.\u001b[39;49m\u001b[43mitem\u001b[49m\u001b[43m(\u001b[49m\u001b[43m)\u001b[49m \u001b[38;5;241m*\u001b[39m inputs\u001b[38;5;241m.\u001b[39msize(\u001b[38;5;241m0\u001b[39m)\n\u001b[1;32m     49\u001b[0m _, predicted \u001b[38;5;241m=\u001b[39m torch\u001b[38;5;241m.\u001b[39mmax(outputs, \u001b[38;5;241m1\u001b[39m)\n\u001b[1;32m     50\u001b[0m total_train \u001b[38;5;241m+\u001b[39m\u001b[38;5;241m=\u001b[39m labels\u001b[38;5;241m.\u001b[39msize(\u001b[38;5;241m0\u001b[39m)\n",
      "\u001b[0;31mKeyboardInterrupt\u001b[0m: "
     ]
    }
   ],
   "source": [
    "save_path = os.path.join(script_dir, \"models\")\n",
    "model = ModifiedResNet50()\n",
    "t_loss, v_loss, t_acc, v_acc = train_model(\n",
    "    model, train_loader, val_loader, num_epochs=50, save_path=None\n",
    ")\n",
    "lab_model_results = {\"t_loss\": t_loss, \"v_loss\": v_loss, \"t_acc\": t_acc, \"v_acc\": v_acc}"
   ]
  },
  {
   "cell_type": "markdown",
   "id": "ec2639d541097f9e",
   "metadata": {},
   "source": [
    "\n"
   ]
  },
  {
   "cell_type": "code",
   "execution_count": 31,
   "id": "8ea7b077a5761e00",
   "metadata": {
    "ExecuteTime": {
     "end_time": "2024-04-26T11:58:42.442508631Z",
     "start_time": "2024-04-26T11:58:42.437183129Z"
    }
   },
   "outputs": [],
   "source": [
    "def generate_plots(train_losses, val_losses, train_accuracies, val_accuracies):\n",
    "    with plt.style.context(\"dark_background\"):\n",
    "        # Generate x-axis values (epochs)\n",
    "        epochs = range(1, len(train_losses) + 1)\n",
    "\n",
    "        # Create subplots\n",
    "        fig, (ax1, ax2) = plt.subplots(2, 1, figsize=(10, 10))\n",
    "\n",
    "        # Plot training and validation losses\n",
    "        ax1.plot(epochs, train_losses, label=\"Training Loss\", marker=\"o\")\n",
    "        ax1.plot(epochs, val_losses, label=\"Validation Loss\", marker=\"o\")\n",
    "\n",
    "        # Add jitter to the data points for better visualization\n",
    "        ax1.scatter(epochs, train_losses, color=\"blue\")\n",
    "        ax1.scatter(epochs, val_losses, color=\"orange\")\n",
    "\n",
    "        # Add labels and legend for the first subplot\n",
    "        ax1.set_xlabel(\"Epoch\")\n",
    "        ax1.set_ylabel(\"Loss\")\n",
    "        ax1.set_title(\"Training and Validation Loss\")\n",
    "        ax1.legend()\n",
    "\n",
    "        # Plot training and validation accuracies\n",
    "        ax2.plot(epochs, train_accuracies, label=\"Training Accuracy\", marker=\"o\")\n",
    "        ax2.plot(epochs, val_accuracies, label=\"Validation Accuracy\", marker=\"o\")\n",
    "\n",
    "        # Add jitter to the data points for better visualization\n",
    "        ax2.scatter(epochs, train_accuracies, color=\"green\")\n",
    "        ax2.scatter(epochs, val_accuracies, color=\"red\")\n",
    "\n",
    "        # Add labels and legend for the second subplot\n",
    "        ax2.set_xlabel(\"Epoch\")\n",
    "        ax2.set_ylabel(\"Accuracy\")\n",
    "        ax2.set_title(\"Training and Validation Accuracy\")\n",
    "        ax2.legend()\n",
    "\n",
    "        # Adjust layout\n",
    "        plt.tight_layout()\n",
    "\n",
    "        # Show plot\n",
    "        plt.show()"
   ]
  },
  {
   "cell_type": "markdown",
   "id": "36cd118946ac2cc9",
   "metadata": {},
   "source": []
  },
  {
   "cell_type": "code",
   "execution_count": 32,
   "id": "c2705b5315dc2d04",
   "metadata": {
    "ExecuteTime": {
     "end_time": "2024-04-26T11:58:42.923214162Z",
     "start_time": "2024-04-26T11:58:42.439981723Z"
    }
   },
   "outputs": [
    {
     "data": {
      "image/png": "[encoded data removed]",
      "text/plain": [
       "<Figure size 1000x1000 with 2 Axes>"
      ]
     },
     "metadata": {},
     "output_type": "display_data"
    }
   ],
   "source": [
    "generate_plots(\n",
    "    lab_model_results[\"t_loss\"],\n",
    "    lab_model_results[\"v_loss\"],\n",
    "    lab_model_results[\"t_acc\"],\n",
    "    lab_model_results[\"v_acc\"],\n",
    ")"
   ]
  },
  {
   "cell_type": "code",
   "execution_count": null,
   "id": "4119930c486ab82c",
   "metadata": {},
   "outputs": [],
   "source": []
  }
 ],
 "metadata": {
  "kernelspec": {
   "display_name": "Python 3 (ipykernel)",
   "language": "python",
   "name": "python3"
  },
  "language_info": {
   "codemirror_mode": {
    "name": "ipython",
    "version": 3
   },
   "file_extension": ".py",
   "mimetype": "text/x-python",
   "name": "python",
   "nbconvert_exporter": "python",
   "pygments_lexer": "ipython3",
   "version": "3.9.13"
  }
 },
 "nbformat": 4,
 "nbformat_minor": 5
}
