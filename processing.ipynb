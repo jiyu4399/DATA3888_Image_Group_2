{
 "cells": [
  {
   "cell_type": "markdown",
   "id": "6d924996-e8ce-463b-af5b-f4ad957fd61e",
   "metadata": {},
   "source": [
    "# Part A\n",
    "You should only need to run this once, after that can simply load in the saved images as done in part B."
   ]
  },
  {
   "cell_type": "code",
   "execution_count": 2,
   "id": "c14404a2-0cc1-4354-b511-edae3599c174",
   "metadata": {},
   "outputs": [],
   "source": [
    "import matplotlib.pyplot as plt\n",
    "import matplotlib.cm as cm\n",
    "from PIL import Image, ImageOps\n",
    "Image.MAX_IMAGE_PIXELS = None\n",
    "import pandas as pd\n",
    "import random\n",
    "import numpy as np\n",
    "import os"
   ]
  },
  {
   "cell_type": "code",
   "execution_count": 3,
   "id": "2c26371f-2418-4c92-9475-3bbefc42a0fe",
   "metadata": {},
   "outputs": [],
   "source": [
    "%matplotlib widget\n",
    "\n",
    "# Open the .tif file\n",
    "img = Image.open(\"../../data_processed/morphology_focus.tif\")\n",
    "\n",
    "\n",
    "# Convert to numpy array\n",
    "image_array = np.array(img)\n",
    "\n",
    "# Calculate the quantile to scale intensity\n",
    "quantile_value = np.quantile(image_array, 0.99)\n",
    "\n",
    "# Scale intensity by dividing by the quantile\n",
    "scaled_image_array = image_array / quantile_value\n",
    "\n",
    "# Clip values greater than 1 to ensure image is within [0, 1] range\n",
    "img2 = np.clip(scaled_image_array, 0, 1)\n",
    "\n",
    "# Display the scaled image\n",
    "# plt.imshow(img2, cmap='gray')  # Uncomment this line and below to display the whole image (this runs slow)\n",
    "# plt.show()"
   ]
  },
  {
   "cell_type": "code",
   "execution_count": 5,
   "id": "2073bb61-aa55-4703-bc67-946a0fe0d9ad",
   "metadata": {},
   "outputs": [],
   "source": [
    "cell_boundaries = pd.read_csv(\"../../data_processed/cell_boundaries.csv.gz\")\n",
    "cell_boundaries['vertex_x_trans'] = cell_boundaries['vertex_x'].apply(lambda x: int(x/0.2125))\n",
    "cell_boundaries['vertex_y_trans'] = cell_boundaries['vertex_y'].apply(lambda x: int(x/0.2125))"
   ]
  },
  {
   "cell_type": "code",
   "execution_count": 6,
   "id": "f80df594-65c0-42d2-ae23-adbd7b2c527d",
   "metadata": {},
   "outputs": [
    {
     "data": {
      "text/plain": [
       "36553"
      ]
     },
     "execution_count": 6,
     "metadata": {},
     "output_type": "execute_result"
    }
   ],
   "source": [
    "clusters = pd.read_csv(\"../../data_processed/clusters.csv\")\n",
    "ncells = clusters.shape[0]\n",
    "ncells"
   ]
  },
  {
   "cell_type": "code",
   "execution_count": 7,
   "id": "3f5f1d77-d687-4497-aed5-198d9415af67",
   "metadata": {},
   "outputs": [],
   "source": [
    "img_pix = np.array(img)"
   ]
  },
  {
   "cell_type": "code",
   "execution_count": 9,
   "id": "da67cf77-541f-4439-9759-7a8e93284115",
   "metadata": {},
   "outputs": [
    {
     "name": "stdout",
     "output_type": "stream",
     "text": [
      "Displaying image for cell 30807\n",
      "Displaying image for cell 11908\n",
      "Displaying image for cell 19906\n",
      "Displaying image for cell 13120\n",
      "Displaying image for cell 26875\n"
     ]
    }
   ],
   "source": [
    "random.seed(2024)\n",
    "\n",
    "ncells_subset = 1000\n",
    "\n",
    "cells_subset = random.sample(range(ncells), ncells_subset)\n",
    "\n",
    "# clusters.loc[cells_subset, \"Cluster\"]\n",
    "\n",
    "for i in cells_subset:\n",
    "    # extract the boundary vertices for the selected cell\n",
    "    bounds_i = cell_boundaries.loc[cell_boundaries[\"cell_id\"] == i]\n",
    "\n",
    "    # extract the cluster value for the selected cell\n",
    "    clustval_i = clusters.loc[i,\"Cluster\"]\n",
    "\n",
    "    # extract the pixel intensities for the area covering the cell boundary\n",
    "    img_sub = img_pix[min(bounds_i[\"vertex_y_trans\"]):max(bounds_i[\"vertex_y_trans\"]),\n",
    "                min(bounds_i[\"vertex_x_trans\"]):max(bounds_i[\"vertex_x_trans\"])]\n",
    "\n",
    "    # normalise the pixel intensities according to 99th percentile\n",
    "    img_sub_norm = img_sub/np.quantile(img_sub, 0.99)\n",
    "\n",
    "    # as an example, display the image for the first selected cell\n",
    "    if i in cells_subset[0:5]:\n",
    "        print(f'Displaying image for cell {i}')\n",
    "        # plt.imshow(img_sub_norm, cmap=\"gray\")  # Uncomment this line and below to display sample cell images\n",
    "        # plt.show()\n",
    "\n",
    "    # create directory for images if it doesn't exist\n",
    "    cell_dir = os.path.join(os.getcwd(), '../../data_processed/cell_images_py')\n",
    "    if not os.path.exists(cell_dir):\n",
    "        os.mkdir(cell_dir)\n",
    "\n",
    "    # create directory for cluster if it doesn't exist\n",
    "    clust_dir = os.path.join(cell_dir, f'cluster_{clustval_i}')\n",
    "    if not os.path.exists(clust_dir):\n",
    "        os.mkdir(clust_dir)\n",
    "\n",
    "    # save extracted image as a png file\n",
    "    plt.imsave(os.path.join(clust_dir, f'cell_{i}.png'), img_sub_norm, cmap=\"gray\")"
   ]
  },
  {
   "cell_type": "markdown",
   "id": "5fc390c6-93a7-4f7a-8590-a815f558c372",
   "metadata": {},
   "source": [
    "# Part B"
   ]
  },
  {
   "cell_type": "code",
   "execution_count": 10,
   "id": "4a375486-9ec4-4acc-8318-89a53f6973d5",
   "metadata": {},
   "outputs": [],
   "source": [
    "import matplotlib.pyplot as plt\n",
    "import matplotlib.cm as cm\n",
    "from PIL import Image, ImageOps\n",
    "Image.MAX_IMAGE_PIXELS = None\n",
    "import pandas as pd\n",
    "import random\n",
    "import numpy as np\n",
    "import os"
   ]
  },
  {
   "cell_type": "code",
   "execution_count": 11,
   "id": "ed737d09-2bae-48d5-a218-f9ad833bef37",
   "metadata": {},
   "outputs": [],
   "source": [
    "CELL_IMAGES = os.path.abspath('../../data_processed/cell_images_py')"
   ]
  },
  {
   "cell_type": "code",
   "execution_count": 20,
   "id": "abd3805f-3bed-4407-9897-1443156124bb",
   "metadata": {},
   "outputs": [],
   "source": [
    "cluster_A_files = list(map(os.path.abspath, os.listdir(os.path.join(CELL_IMAGES, 'cluster_8'))))\n",
    "cluster_B_files = list(map(os.path.abspath, os.listdir(os.path.join(CELL_IMAGES, 'cluster_13'))))"
   ]
  }
 ],
 "metadata": {
  "kernelspec": {
   "display_name": "Python 3 (ipykernel)",
   "language": "python",
   "name": "python3"
  },
  "language_info": {
   "codemirror_mode": {
    "name": "ipython",
    "version": 3
   },
   "file_extension": ".py",
   "mimetype": "text/x-python",
   "name": "python",
   "nbconvert_exporter": "python",
   "pygments_lexer": "ipython3",
   "version": "3.10.0"
  }
 },
 "nbformat": 4,
 "nbformat_minor": 5
}
