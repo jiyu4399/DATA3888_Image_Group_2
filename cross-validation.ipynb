version https://git-lfs.github.com/spec/v1
oid sha256:b0e836c5c8e54c597b9b9d397b9b8a724cbdb0fa052e64ec232ad522fede463c
size 5505700
